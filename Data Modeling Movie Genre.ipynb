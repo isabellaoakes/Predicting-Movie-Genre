{
 "cells": [
  {
   "cell_type": "markdown",
   "metadata": {},
   "source": [
    "## Movie Genre Prediction\n",
    "### Isabella Oakes, Sarah Alqaysi, and Omar Elfeky\n",
    "### https://github.com/isabellaoakes/Predicting-Movie-Genre"
   ]
  },
  {
   "cell_type": "code",
   "execution_count": 1,
   "metadata": {},
   "outputs": [],
   "source": [
    "# Load packages\n",
    "import warnings\n",
    "\n",
    "# Suppress warning messages\n",
    "warnings.filterwarnings('ignore')\n",
    "\n",
    "import imdb\n",
    "# import IMDbPY as imdb\n",
    "import pandas as pd\n",
    "import json\n",
    "import nltk\n",
    "import os\n",
    "import re\n",
    "import emoji\n",
    "import spacy\n",
    "import csv\n",
    "import matplotlib.pyplot as plt \n",
    "import seaborn as sns\n",
    "import pyLDAvis\n",
    "import pyLDAvis.sklearn\n",
    "import pyLDAvis.gensim_models\n",
    "\n",
    "from collections import Counter, defaultdict\n",
    "from string import punctuation\n",
    "from sklearn.decomposition import TruncatedSVD\n",
    "from sklearn.linear_model import LogisticRegression\n",
    "from sklearn.multiclass import OneVsRestClassifier\n",
    "from sklearn.metrics import f1_score\n",
    "from tqdm import tqdm\n",
    "from sklearn.feature_extraction.text import TfidfVectorizer, CountVectorizer, TfidfTransformer\n",
    "from sklearn.decomposition import NMF, TruncatedSVD, LatentDirichletAllocation\n",
    "from sklearn.model_selection import train_test_split\n",
    "from sklearn.naive_bayes import MultinomialNB\n",
    "from spacy.lang.en.stop_words import STOP_WORDS as stopwords\n",
    "from yellowbrick.text import FreqDistVisualizer\n",
    "%matplotlib inline\n",
    "pd.set_option('display.max_colwidth', 300)\n",
    "\n",
    "from collections import Counter, defaultdict\n",
    "from string import punctuation\n",
    "from nltk.corpus import stopwords\n",
    "sw = stopwords.words(\"english\")\n",
    "stop_words = sw"
   ]
  },
  {
   "cell_type": "markdown",
   "metadata": {},
   "source": [
    "### Code for IMDb API"
   ]
  },
  {
   "cell_type": "code",
   "execution_count": 2,
   "metadata": {},
   "outputs": [],
   "source": [
    "# Create IMDb Instance\n",
    "ia = imdb.IMDb()"
   ]
  },
  {
   "cell_type": "code",
   "execution_count": 3,
   "metadata": {},
   "outputs": [
    {
     "data": {
      "text/html": [
       "<div>\n",
       "<style scoped>\n",
       "    .dataframe tbody tr th:only-of-type {\n",
       "        vertical-align: middle;\n",
       "    }\n",
       "\n",
       "    .dataframe tbody tr th {\n",
       "        vertical-align: top;\n",
       "    }\n",
       "\n",
       "    .dataframe thead th {\n",
       "        text-align: right;\n",
       "    }\n",
       "</style>\n",
       "<table border=\"1\" class=\"dataframe\">\n",
       "  <thead>\n",
       "    <tr style=\"text-align: right;\">\n",
       "      <th></th>\n",
       "      <th>Toy Story</th>\n",
       "    </tr>\n",
       "  </thead>\n",
       "  <tbody>\n",
       "    <tr>\n",
       "      <th>0</th>\n",
       "      <td>Jumanji</td>\n",
       "    </tr>\n",
       "    <tr>\n",
       "      <th>1</th>\n",
       "      <td>Grumpier Old Men</td>\n",
       "    </tr>\n",
       "    <tr>\n",
       "      <th>2</th>\n",
       "      <td>Waiting to Exhale</td>\n",
       "    </tr>\n",
       "    <tr>\n",
       "      <th>3</th>\n",
       "      <td>Father of the Bride Part II</td>\n",
       "    </tr>\n",
       "    <tr>\n",
       "      <th>4</th>\n",
       "      <td>Heat</td>\n",
       "    </tr>\n",
       "  </tbody>\n",
       "</table>\n",
       "</div>"
      ],
      "text/plain": [
       "                     Toy Story\n",
       "0                      Jumanji\n",
       "1             Grumpier Old Men\n",
       "2            Waiting to Exhale\n",
       "3  Father of the Bride Part II\n",
       "4                         Heat"
      ]
     },
     "execution_count": 3,
     "metadata": {},
     "output_type": "execute_result"
    }
   ],
   "source": [
    "# Import movie names from list\n",
    "#movienames = pd.read_csv(r'C:/UserData/z003cu8m/OneDrive - Siemens AG/Documents/Documents/Documents/Siemens/Computer Backup/Personal/MSADS/Text Mining/Week seven/movielist.csv')\n",
    "movienames = pd.read_csv(r'C:/Users/LadyBug/Documents/GitHub/Predicting-Movie-Rating/movielist.csv')\n",
    "\n",
    "movienames.head()"
   ]
  },
  {
   "cell_type": "code",
   "execution_count": 4,
   "metadata": {},
   "outputs": [],
   "source": [
    "movienameslist = movienames.values.tolist()"
   ]
  },
  {
   "cell_type": "code",
   "execution_count": 5,
   "metadata": {},
   "outputs": [],
   "source": [
    "# Pull information for movies from API\n",
    "title = []\n",
    "plot = []\n",
    "genre = []\n",
    "\n",
    "for name in movienameslist:\n",
    "    #I added this because there was an error in at least one of the names.\n",
    "    #Now only names with alphanumeric titles will be added\n",
    "    if bool(re.match('^[a-zA-Z0-9]+$',str(name) )):\n",
    "        movie = ia.search_movie(str(name))\n",
    "        movie = movie[0]\n",
    "        movie = ia.get_movie(movie.movieID)\n",
    "        title.append(name)\n",
    "        movieplot = movie.get('plot')\n",
    "        plot.append(movieplot)\n",
    "        moviegenre = movie.get('genre')\n",
    "        genre.append('moviegenre')"
   ]
  },
  {
   "cell_type": "code",
   "execution_count": 6,
   "metadata": {},
   "outputs": [],
   "source": [
    "# Combine into dataframe\n",
    "moviedata = list(zip(title, plot, genre))"
   ]
  },
  {
   "cell_type": "markdown",
   "metadata": {},
   "source": [
    "### Loading pre-pulled data"
   ]
  },
  {
   "cell_type": "code",
   "execution_count": 7,
   "metadata": {},
   "outputs": [],
   "source": [
    "#movie_meta = pd.read_csv(r'C:/UserData/z003cu8m/OneDrive - Siemens AG/Documents/Documents/Documents/Siemens/Computer Backup/Personal/MSADS/Text Mining/Week seven/movies_metadata.csv')\n",
    "#movie_meta = pd.read_csv(r'C:/Users/LadyBug/Documents/GitHub/Predicting-Movie-Rating/movies_data.csv')\n",
    "movie_meta = pd.read_csv(r'C:/Users/LadyBug/Documents/GitHub/Predicting-Movie-Rating/movies_data.csv')"
   ]
  },
  {
   "cell_type": "code",
   "execution_count": 8,
   "metadata": {},
   "outputs": [],
   "source": [
    "#movie_meta['genres'] = movie_meta['genres'].apply(lambda x: [i['name'] for i in eval(x)])\n",
    "#movie_meta['genres'] = movie_meta['genres'].apply(lambda x: ' '.join([i.replace(\" \", \"\") for i in x]))\n",
    "#movie_meta['genres']"
   ]
  },
  {
   "cell_type": "markdown",
   "metadata": {},
   "source": [
    "### Data Exploration and Pre-processing"
   ]
  },
  {
   "cell_type": "code",
   "execution_count": 9,
   "metadata": {},
   "outputs": [],
   "source": [
    "# extracting titles, genres and movie overview\n",
    "\n",
    "movie_meta_new = movie_meta[[\"title\", \"genres\", \"overview\"]]\n",
    "\n",
    "#This is the first step to be able to convert the json. We need to replace single quotes with double quotes.\n",
    "movie_meta_new = movie_meta_new.replace(\"'\",'\"', regex=True)\n",
    "\n",
    "#Previously I had this as the first step but there is a warning/potential bug if we do it this way. I'm leaving it as a warning, lol.\n",
    "#movie_meta_new['genres'] = movie_meta_new['genres'].str.replace(\"'\",'\"')\n",
    "\n",
    "\n",
    "nice_genres =[]\n",
    "unique_genres =[]\n",
    "for row in movie_meta_new['genres']:\n",
    "    #Now that the genres has quotes it can be converted from a string to a json dictionary\n",
    "    dict_row = json.loads(row)\n",
    "    #After being converted to a json dictionary we can use a json pandas parser to make it into a dataframe\n",
    "    df_row = pd.json_normalize(dict_row)\n",
    "    #Some of the json fields are empty inside which causes an error once we finish all the parsings and try to add it to the list \n",
    "    if not df_row.empty:\n",
    "        list_row = df_row[\"name\"].to_list()\n",
    "        unique_genres.append( list_row[0])\n",
    "        nice_genres.append( list_row)\n",
    "    #We have to add a null to the list where the json field is empty so we don't mess with the structure of the dataframe\n",
    "    else:\n",
    "        nice_genres.append(float(\"NaN\"))\n",
    "        unique_genres.append( float(\"NaN\"))\n",
    "\n",
    "movie_meta_new[\"unique_genres\"]=unique_genres\n",
    "movie_meta_new[\"nice_genres\"]=nice_genres"
   ]
  },
  {
   "cell_type": "code",
   "execution_count": 10,
   "metadata": {
    "scrolled": true
   },
   "outputs": [
    {
     "data": {
      "text/html": [
       "<div>\n",
       "<style scoped>\n",
       "    .dataframe tbody tr th:only-of-type {\n",
       "        vertical-align: middle;\n",
       "    }\n",
       "\n",
       "    .dataframe tbody tr th {\n",
       "        vertical-align: top;\n",
       "    }\n",
       "\n",
       "    .dataframe thead th {\n",
       "        text-align: right;\n",
       "    }\n",
       "</style>\n",
       "<table border=\"1\" class=\"dataframe\">\n",
       "  <thead>\n",
       "    <tr style=\"text-align: right;\">\n",
       "      <th></th>\n",
       "      <th>title</th>\n",
       "      <th>genres</th>\n",
       "      <th>overview</th>\n",
       "      <th>unique_genres</th>\n",
       "      <th>nice_genres</th>\n",
       "    </tr>\n",
       "  </thead>\n",
       "  <tbody>\n",
       "    <tr>\n",
       "      <th>0</th>\n",
       "      <td>Toy Story</td>\n",
       "      <td>[{\"id\": 16, \"name\": \"Animation\"}, {\"id\": 35, \"name\": \"Comedy\"}, {\"id\": 10751, \"name\": \"Family\"}]</td>\n",
       "      <td>Led by Woody, Andy\"s toys live happily in his room until Andy\"s birthday brings Buzz Lightyear onto the scene. Afraid of losing his place in Andy\"s heart, Woody plots against Buzz. But when circumstances separate Buzz and Woody from their owner, the duo eventually learns to put aside their diffe...</td>\n",
       "      <td>Animation</td>\n",
       "      <td>[Animation, Comedy, Family]</td>\n",
       "    </tr>\n",
       "    <tr>\n",
       "      <th>1</th>\n",
       "      <td>Jumanji</td>\n",
       "      <td>[{\"id\": 12, \"name\": \"Adventure\"}, {\"id\": 14, \"name\": \"Fantasy\"}, {\"id\": 10751, \"name\": \"Family\"}]</td>\n",
       "      <td>When siblings Judy and Peter discover an enchanted board game that opens the door to a magical world, they unwittingly invite Alan -- an adult who\"s been trapped inside the game for 26 years -- into their living room. Alan\"s only hope for freedom is to finish the game, which proves risky as all ...</td>\n",
       "      <td>Adventure</td>\n",
       "      <td>[Adventure, Fantasy, Family]</td>\n",
       "    </tr>\n",
       "    <tr>\n",
       "      <th>2</th>\n",
       "      <td>Grumpier Old Men</td>\n",
       "      <td>[{\"id\": 10749, \"name\": \"Romance\"}, {\"id\": 35, \"name\": \"Comedy\"}]</td>\n",
       "      <td>A family wedding reignites the ancient feud between next-door neighbors and fishing buddies John and Max. Meanwhile, a sultry Italian divorcée opens a restaurant at the local bait shop, alarming the locals who worry she\"ll scare the fish away. But she\"s less interested in seafood than she is in ...</td>\n",
       "      <td>Romance</td>\n",
       "      <td>[Romance, Comedy]</td>\n",
       "    </tr>\n",
       "    <tr>\n",
       "      <th>3</th>\n",
       "      <td>Waiting to Exhale</td>\n",
       "      <td>[{\"id\": 35, \"name\": \"Comedy\"}, {\"id\": 18, \"name\": \"Drama\"}, {\"id\": 10749, \"name\": \"Romance\"}]</td>\n",
       "      <td>Cheated on, mistreated and stepped on, the women are holding their breath, waiting for the elusive \"good man\" to break a string of less-than-stellar lovers. Friends and confidants Vannah, Bernie, Glo and Robin talk it all out, determined to find a better way to breathe.</td>\n",
       "      <td>Comedy</td>\n",
       "      <td>[Comedy, Drama, Romance]</td>\n",
       "    </tr>\n",
       "    <tr>\n",
       "      <th>4</th>\n",
       "      <td>Father of the Bride Part II</td>\n",
       "      <td>[{\"id\": 35, \"name\": \"Comedy\"}]</td>\n",
       "      <td>Just when George Banks has recovered from his daughter\"s wedding, he receives the news that she\"s pregnant ... and that George\"s wife, Nina, is expecting too. He was planning on selling their home, but that\"s a plan that -- like George -- will have to change with the arrival of both a grandchild...</td>\n",
       "      <td>Comedy</td>\n",
       "      <td>[Comedy]</td>\n",
       "    </tr>\n",
       "    <tr>\n",
       "      <th>...</th>\n",
       "      <td>...</td>\n",
       "      <td>...</td>\n",
       "      <td>...</td>\n",
       "      <td>...</td>\n",
       "      <td>...</td>\n",
       "    </tr>\n",
       "    <tr>\n",
       "      <th>45459</th>\n",
       "      <td>Caged Heat 3000</td>\n",
       "      <td>[{\"id\": 878, \"name\": \"Science Fiction\"}]</td>\n",
       "      <td>It\"s the year 3000 AD. The world\"s most dangerous women are banished to a remote asteroid 45 million light years from earth. Kira Murphy doesn\"t belong; wrongfully accused of a crime she did not commit, she\"s thrown in this interplanetary prison and left to her own defenses. But Kira\"s a fighter...</td>\n",
       "      <td>Science Fiction</td>\n",
       "      <td>[Science Fiction]</td>\n",
       "    </tr>\n",
       "    <tr>\n",
       "      <th>45460</th>\n",
       "      <td>Robin Hood</td>\n",
       "      <td>[{\"id\": 18, \"name\": \"Drama\"}, {\"id\": 28, \"name\": \"Action\"}, {\"id\": 10749, \"name\": \"Romance\"}]</td>\n",
       "      <td>Yet another version of the classic epic, with enough variation to make it interesting. The story is the same, but some of the characters are quite different from the usual, in particular Uma Thurman\"s very special maid Marian. The photography is also great, giving the story a somewhat darker tone.</td>\n",
       "      <td>Drama</td>\n",
       "      <td>[Drama, Action, Romance]</td>\n",
       "    </tr>\n",
       "    <tr>\n",
       "      <th>45461</th>\n",
       "      <td>Subdue</td>\n",
       "      <td>[{\"id\": 18, \"name\": \"Drama\"}, {\"id\": 10751, \"name\": \"Family\"}]</td>\n",
       "      <td>Rising and falling between a man and woman.</td>\n",
       "      <td>Drama</td>\n",
       "      <td>[Drama, Family]</td>\n",
       "    </tr>\n",
       "    <tr>\n",
       "      <th>45462</th>\n",
       "      <td>Century of Birthing</td>\n",
       "      <td>[{\"id\": 18, \"name\": \"Drama\"}]</td>\n",
       "      <td>An artist struggles to finish his work while a storyline about a cult plays in his head.</td>\n",
       "      <td>Drama</td>\n",
       "      <td>[Drama]</td>\n",
       "    </tr>\n",
       "    <tr>\n",
       "      <th>45463</th>\n",
       "      <td>Betrayal</td>\n",
       "      <td>[{\"id\": 28, \"name\": \"Action\"}, {\"id\": 18, \"name\": \"Drama\"}, {\"id\": 53, \"name\": \"Thriller\"}]</td>\n",
       "      <td>When one of her hits goes wrong, a professional assassin ends up with a suitcase full of a million dollars belonging to a mob boss ...</td>\n",
       "      <td>Action</td>\n",
       "      <td>[Action, Drama, Thriller]</td>\n",
       "    </tr>\n",
       "  </tbody>\n",
       "</table>\n",
       "<p>39979 rows × 5 columns</p>\n",
       "</div>"
      ],
      "text/plain": [
       "                             title  \\\n",
       "0                        Toy Story   \n",
       "1                          Jumanji   \n",
       "2                 Grumpier Old Men   \n",
       "3                Waiting to Exhale   \n",
       "4      Father of the Bride Part II   \n",
       "...                            ...   \n",
       "45459              Caged Heat 3000   \n",
       "45460                   Robin Hood   \n",
       "45461                       Subdue   \n",
       "45462          Century of Birthing   \n",
       "45463                     Betrayal   \n",
       "\n",
       "                                                                                                  genres  \\\n",
       "0       [{\"id\": 16, \"name\": \"Animation\"}, {\"id\": 35, \"name\": \"Comedy\"}, {\"id\": 10751, \"name\": \"Family\"}]   \n",
       "1      [{\"id\": 12, \"name\": \"Adventure\"}, {\"id\": 14, \"name\": \"Fantasy\"}, {\"id\": 10751, \"name\": \"Family\"}]   \n",
       "2                                       [{\"id\": 10749, \"name\": \"Romance\"}, {\"id\": 35, \"name\": \"Comedy\"}]   \n",
       "3          [{\"id\": 35, \"name\": \"Comedy\"}, {\"id\": 18, \"name\": \"Drama\"}, {\"id\": 10749, \"name\": \"Romance\"}]   \n",
       "4                                                                         [{\"id\": 35, \"name\": \"Comedy\"}]   \n",
       "...                                                                                                  ...   \n",
       "45459                                                           [{\"id\": 878, \"name\": \"Science Fiction\"}]   \n",
       "45460      [{\"id\": 18, \"name\": \"Drama\"}, {\"id\": 28, \"name\": \"Action\"}, {\"id\": 10749, \"name\": \"Romance\"}]   \n",
       "45461                                     [{\"id\": 18, \"name\": \"Drama\"}, {\"id\": 10751, \"name\": \"Family\"}]   \n",
       "45462                                                                      [{\"id\": 18, \"name\": \"Drama\"}]   \n",
       "45463        [{\"id\": 28, \"name\": \"Action\"}, {\"id\": 18, \"name\": \"Drama\"}, {\"id\": 53, \"name\": \"Thriller\"}]   \n",
       "\n",
       "                                                                                                                                                                                                                                                                                                          overview  \\\n",
       "0      Led by Woody, Andy\"s toys live happily in his room until Andy\"s birthday brings Buzz Lightyear onto the scene. Afraid of losing his place in Andy\"s heart, Woody plots against Buzz. But when circumstances separate Buzz and Woody from their owner, the duo eventually learns to put aside their diffe...   \n",
       "1      When siblings Judy and Peter discover an enchanted board game that opens the door to a magical world, they unwittingly invite Alan -- an adult who\"s been trapped inside the game for 26 years -- into their living room. Alan\"s only hope for freedom is to finish the game, which proves risky as all ...   \n",
       "2      A family wedding reignites the ancient feud between next-door neighbors and fishing buddies John and Max. Meanwhile, a sultry Italian divorcée opens a restaurant at the local bait shop, alarming the locals who worry she\"ll scare the fish away. But she\"s less interested in seafood than she is in ...   \n",
       "3                                   Cheated on, mistreated and stepped on, the women are holding their breath, waiting for the elusive \"good man\" to break a string of less-than-stellar lovers. Friends and confidants Vannah, Bernie, Glo and Robin talk it all out, determined to find a better way to breathe.   \n",
       "4      Just when George Banks has recovered from his daughter\"s wedding, he receives the news that she\"s pregnant ... and that George\"s wife, Nina, is expecting too. He was planning on selling their home, but that\"s a plan that -- like George -- will have to change with the arrival of both a grandchild...   \n",
       "...                                                                                                                                                                                                                                                                                                            ...   \n",
       "45459  It\"s the year 3000 AD. The world\"s most dangerous women are banished to a remote asteroid 45 million light years from earth. Kira Murphy doesn\"t belong; wrongfully accused of a crime she did not commit, she\"s thrown in this interplanetary prison and left to her own defenses. But Kira\"s a fighter...   \n",
       "45460   Yet another version of the classic epic, with enough variation to make it interesting. The story is the same, but some of the characters are quite different from the usual, in particular Uma Thurman\"s very special maid Marian. The photography is also great, giving the story a somewhat darker tone.   \n",
       "45461                                                                                                                                                                                                                                                                  Rising and falling between a man and woman.   \n",
       "45462                                                                                                                                                                                                                     An artist struggles to finish his work while a storyline about a cult plays in his head.   \n",
       "45463                                                                                                                                                                       When one of her hits goes wrong, a professional assassin ends up with a suitcase full of a million dollars belonging to a mob boss ...   \n",
       "\n",
       "         unique_genres                   nice_genres  \n",
       "0            Animation   [Animation, Comedy, Family]  \n",
       "1            Adventure  [Adventure, Fantasy, Family]  \n",
       "2              Romance             [Romance, Comedy]  \n",
       "3               Comedy      [Comedy, Drama, Romance]  \n",
       "4               Comedy                      [Comedy]  \n",
       "...                ...                           ...  \n",
       "45459  Science Fiction             [Science Fiction]  \n",
       "45460            Drama      [Drama, Action, Romance]  \n",
       "45461            Drama               [Drama, Family]  \n",
       "45462            Drama                       [Drama]  \n",
       "45463           Action     [Action, Drama, Thriller]  \n",
       "\n",
       "[39979 rows x 5 columns]"
      ]
     },
     "execution_count": 10,
     "metadata": {},
     "output_type": "execute_result"
    }
   ],
   "source": [
    "#Remove low count genres\n",
    "# Get the count of each value\n",
    "value_counts = movie_meta_new['nice_genres'].value_counts()\n",
    "\n",
    "# Select the values where the count is less than 2 \n",
    "to_remove = value_counts[value_counts < 2].index\n",
    "\n",
    "# Keep rows where the city column is not in to_remove\n",
    "movie_meta_new = movie_meta_new[~movie_meta_new.nice_genres.isin(to_remove)]\n",
    "\n",
    "# movie_meta_new.drop(movie_meta_new.loc[movie_meta_new['nice_genres']== 'Odyssey Media'].index, inplace=True)\n",
    "#Now we can drop those empty fields which we converted into nulls.\n",
    "movie_meta_new = movie_meta_new.dropna()\n",
    "#movie_meta_new.loc[movie_meta_new['unique_genres'] == 'NaN']\n",
    "movie_meta_new\n"
   ]
  },
  {
   "cell_type": "code",
   "execution_count": 11,
   "metadata": {},
   "outputs": [
    {
     "data": {
      "text/plain": [
       "0              Animation\n",
       "1              Adventure\n",
       "2                Romance\n",
       "3                 Comedy\n",
       "4                 Comedy\n",
       "              ...       \n",
       "45459    Science Fiction\n",
       "45460              Drama\n",
       "45461              Drama\n",
       "45462              Drama\n",
       "45463             Action\n",
       "Name: singlegenre, Length: 39979, dtype: object"
      ]
     },
     "execution_count": 11,
     "metadata": {},
     "output_type": "execute_result"
    }
   ],
   "source": [
    "# Removing secondary genres\n",
    "movie_meta_new[\"singlegenre\"] = movie_meta_new[\"unique_genres\"]\n",
    "\n",
    "movie_meta_new[\"singlegenre\"]"
   ]
  },
  {
   "cell_type": "code",
   "execution_count": 12,
   "metadata": {},
   "outputs": [
    {
     "data": {
      "text/plain": [
       "array(['Animation', 'Adventure', 'Romance', 'Comedy', 'Action', 'Family',\n",
       "       'History', 'Drama', 'Crime', 'Fantasy', 'Thriller', 'Horror',\n",
       "       'Documentary', 'Music', 'Mystery', 'Science Fiction', 'Western',\n",
       "       'War', 'TV Movie', 'Foreign'], dtype=object)"
      ]
     },
     "execution_count": 12,
     "metadata": {},
     "output_type": "execute_result"
    }
   ],
   "source": [
    "movie_meta_new.unique_genres.unique()"
   ]
  },
  {
   "cell_type": "markdown",
   "metadata": {},
   "source": [
    "### Genre Cleaning"
   ]
  },
  {
   "cell_type": "code",
   "execution_count": 13,
   "metadata": {},
   "outputs": [],
   "source": [
    "# Combining categories and dropping some to limit the number of genres to 8\n",
    "movie_meta_new['singlegenre'] = movie_meta_new['singlegenre'].replace({\n",
    "    'Drama' : 'Drama/Mystery',\n",
    "    'Action' : 'Action/Adventure',\n",
    "    'Adventure' : 'Action/Adventure',\n",
    "    'Mystery' : 'Drama/Mystery',\n",
    "    'War' : 'Documentary/History/War',\n",
    "    'Documentary' : 'Documentary/History/War',\n",
    "    'History' : 'Documentary/History/War',\n",
    "    'Horror' : 'Horror/Crime/Thriller',\n",
    "    'Crime' : 'Horror/Crime/Thriller',\n",
    "    'Thriller' : 'Horror/Crime/Thriller',\n",
    "    'Animation' : 'Animation/Family',\n",
    "    'Family' : 'Animation/Family',\n",
    "    'Science Fiction' : 'Science Fiction/Fantasy',\n",
    "    'Fantasy' : 'Science Fiction/Fantasy'   \n",
    "})\n",
    "\n",
    "movie_meta_new = movie_meta_new[~movie_meta_new['singlegenre'].isin(['Music', 'Western', 'TV Movie', 'Foreign', 'Carousel Productions', 'Aniplex'])]"
   ]
  },
  {
   "cell_type": "markdown",
   "metadata": {},
   "source": [
    "### Data Cleaning and Tokenization"
   ]
  },
  {
   "cell_type": "code",
   "execution_count": 14,
   "metadata": {},
   "outputs": [
    {
     "name": "stderr",
     "output_type": "stream",
     "text": [
      "<>:16: DeprecationWarning: invalid escape sequence \\s\n",
      "<>:16: DeprecationWarning: invalid escape sequence \\s\n",
      "<ipython-input-14-6c3b1104caab>:16: DeprecationWarning: invalid escape sequence \\s\n",
      "  return( re.split('\\s+', text) )\n"
     ]
    }
   ],
   "source": [
    "# Data cleaning\n",
    "\n",
    "# Some punctuation variations\n",
    "punctuation = set(punctuation) \n",
    "# stop_words = set(stopwords.words('english'))\n",
    "\n",
    "def remove_stopwords(text):\n",
    "    no_stopword_text = [w for w in text.split() if not w in stop_words]\n",
    "    return ' '.join(no_stopword_text)\n",
    " \n",
    "def remove_punctuation(text, punct_set= punctuation) : \n",
    "    return(\"\".join([ch for ch in text if ch not in punct_set]))\n",
    "\n",
    "def tokenize(text) : \n",
    "    \n",
    "    return( re.split('\\s+', text) )\n",
    "\n",
    "def prepare(text, pipeline) : \n",
    "    tokens = str(text)\n",
    "    \n",
    "    for transform in pipeline : \n",
    "        tokens = transform(tokens)\n",
    "        \n",
    "    return(tokens)\n"
   ]
  },
  {
   "cell_type": "code",
   "execution_count": 15,
   "metadata": {},
   "outputs": [
    {
     "data": {
      "text/html": [
       "<div>\n",
       "<style scoped>\n",
       "    .dataframe tbody tr th:only-of-type {\n",
       "        vertical-align: middle;\n",
       "    }\n",
       "\n",
       "    .dataframe tbody tr th {\n",
       "        vertical-align: top;\n",
       "    }\n",
       "\n",
       "    .dataframe thead th {\n",
       "        text-align: right;\n",
       "    }\n",
       "</style>\n",
       "<table border=\"1\" class=\"dataframe\">\n",
       "  <thead>\n",
       "    <tr style=\"text-align: right;\">\n",
       "      <th></th>\n",
       "      <th>title</th>\n",
       "      <th>genres</th>\n",
       "      <th>overview</th>\n",
       "      <th>unique_genres</th>\n",
       "      <th>nice_genres</th>\n",
       "      <th>singlegenre</th>\n",
       "      <th>tokenized</th>\n",
       "    </tr>\n",
       "  </thead>\n",
       "  <tbody>\n",
       "    <tr>\n",
       "      <th>0</th>\n",
       "      <td>Toy Story</td>\n",
       "      <td>[{\"id\": 16, \"name\": \"Animation\"}, {\"id\": 35, \"name\": \"Comedy\"}, {\"id\": 10751, \"name\": \"Family\"}]</td>\n",
       "      <td>led woody andys toys live happily room andys birthday brings buzz lightyear onto scene afraid losing place andys heart woody plots buzz circumstances separate buzz woody owner duo eventually learns put aside differences</td>\n",
       "      <td>Animation</td>\n",
       "      <td>[Animation, Comedy, Family]</td>\n",
       "      <td>Animation/Family</td>\n",
       "      <td>[led, woody, andys, toys, live, happily, room, andys, birthday, brings, buzz, lightyear, onto, scene, afraid, losing, place, andys, heart, woody, plots, buzz, circumstances, separate, buzz, woody, owner, duo, eventually, learns, put, aside, differences]</td>\n",
       "    </tr>\n",
       "    <tr>\n",
       "      <th>1</th>\n",
       "      <td>Jumanji</td>\n",
       "      <td>[{\"id\": 12, \"name\": \"Adventure\"}, {\"id\": 14, \"name\": \"Fantasy\"}, {\"id\": 10751, \"name\": \"Family\"}]</td>\n",
       "      <td>siblings judy peter discover enchanted board game opens door magical world unwittingly invite alan adult whos trapped inside game 26 years living room alans hope freedom finish game proves risky three find running giant rhinoceroses evil monkeys terrifying creatures</td>\n",
       "      <td>Adventure</td>\n",
       "      <td>[Adventure, Fantasy, Family]</td>\n",
       "      <td>Action/Adventure</td>\n",
       "      <td>[siblings, judy, peter, discover, enchanted, board, game, opens, door, magical, world, unwittingly, invite, alan, adult, whos, trapped, inside, game, 26, years, living, room, alans, hope, freedom, finish, game, proves, risky, three, find, running, giant, rhinoceroses, evil, monkeys, terrifying, ...</td>\n",
       "    </tr>\n",
       "    <tr>\n",
       "      <th>2</th>\n",
       "      <td>Grumpier Old Men</td>\n",
       "      <td>[{\"id\": 10749, \"name\": \"Romance\"}, {\"id\": 35, \"name\": \"Comedy\"}]</td>\n",
       "      <td>family wedding reignites ancient feud nextdoor neighbors fishing buddies john max meanwhile sultry italian divorcée opens restaurant local bait shop alarming locals worry shell scare fish away shes less interested seafood cooking hot time max</td>\n",
       "      <td>Romance</td>\n",
       "      <td>[Romance, Comedy]</td>\n",
       "      <td>Romance</td>\n",
       "      <td>[family, wedding, reignites, ancient, feud, nextdoor, neighbors, fishing, buddies, john, max, meanwhile, sultry, italian, divorcée, opens, restaurant, local, bait, shop, alarming, locals, worry, shell, scare, fish, away, shes, less, interested, seafood, cooking, hot, time, max]</td>\n",
       "    </tr>\n",
       "    <tr>\n",
       "      <th>3</th>\n",
       "      <td>Waiting to Exhale</td>\n",
       "      <td>[{\"id\": 35, \"name\": \"Comedy\"}, {\"id\": 18, \"name\": \"Drama\"}, {\"id\": 10749, \"name\": \"Romance\"}]</td>\n",
       "      <td>cheated mistreated stepped women holding breath waiting elusive good man break string lessthanstellar lovers friends confidants vannah bernie glo robin talk determined find better way breathe</td>\n",
       "      <td>Comedy</td>\n",
       "      <td>[Comedy, Drama, Romance]</td>\n",
       "      <td>Comedy</td>\n",
       "      <td>[cheated, mistreated, stepped, women, holding, breath, waiting, elusive, good, man, break, string, lessthanstellar, lovers, friends, confidants, vannah, bernie, glo, robin, talk, determined, find, better, way, breathe]</td>\n",
       "    </tr>\n",
       "    <tr>\n",
       "      <th>4</th>\n",
       "      <td>Father of the Bride Part II</td>\n",
       "      <td>[{\"id\": 35, \"name\": \"Comedy\"}]</td>\n",
       "      <td>george banks recovered daughters wedding receives news shes pregnant georges wife nina expecting planning selling home thats plan like george change arrival grandchild kid</td>\n",
       "      <td>Comedy</td>\n",
       "      <td>[Comedy]</td>\n",
       "      <td>Comedy</td>\n",
       "      <td>[george, banks, recovered, daughters, wedding, receives, news, shes, pregnant, georges, wife, nina, expecting, planning, selling, home, thats, plan, like, george, change, arrival, grandchild, kid]</td>\n",
       "    </tr>\n",
       "  </tbody>\n",
       "</table>\n",
       "</div>"
      ],
      "text/plain": [
       "                         title  \\\n",
       "0                    Toy Story   \n",
       "1                      Jumanji   \n",
       "2             Grumpier Old Men   \n",
       "3            Waiting to Exhale   \n",
       "4  Father of the Bride Part II   \n",
       "\n",
       "                                                                                              genres  \\\n",
       "0   [{\"id\": 16, \"name\": \"Animation\"}, {\"id\": 35, \"name\": \"Comedy\"}, {\"id\": 10751, \"name\": \"Family\"}]   \n",
       "1  [{\"id\": 12, \"name\": \"Adventure\"}, {\"id\": 14, \"name\": \"Fantasy\"}, {\"id\": 10751, \"name\": \"Family\"}]   \n",
       "2                                   [{\"id\": 10749, \"name\": \"Romance\"}, {\"id\": 35, \"name\": \"Comedy\"}]   \n",
       "3      [{\"id\": 35, \"name\": \"Comedy\"}, {\"id\": 18, \"name\": \"Drama\"}, {\"id\": 10749, \"name\": \"Romance\"}]   \n",
       "4                                                                     [{\"id\": 35, \"name\": \"Comedy\"}]   \n",
       "\n",
       "                                                                                                                                                                                                                                                                     overview  \\\n",
       "0                                                 led woody andys toys live happily room andys birthday brings buzz lightyear onto scene afraid losing place andys heart woody plots buzz circumstances separate buzz woody owner duo eventually learns put aside differences   \n",
       "1  siblings judy peter discover enchanted board game opens door magical world unwittingly invite alan adult whos trapped inside game 26 years living room alans hope freedom finish game proves risky three find running giant rhinoceroses evil monkeys terrifying creatures   \n",
       "2                          family wedding reignites ancient feud nextdoor neighbors fishing buddies john max meanwhile sultry italian divorcée opens restaurant local bait shop alarming locals worry shell scare fish away shes less interested seafood cooking hot time max   \n",
       "3                                                                             cheated mistreated stepped women holding breath waiting elusive good man break string lessthanstellar lovers friends confidants vannah bernie glo robin talk determined find better way breathe   \n",
       "4                                                                                                 george banks recovered daughters wedding receives news shes pregnant georges wife nina expecting planning selling home thats plan like george change arrival grandchild kid   \n",
       "\n",
       "  unique_genres                   nice_genres       singlegenre  \\\n",
       "0     Animation   [Animation, Comedy, Family]  Animation/Family   \n",
       "1     Adventure  [Adventure, Fantasy, Family]  Action/Adventure   \n",
       "2       Romance             [Romance, Comedy]           Romance   \n",
       "3        Comedy      [Comedy, Drama, Romance]            Comedy   \n",
       "4        Comedy                      [Comedy]            Comedy   \n",
       "\n",
       "                                                                                                                                                                                                                                                                                                     tokenized  \n",
       "0                                                [led, woody, andys, toys, live, happily, room, andys, birthday, brings, buzz, lightyear, onto, scene, afraid, losing, place, andys, heart, woody, plots, buzz, circumstances, separate, buzz, woody, owner, duo, eventually, learns, put, aside, differences]  \n",
       "1  [siblings, judy, peter, discover, enchanted, board, game, opens, door, magical, world, unwittingly, invite, alan, adult, whos, trapped, inside, game, 26, years, living, room, alans, hope, freedom, finish, game, proves, risky, three, find, running, giant, rhinoceroses, evil, monkeys, terrifying, ...  \n",
       "2                       [family, wedding, reignites, ancient, feud, nextdoor, neighbors, fishing, buddies, john, max, meanwhile, sultry, italian, divorcée, opens, restaurant, local, bait, shop, alarming, locals, worry, shell, scare, fish, away, shes, less, interested, seafood, cooking, hot, time, max]  \n",
       "3                                                                                   [cheated, mistreated, stepped, women, holding, breath, waiting, elusive, good, man, break, string, lessthanstellar, lovers, friends, confidants, vannah, bernie, glo, robin, talk, determined, find, better, way, breathe]  \n",
       "4                                                                                                         [george, banks, recovered, daughters, wedding, receives, news, shes, pregnant, georges, wife, nina, expecting, planning, selling, home, thats, plan, like, george, change, arrival, grandchild, kid]  "
      ]
     },
     "execution_count": 15,
     "metadata": {},
     "output_type": "execute_result"
    }
   ],
   "source": [
    "# apply the `pipeline` technique \n",
    "\n",
    "my_pipeline_overview = [str.lower, remove_punctuation, remove_stopwords]\n",
    "my_pipeline_tokenized = [str.lower, remove_punctuation, remove_stopwords,tokenize]\n",
    "\n",
    "movie_meta_new[\"overview\"] = movie_meta_new[\"overview\"].apply(prepare,pipeline=my_pipeline_overview)\n",
    "movie_meta_new[\"tokenized\"] = movie_meta_new[\"overview\"].apply(prepare,pipeline=my_pipeline_tokenized)\n",
    "movie_meta_new.head() "
   ]
  },
  {
   "cell_type": "markdown",
   "metadata": {},
   "source": [
    "### Running Descriptive Statistics"
   ]
  },
  {
   "cell_type": "code",
   "execution_count": 16,
   "metadata": {},
   "outputs": [],
   "source": [
    "# Code for Descriptive Statistics\n",
    "\n",
    "def descriptive_stats(tokens, num_tokens = 5, verbose=True) :\n",
    "\n",
    "    # Fill in the correct values here. \n",
    "    num_characters = len(tokens) - tokens.count(\" \")\n",
    "    paragraph = re.sub(r'[^\\w\\s]', '', tokens)\n",
    "    words = paragraph.split()\n",
    "    num_tokens = len(words)\n",
    "    uniquewords = Counter(words)\n",
    "    num_unique_tokens = len(uniquewords)\n",
    "    lexical_diversity = num_unique_tokens/num_tokens\n",
    "    uniquewordlist = uniquewords.most_common(5)\n",
    "    \n",
    "    if verbose :        \n",
    "        print(f\"There are {num_tokens} tokens in the data.\")\n",
    "        print(f\"There are {num_unique_tokens} unique tokens in the data.\")\n",
    "        print(f\"There are {num_characters} characters in the data.\")\n",
    "        print(f\"The lexical diversity is {lexical_diversity:.3f} in the data.\")\n",
    "    \n",
    "    # print the five most common tokens\n",
    "        print(f\"The five most common tokens are:\")\n",
    "        print(uniquewordlist)\n",
    "        \n",
    "    return([num_tokens, num_unique_tokens,\n",
    "            lexical_diversity,\n",
    "            num_characters])"
   ]
  },
  {
   "cell_type": "code",
   "execution_count": 17,
   "metadata": {},
   "outputs": [],
   "source": [
    "# Arrange tokens in a list for descriptive statistics\n",
    "movieplotnew = []\n",
    "movieplot = movie_meta_new['overview'].values.tolist()\n",
    "for item in movieplot:\n",
    "    plot = item\n",
    "    newplot = str.split(plot)\n",
    "    movieplotnew.append(newplot)"
   ]
  },
  {
   "cell_type": "code",
   "execution_count": 18,
   "metadata": {},
   "outputs": [
    {
     "name": "stdout",
     "output_type": "stream",
     "text": [
      "The descriptive statistics for the movie plots are:\n",
      "There are 1219282 tokens in the data.\n",
      "There are 84043 unique tokens in the data.\n",
      "There are 11328840 characters in the data.\n",
      "The lexical diversity is 0.069 in the data.\n",
      "The five most common tokens are:\n",
      "[('life', 6615), ('one', 6273), ('young', 5660), ('new', 4927), ('film', 4794)]\n"
     ]
    },
    {
     "data": {
      "text/plain": [
       "[1219282, 84043, 0.06892827090041516, 11328840]"
      ]
     },
     "execution_count": 18,
     "metadata": {},
     "output_type": "execute_result"
    }
   ],
   "source": [
    "# Generate descriptive statistics\n",
    "print('The descriptive statistics for the movie plots are:')\n",
    "descriptive_stats(str(movieplotnew), verbose=True)"
   ]
  },
  {
   "cell_type": "code",
   "execution_count": 19,
   "metadata": {},
   "outputs": [],
   "source": [
    "movie_meta_new.drop(['genres'], axis=1, inplace=True)\n",
    "#movie_meta_new.columns"
   ]
  },
  {
   "cell_type": "code",
   "execution_count": 20,
   "metadata": {},
   "outputs": [
    {
     "data": {
      "text/plain": [
       "0               Animation/Family\n",
       "1               Action/Adventure\n",
       "2                        Romance\n",
       "3                         Comedy\n",
       "4                         Comedy\n",
       "                  ...           \n",
       "45459    Science Fiction/Fantasy\n",
       "45460              Drama/Mystery\n",
       "45461              Drama/Mystery\n",
       "45462              Drama/Mystery\n",
       "45463           Action/Adventure\n",
       "Name: singlegenre, Length: 38774, dtype: object"
      ]
     },
     "execution_count": 20,
     "metadata": {},
     "output_type": "execute_result"
    }
   ],
   "source": [
    "movie_meta_new['singlegenre']"
   ]
  },
  {
   "cell_type": "markdown",
   "metadata": {},
   "source": [
    "### Visualizing the genre frequency:"
   ]
  },
  {
   "cell_type": "code",
   "execution_count": 21,
   "metadata": {},
   "outputs": [
    {
     "data": {
      "text/html": [
       "<div>\n",
       "<style scoped>\n",
       "    .dataframe tbody tr th:only-of-type {\n",
       "        vertical-align: middle;\n",
       "    }\n",
       "\n",
       "    .dataframe tbody tr th {\n",
       "        vertical-align: top;\n",
       "    }\n",
       "\n",
       "    .dataframe thead th {\n",
       "        text-align: right;\n",
       "    }\n",
       "</style>\n",
       "<table border=\"1\" class=\"dataframe\">\n",
       "  <thead>\n",
       "    <tr style=\"text-align: right;\">\n",
       "      <th></th>\n",
       "      <th>title</th>\n",
       "      <th>overview</th>\n",
       "      <th>unique_genres</th>\n",
       "      <th>nice_genres</th>\n",
       "      <th>singlegenre</th>\n",
       "      <th>tokenized</th>\n",
       "    </tr>\n",
       "  </thead>\n",
       "  <tbody>\n",
       "    <tr>\n",
       "      <th>45459</th>\n",
       "      <td>Caged Heat 3000</td>\n",
       "      <td>year 3000 ad worlds dangerous women banished remote asteroid 45 million light years earth kira murphy doesnt belong wrongfully accused crime commit shes thrown interplanetary prison left defenses kiras fighter soon finds middle female gang war everyone wants piece action piece caged heat 3000 ta...</td>\n",
       "      <td>Science Fiction</td>\n",
       "      <td>[Science Fiction]</td>\n",
       "      <td>Science Fiction/Fantasy</td>\n",
       "      <td>[year, 3000, ad, worlds, dangerous, women, banished, remote, asteroid, 45, million, light, years, earth, kira, murphy, doesnt, belong, wrongfully, accused, crime, commit, shes, thrown, interplanetary, prison, left, defenses, kiras, fighter, soon, finds, middle, female, gang, war, everyone, wants...</td>\n",
       "    </tr>\n",
       "    <tr>\n",
       "      <th>45460</th>\n",
       "      <td>Robin Hood</td>\n",
       "      <td>yet another version classic epic enough variation make interesting story characters quite different usual particular uma thurmans special maid marian photography also great giving story somewhat darker tone</td>\n",
       "      <td>Drama</td>\n",
       "      <td>[Drama, Action, Romance]</td>\n",
       "      <td>Drama/Mystery</td>\n",
       "      <td>[yet, another, version, classic, epic, enough, variation, make, interesting, story, characters, quite, different, usual, particular, uma, thurmans, special, maid, marian, photography, also, great, giving, story, somewhat, darker, tone]</td>\n",
       "    </tr>\n",
       "    <tr>\n",
       "      <th>45461</th>\n",
       "      <td>Subdue</td>\n",
       "      <td>rising falling man woman</td>\n",
       "      <td>Drama</td>\n",
       "      <td>[Drama, Family]</td>\n",
       "      <td>Drama/Mystery</td>\n",
       "      <td>[rising, falling, man, woman]</td>\n",
       "    </tr>\n",
       "    <tr>\n",
       "      <th>45462</th>\n",
       "      <td>Century of Birthing</td>\n",
       "      <td>artist struggles finish work storyline cult plays head</td>\n",
       "      <td>Drama</td>\n",
       "      <td>[Drama]</td>\n",
       "      <td>Drama/Mystery</td>\n",
       "      <td>[artist, struggles, finish, work, storyline, cult, plays, head]</td>\n",
       "    </tr>\n",
       "    <tr>\n",
       "      <th>45463</th>\n",
       "      <td>Betrayal</td>\n",
       "      <td>one hits goes wrong professional assassin ends suitcase full million dollars belonging mob boss</td>\n",
       "      <td>Action</td>\n",
       "      <td>[Action, Drama, Thriller]</td>\n",
       "      <td>Action/Adventure</td>\n",
       "      <td>[one, hits, goes, wrong, professional, assassin, ends, suitcase, full, million, dollars, belonging, mob, boss]</td>\n",
       "    </tr>\n",
       "  </tbody>\n",
       "</table>\n",
       "</div>"
      ],
      "text/plain": [
       "                     title  \\\n",
       "45459      Caged Heat 3000   \n",
       "45460           Robin Hood   \n",
       "45461               Subdue   \n",
       "45462  Century of Birthing   \n",
       "45463             Betrayal   \n",
       "\n",
       "                                                                                                                                                                                                                                                                                                          overview  \\\n",
       "45459  year 3000 ad worlds dangerous women banished remote asteroid 45 million light years earth kira murphy doesnt belong wrongfully accused crime commit shes thrown interplanetary prison left defenses kiras fighter soon finds middle female gang war everyone wants piece action piece caged heat 3000 ta...   \n",
       "45460                                                                                               yet another version classic epic enough variation make interesting story characters quite different usual particular uma thurmans special maid marian photography also great giving story somewhat darker tone   \n",
       "45461                                                                                                                                                                                                                                                                                     rising falling man woman   \n",
       "45462                                                                                                                                                                                                                                                       artist struggles finish work storyline cult plays head   \n",
       "45463                                                                                                                                                                                                              one hits goes wrong professional assassin ends suitcase full million dollars belonging mob boss   \n",
       "\n",
       "         unique_genres                nice_genres              singlegenre  \\\n",
       "45459  Science Fiction          [Science Fiction]  Science Fiction/Fantasy   \n",
       "45460            Drama   [Drama, Action, Romance]            Drama/Mystery   \n",
       "45461            Drama            [Drama, Family]            Drama/Mystery   \n",
       "45462            Drama                    [Drama]            Drama/Mystery   \n",
       "45463           Action  [Action, Drama, Thriller]         Action/Adventure   \n",
       "\n",
       "                                                                                                                                                                                                                                                                                                         tokenized  \n",
       "45459  [year, 3000, ad, worlds, dangerous, women, banished, remote, asteroid, 45, million, light, years, earth, kira, murphy, doesnt, belong, wrongfully, accused, crime, commit, shes, thrown, interplanetary, prison, left, defenses, kiras, fighter, soon, finds, middle, female, gang, war, everyone, wants...  \n",
       "45460                                                                  [yet, another, version, classic, epic, enough, variation, make, interesting, story, characters, quite, different, usual, particular, uma, thurmans, special, maid, marian, photography, also, great, giving, story, somewhat, darker, tone]  \n",
       "45461                                                                                                                                                                                                                                                                                [rising, falling, man, woman]  \n",
       "45462                                                                                                                                                                                                                                              [artist, struggles, finish, work, storyline, cult, plays, head]  \n",
       "45463                                                                                                                                                                                               [one, hits, goes, wrong, professional, assassin, ends, suitcase, full, million, dollars, belonging, mob, boss]  "
      ]
     },
     "execution_count": 21,
     "metadata": {},
     "output_type": "execute_result"
    },
    {
     "data": {
      "image/png": "[encoded data removed]",
      "text/plain": [
       "<Figure size 432x288 with 1 Axes>"
      ]
     },
     "metadata": {
      "needs_background": "light"
     },
     "output_type": "display_data"
    }
   ],
   "source": [
    "\n",
    "movie_meta_new['singlegenre'].value_counts().plot.bar()\n",
    "movie_meta_new.tail()\n"
   ]
  },
  {
   "cell_type": "markdown",
   "metadata": {},
   "source": [
    "### Visualizing the words and their frequency in the \"overview/plot\" column:"
   ]
  },
  {
   "cell_type": "code",
   "execution_count": 22,
   "metadata": {},
   "outputs": [
    {
     "data": {
      "image/png": "[encoded data removed]",
      "text/plain": [
       "<Figure size 864x1080 with 1 Axes>"
      ]
     },
     "metadata": {
      "needs_background": "light"
     },
     "output_type": "display_data"
    }
   ],
   "source": [
    "def freq_words(x, terms = 30): \n",
    "    all_words = ' '.join([text for text in x]) \n",
    "    all_words = all_words.split() \n",
    "    fdist = nltk.FreqDist(all_words) \n",
    "    words_df = pd.DataFrame({'word':list(fdist.keys()), 'count':list(fdist.values())}) \n",
    "  \n",
    "  # selecting top 20 most frequent words \n",
    "    d = words_df.nlargest(columns=\"count\", n = terms) \n",
    "  \n",
    "  # visualize words and frequencies\n",
    "    plt.figure(figsize=(12,15)) \n",
    "    ax = sns.barplot(data=d, x= \"count\", y = \"word\") \n",
    "    ax.set(ylabel = 'Word') \n",
    "    plt.show()\n",
    "    \n",
    "  # print 100 most frequent words \n",
    "freq_words(movie_meta_new['overview'], 100)"
   ]
  },
  {
   "cell_type": "code",
   "execution_count": 23,
   "metadata": {},
   "outputs": [],
   "source": [
    "# movie_meta_new[\"singlegenre\"] = movie_meta_new[\"singlegenre\"].dropna().tail()\n",
    "# Filling NA valuse with \"No genres\"\n",
    "movie_meta_new[\"singlegenre\"].fillna(\"No genres\", inplace = True)\n",
    "movie_meta_new[\"nice_genres\"].fillna(\"No genres\", inplace = True)"
   ]
  },
  {
   "cell_type": "code",
   "execution_count": 24,
   "metadata": {},
   "outputs": [
    {
     "data": {
      "text/html": [
       "<div>\n",
       "<style scoped>\n",
       "    .dataframe tbody tr th:only-of-type {\n",
       "        vertical-align: middle;\n",
       "    }\n",
       "\n",
       "    .dataframe tbody tr th {\n",
       "        vertical-align: top;\n",
       "    }\n",
       "\n",
       "    .dataframe thead th {\n",
       "        text-align: right;\n",
       "    }\n",
       "</style>\n",
       "<table border=\"1\" class=\"dataframe\">\n",
       "  <thead>\n",
       "    <tr style=\"text-align: right;\">\n",
       "      <th></th>\n",
       "      <th>title</th>\n",
       "      <th>overview</th>\n",
       "      <th>unique_genres</th>\n",
       "      <th>nice_genres</th>\n",
       "      <th>singlegenre</th>\n",
       "      <th>tokenized</th>\n",
       "    </tr>\n",
       "  </thead>\n",
       "  <tbody>\n",
       "    <tr>\n",
       "      <th>0</th>\n",
       "      <td>Toy Story</td>\n",
       "      <td>led woody andys toys live happily room andys birthday brings buzz lightyear onto scene afraid losing place andys heart woody plots buzz circumstances separate buzz woody owner duo eventually learns put aside differences</td>\n",
       "      <td>Animation</td>\n",
       "      <td>[Animation, Comedy, Family]</td>\n",
       "      <td>Animation/Family</td>\n",
       "      <td>[led, woody, andys, toys, live, happily, room, andys, birthday, brings, buzz, lightyear, onto, scene, afraid, losing, place, andys, heart, woody, plots, buzz, circumstances, separate, buzz, woody, owner, duo, eventually, learns, put, aside, differences]</td>\n",
       "    </tr>\n",
       "    <tr>\n",
       "      <th>1</th>\n",
       "      <td>Jumanji</td>\n",
       "      <td>siblings judy peter discover enchanted board game opens door magical world unwittingly invite alan adult whos trapped inside game 26 years living room alans hope freedom finish game proves risky three find running giant rhinoceroses evil monkeys terrifying creatures</td>\n",
       "      <td>Adventure</td>\n",
       "      <td>[Adventure, Fantasy, Family]</td>\n",
       "      <td>Action/Adventure</td>\n",
       "      <td>[siblings, judy, peter, discover, enchanted, board, game, opens, door, magical, world, unwittingly, invite, alan, adult, whos, trapped, inside, game, 26, years, living, room, alans, hope, freedom, finish, game, proves, risky, three, find, running, giant, rhinoceroses, evil, monkeys, terrifying, ...</td>\n",
       "    </tr>\n",
       "    <tr>\n",
       "      <th>2</th>\n",
       "      <td>Grumpier Old Men</td>\n",
       "      <td>family wedding reignites ancient feud nextdoor neighbors fishing buddies john max meanwhile sultry italian divorcée opens restaurant local bait shop alarming locals worry shell scare fish away shes less interested seafood cooking hot time max</td>\n",
       "      <td>Romance</td>\n",
       "      <td>[Romance, Comedy]</td>\n",
       "      <td>Romance</td>\n",
       "      <td>[family, wedding, reignites, ancient, feud, nextdoor, neighbors, fishing, buddies, john, max, meanwhile, sultry, italian, divorcée, opens, restaurant, local, bait, shop, alarming, locals, worry, shell, scare, fish, away, shes, less, interested, seafood, cooking, hot, time, max]</td>\n",
       "    </tr>\n",
       "    <tr>\n",
       "      <th>3</th>\n",
       "      <td>Waiting to Exhale</td>\n",
       "      <td>cheated mistreated stepped women holding breath waiting elusive good man break string lessthanstellar lovers friends confidants vannah bernie glo robin talk determined find better way breathe</td>\n",
       "      <td>Comedy</td>\n",
       "      <td>[Comedy, Drama, Romance]</td>\n",
       "      <td>Comedy</td>\n",
       "      <td>[cheated, mistreated, stepped, women, holding, breath, waiting, elusive, good, man, break, string, lessthanstellar, lovers, friends, confidants, vannah, bernie, glo, robin, talk, determined, find, better, way, breathe]</td>\n",
       "    </tr>\n",
       "    <tr>\n",
       "      <th>4</th>\n",
       "      <td>Father of the Bride Part II</td>\n",
       "      <td>george banks recovered daughters wedding receives news shes pregnant georges wife nina expecting planning selling home thats plan like george change arrival grandchild kid</td>\n",
       "      <td>Comedy</td>\n",
       "      <td>[Comedy]</td>\n",
       "      <td>Comedy</td>\n",
       "      <td>[george, banks, recovered, daughters, wedding, receives, news, shes, pregnant, georges, wife, nina, expecting, planning, selling, home, thats, plan, like, george, change, arrival, grandchild, kid]</td>\n",
       "    </tr>\n",
       "  </tbody>\n",
       "</table>\n",
       "</div>"
      ],
      "text/plain": [
       "                         title  \\\n",
       "0                    Toy Story   \n",
       "1                      Jumanji   \n",
       "2             Grumpier Old Men   \n",
       "3            Waiting to Exhale   \n",
       "4  Father of the Bride Part II   \n",
       "\n",
       "                                                                                                                                                                                                                                                                     overview  \\\n",
       "0                                                 led woody andys toys live happily room andys birthday brings buzz lightyear onto scene afraid losing place andys heart woody plots buzz circumstances separate buzz woody owner duo eventually learns put aside differences   \n",
       "1  siblings judy peter discover enchanted board game opens door magical world unwittingly invite alan adult whos trapped inside game 26 years living room alans hope freedom finish game proves risky three find running giant rhinoceroses evil monkeys terrifying creatures   \n",
       "2                          family wedding reignites ancient feud nextdoor neighbors fishing buddies john max meanwhile sultry italian divorcée opens restaurant local bait shop alarming locals worry shell scare fish away shes less interested seafood cooking hot time max   \n",
       "3                                                                             cheated mistreated stepped women holding breath waiting elusive good man break string lessthanstellar lovers friends confidants vannah bernie glo robin talk determined find better way breathe   \n",
       "4                                                                                                 george banks recovered daughters wedding receives news shes pregnant georges wife nina expecting planning selling home thats plan like george change arrival grandchild kid   \n",
       "\n",
       "  unique_genres                   nice_genres       singlegenre  \\\n",
       "0     Animation   [Animation, Comedy, Family]  Animation/Family   \n",
       "1     Adventure  [Adventure, Fantasy, Family]  Action/Adventure   \n",
       "2       Romance             [Romance, Comedy]           Romance   \n",
       "3        Comedy      [Comedy, Drama, Romance]            Comedy   \n",
       "4        Comedy                      [Comedy]            Comedy   \n",
       "\n",
       "                                                                                                                                                                                                                                                                                                     tokenized  \n",
       "0                                                [led, woody, andys, toys, live, happily, room, andys, birthday, brings, buzz, lightyear, onto, scene, afraid, losing, place, andys, heart, woody, plots, buzz, circumstances, separate, buzz, woody, owner, duo, eventually, learns, put, aside, differences]  \n",
       "1  [siblings, judy, peter, discover, enchanted, board, game, opens, door, magical, world, unwittingly, invite, alan, adult, whos, trapped, inside, game, 26, years, living, room, alans, hope, freedom, finish, game, proves, risky, three, find, running, giant, rhinoceroses, evil, monkeys, terrifying, ...  \n",
       "2                       [family, wedding, reignites, ancient, feud, nextdoor, neighbors, fishing, buddies, john, max, meanwhile, sultry, italian, divorcée, opens, restaurant, local, bait, shop, alarming, locals, worry, shell, scare, fish, away, shes, less, interested, seafood, cooking, hot, time, max]  \n",
       "3                                                                                   [cheated, mistreated, stepped, women, holding, breath, waiting, elusive, good, man, break, string, lessthanstellar, lovers, friends, confidants, vannah, bernie, glo, robin, talk, determined, find, better, way, breathe]  \n",
       "4                                                                                                         [george, banks, recovered, daughters, wedding, receives, news, shes, pregnant, georges, wife, nina, expecting, planning, selling, home, thats, plan, like, george, change, arrival, grandchild, kid]  "
      ]
     },
     "execution_count": 24,
     "metadata": {},
     "output_type": "execute_result"
    }
   ],
   "source": [
    "movie_meta_new.head()"
   ]
  },
  {
   "cell_type": "markdown",
   "metadata": {},
   "source": [
    "### Text to Features Conversion"
   ]
  },
  {
   "cell_type": "code",
   "execution_count": 25,
   "metadata": {},
   "outputs": [],
   "source": [
    "# multi class conversion on the \"nice_genres\" column\n",
    "\n",
    "# converting text to feature\n",
    "\n",
    "from sklearn.preprocessing import MultiLabelBinarizer\n",
    "\n",
    "multilabel_binarizer = MultiLabelBinarizer()\n",
    "multilabel_binarizer.fit(movie_meta_new[\"nice_genres\"])\n",
    "\n",
    "# transform target variable\n",
    "y =  multilabel_binarizer.transform(movie_meta_new[\"nice_genres\"])\n"
   ]
  },
  {
   "cell_type": "code",
   "execution_count": 26,
   "metadata": {},
   "outputs": [],
   "source": [
    "# single class conversion on the \"singlegenre\" column \n",
    "\n",
    "#vectorizer = CountVectorizer()\n",
    "\n",
    "# tokenize and build vocab\n",
    "#vectorizer.fit(movie_meta_new[\"singlegenre\"])\n",
    "\n",
    "# encode document\n",
    "#y = vectorizer.transform(movie_meta_new[\"singlegenre\"])"
   ]
  },
  {
   "cell_type": "code",
   "execution_count": 58,
   "metadata": {},
   "outputs": [],
   "source": [
    "tfidf_vectorizer = TfidfVectorizer(max_df=0.8, max_features=10000)\n",
    "\n",
    "# spliting the dataset into train and test sets\n",
    "X_train, X_test, y_train, y_test = train_test_split(movie_meta_new['overview'], y, test_size=0.2, random_state=9)\n",
    "\n",
    "# creating TF-IDF features\n",
    "X_train_tfidf = tfidf_vectorizer.fit_transform(X_train)\n",
    "X_test_tfidf = tfidf_vectorizer.transform(X_test)"
   ]
  },
  {
   "cell_type": "markdown",
   "metadata": {},
   "source": [
    "### Building the Prediction Model"
   ]
  },
  {
   "cell_type": "code",
   "execution_count": 48,
   "metadata": {},
   "outputs": [
    {
     "data": {
      "text/html": [
       "<style>#sk-container-id-3 {color: black;background-color: white;}#sk-container-id-3 pre{padding: 0;}#sk-container-id-3 div.sk-toggleable {background-color: white;}#sk-container-id-3 label.sk-toggleable__label {cursor: pointer;display: block;width: 100%;margin-bottom: 0;padding: 0.3em;box-sizing: border-box;text-align: center;}#sk-container-id-3 label.sk-toggleable__label-arrow:before {content: \"▸\";float: left;margin-right: 0.25em;color: #696969;}#sk-container-id-3 label.sk-toggleable__label-arrow:hover:before {color: black;}#sk-container-id-3 div.sk-estimator:hover label.sk-toggleable__label-arrow:before {color: black;}#sk-container-id-3 div.sk-toggleable__content {max-height: 0;max-width: 0;overflow: hidden;text-align: left;background-color: #f0f8ff;}#sk-container-id-3 div.sk-toggleable__content pre {margin: 0.2em;color: black;border-radius: 0.25em;background-color: #f0f8ff;}#sk-container-id-3 input.sk-toggleable__control:checked~div.sk-toggleable__content {max-height: 200px;max-width: 100%;overflow: auto;}#sk-container-id-3 input.sk-toggleable__control:checked~label.sk-toggleable__label-arrow:before {content: \"▾\";}#sk-container-id-3 div.sk-estimator input.sk-toggleable__control:checked~label.sk-toggleable__label {background-color: #d4ebff;}#sk-container-id-3 div.sk-label input.sk-toggleable__control:checked~label.sk-toggleable__label {background-color: #d4ebff;}#sk-container-id-3 input.sk-hidden--visually {border: 0;clip: rect(1px 1px 1px 1px);clip: rect(1px, 1px, 1px, 1px);height: 1px;margin: -1px;overflow: hidden;padding: 0;position: absolute;width: 1px;}#sk-container-id-3 div.sk-estimator {font-family: monospace;background-color: #f0f8ff;border: 1px dotted black;border-radius: 0.25em;box-sizing: border-box;margin-bottom: 0.5em;}#sk-container-id-3 div.sk-estimator:hover {background-color: #d4ebff;}#sk-container-id-3 div.sk-parallel-item::after {content: \"\";width: 100%;border-bottom: 1px solid gray;flex-grow: 1;}#sk-container-id-3 div.sk-label:hover label.sk-toggleable__label {background-color: #d4ebff;}#sk-container-id-3 div.sk-serial::before {content: \"\";position: absolute;border-left: 1px solid gray;box-sizing: border-box;top: 0;bottom: 0;left: 50%;z-index: 0;}#sk-container-id-3 div.sk-serial {display: flex;flex-direction: column;align-items: center;background-color: white;padding-right: 0.2em;padding-left: 0.2em;position: relative;}#sk-container-id-3 div.sk-item {position: relative;z-index: 1;}#sk-container-id-3 div.sk-parallel {display: flex;align-items: stretch;justify-content: center;background-color: white;position: relative;}#sk-container-id-3 div.sk-item::before, #sk-container-id-3 div.sk-parallel-item::before {content: \"\";position: absolute;border-left: 1px solid gray;box-sizing: border-box;top: 0;bottom: 0;left: 50%;z-index: -1;}#sk-container-id-3 div.sk-parallel-item {display: flex;flex-direction: column;z-index: 1;position: relative;background-color: white;}#sk-container-id-3 div.sk-parallel-item:first-child::after {align-self: flex-end;width: 50%;}#sk-container-id-3 div.sk-parallel-item:last-child::after {align-self: flex-start;width: 50%;}#sk-container-id-3 div.sk-parallel-item:only-child::after {width: 0;}#sk-container-id-3 div.sk-dashed-wrapped {border: 1px dashed gray;margin: 0 0.4em 0.5em 0.4em;box-sizing: border-box;padding-bottom: 0.4em;background-color: white;}#sk-container-id-3 div.sk-label label {font-family: monospace;font-weight: bold;display: inline-block;line-height: 1.2em;}#sk-container-id-3 div.sk-label-container {text-align: center;}#sk-container-id-3 div.sk-container {/* jupyter's `normalize.less` sets `[hidden] { display: none; }` but bootstrap.min.css set `[hidden] { display: none !important; }` so we also need the `!important` here to be able to override the default hidden behavior on the sphinx rendered scikit-learn.org. See: https://github.com/scikit-learn/scikit-learn/issues/21755 */display: inline-block !important;position: relative;}#sk-container-id-3 div.sk-text-repr-fallback {display: none;}</style><div id=\"sk-container-id-3\" class=\"sk-top-container\"><div class=\"sk-text-repr-fallback\"><pre>OneVsRestClassifier(estimator=LogisticRegression())</pre><b>In a Jupyter environment, please rerun this cell to show the HTML representation or trust the notebook. <br />On GitHub, the HTML representation is unable to render, please try loading this page with nbviewer.org.</b></div><div class=\"sk-container\" hidden><div class=\"sk-item sk-dashed-wrapped\"><div class=\"sk-label-container\"><div class=\"sk-label sk-toggleable\"><input class=\"sk-toggleable__control sk-hidden--visually\" id=\"sk-estimator-id-7\" type=\"checkbox\" ><label for=\"sk-estimator-id-7\" class=\"sk-toggleable__label sk-toggleable__label-arrow\">OneVsRestClassifier</label><div class=\"sk-toggleable__content\"><pre>OneVsRestClassifier(estimator=LogisticRegression())</pre></div></div></div><div class=\"sk-parallel\"><div class=\"sk-parallel-item\"><div class=\"sk-item\"><div class=\"sk-label-container\"><div class=\"sk-label sk-toggleable\"><input class=\"sk-toggleable__control sk-hidden--visually\" id=\"sk-estimator-id-8\" type=\"checkbox\" ><label for=\"sk-estimator-id-8\" class=\"sk-toggleable__label sk-toggleable__label-arrow\">estimator: LogisticRegression</label><div class=\"sk-toggleable__content\"><pre>LogisticRegression()</pre></div></div></div><div class=\"sk-serial\"><div class=\"sk-item\"><div class=\"sk-estimator sk-toggleable\"><input class=\"sk-toggleable__control sk-hidden--visually\" id=\"sk-estimator-id-9\" type=\"checkbox\" ><label for=\"sk-estimator-id-9\" class=\"sk-toggleable__label sk-toggleable__label-arrow\">LogisticRegression</label><div class=\"sk-toggleable__content\"><pre>LogisticRegression()</pre></div></div></div></div></div></div></div></div></div></div>"
      ],
      "text/plain": [
       "OneVsRestClassifier(estimator=LogisticRegression())"
      ]
     },
     "execution_count": 48,
     "metadata": {},
     "output_type": "execute_result"
    }
   ],
   "source": [
    "# Creating Logistic Regression Model\n",
    "lr = LogisticRegression()\n",
    "clf = OneVsRestClassifier(lr)\n",
    "# fiting the model on the training data\n",
    "clf.fit(X_train_tfidf, y_train)"
   ]
  },
  {
   "cell_type": "code",
   "execution_count": 49,
   "metadata": {},
   "outputs": [
    {
     "data": {
      "text/plain": [
       "0.48579545454545453"
      ]
     },
     "execution_count": 49,
     "metadata": {},
     "output_type": "execute_result"
    }
   ],
   "source": [
    "# making predictions for the test set\n",
    "y_pred = clf.predict(X_test_tfidf)\n",
    "# y_pred\n",
    "multilabel_binarizer.inverse_transform(y_pred)[3]\n",
    "# evaluate performance\n",
    "f1_score(y_test, y_pred, average=\"micro\")"
   ]
  },
  {
   "cell_type": "markdown",
   "metadata": {},
   "source": [
    "We can see the F1-Score for Logistic Regression is about 48%."
   ]
  },
  {
   "cell_type": "code",
   "execution_count": 50,
   "metadata": {},
   "outputs": [
    {
     "data": {
      "text/plain": [
       "0.5899470173223158"
      ]
     },
     "execution_count": 50,
     "metadata": {},
     "output_type": "execute_result"
    }
   ],
   "source": [
    "# predict probabilities\n",
    "y_pred_prob = clf.predict_proba(X_test_tfidf)\n",
    "# changing the threshold value from 0.5 to 0.21 to improve f1 score and overall model performance\n",
    "t = 0.21 \n",
    "y_pred_new = (y_pred_prob >= t).astype(int)\n",
    "# re-evaluate performance\n",
    "f1_score(y_test, y_pred_new, average=\"micro\")"
   ]
  },
  {
   "cell_type": "markdown",
   "metadata": {},
   "source": [
    "We can see that changing the threshold value improved the model performance to ~ 59%"
   ]
  },
  {
   "cell_type": "code",
   "execution_count": 35,
   "metadata": {},
   "outputs": [],
   "source": [
    "# Generating multi-class prediction model\n",
    "def infer_tags(q):\n",
    "    #Tokenize isn't needed here\n",
    "    #q = tokenize(q)\n",
    "    q = remove_stopwords(q)\n",
    "    q_vec = tfidf_vectorizer.transform([q])\n",
    "    q_pred = clf.predict(q_vec)\n",
    "    return multilabel_binarizer.inverse_transform(q_pred)"
   ]
  },
  {
   "cell_type": "code",
   "execution_count": 36,
   "metadata": {},
   "outputs": [
    {
     "name": "stdout",
     "output_type": "stream",
     "text": [
      "Movie:  Kill Bill: Vol. 2 \n",
      "Predicted genre:  [('Horror', 'Thriller')]\n",
      "Actual genre:  ['Action', 'Crime', 'Thriller'] \n",
      "\n",
      "Movie:  Secrets of the Tribe \n",
      "Predicted genre:  [()]\n",
      "Actual genre:  ['Documentary', 'TV Movie'] \n",
      "\n",
      "Movie:  Soldier of God \n",
      "Predicted genre:  [('Drama',)]\n",
      "Actual genre:  ['Drama', 'History'] \n",
      "\n",
      "Movie:  Alice in Wonderland \n",
      "Predicted genre:  [('Comedy',)]\n",
      "Actual genre:  ['Family', 'Fantasy', 'Science Fiction'] \n",
      "\n",
      "Movie:  High Security Vacation \n",
      "Predicted genre:  [('Drama',)]\n",
      "Actual genre:  ['Comedy', 'Action'] \n",
      "\n"
     ]
    }
   ],
   "source": [
    "for i in range(5): \n",
    "    k = X_test.sample(1).index[0] \n",
    "    #print(\"Movie: \", movie_meta_new['title'][k], \"\\nPredicted genre: \", infer_tags(X_test[k])), print(\"Actual genre: \", movie_meta_new['singlegenre'][k], \"\\n\")\n",
    "    print(\"Movie: \", movie_meta_new['title'][k], \"\\nPredicted genre: \", infer_tags(X_test[k])), print(\"Actual genre: \", movie_meta_new['nice_genres'][k], \"\\n\")"
   ]
  },
  {
   "cell_type": "code",
   "execution_count": 37,
   "metadata": {},
   "outputs": [
    {
     "name": "stdout",
     "output_type": "stream",
     "text": [
      "\n",
      "Movie:  Thieves \n",
      "Predicted genre:  ['Drama/Mystery']\n",
      "Actual genre:  Romance \n",
      "\n",
      "\n",
      "Movie:  Shadow of the Thin Man \n",
      "Predicted genre:  ['Drama/Mystery']\n",
      "Actual genre:  Comedy \n",
      "\n",
      "\n",
      "Movie:  Confess \n",
      "Predicted genre:  ['Drama/Mystery']\n",
      "Actual genre:  Action/Adventure \n",
      "\n",
      "\n",
      "Movie:  The Redwood Massacre \n",
      "Predicted genre:  ['Horror/Crime/Thriller']\n",
      "Actual genre:  Science Fiction/Fantasy \n",
      "\n",
      "\n",
      "Movie:  The Married Woman \n",
      "Predicted genre:  ['Drama/Mystery']\n",
      "Actual genre:  Drama/Mystery \n",
      "\n"
     ]
    }
   ],
   "source": [
    "# Creating Naive Bayes Model\n",
    "def infer_tags2(q):\n",
    "    return clf.predict(count_vect.transform(q))\n",
    "\n",
    "#X_train, X_test, y_train, y_test = train_test_split(df['Consumer_complaint_narrative'], df['Product'], random_state = 0)\n",
    "# spliting the dataset into train and test sets\n",
    "X_train, X_test, y_train, y_test = train_test_split(movie_meta_new['overview'], movie_meta_new['singlegenre'], test_size=0.2, random_state=9)\n",
    "\n",
    "count_vect = CountVectorizer()\n",
    "X_train_counts = count_vect.fit_transform(X_train)\n",
    "tfidf_transformer = TfidfTransformer()\n",
    "X_train_tfidf = tfidf_transformer.fit_transform(X_train_counts)\n",
    "clf = MultinomialNB().fit(X_train_tfidf, y_train)\n",
    "for i in range(5): \n",
    "    k = X_test.sample(1)\n",
    "    #print(\"Movie: \", movie_meta_new['title'][k], \"\\nPredicted genre: \", infer_tags(X_test[k])), print(\"Actual genre: \", movie_meta_new['singlegenre'][k], \"\\n\")\n",
    "    print( \"\\nMovie: \", movie_meta_new['title'][k.index[0]], \"\\nPredicted genre: \", clf.predict(count_vect.transform(k)))\n",
    "    print(\"Actual genre: \", movie_meta_new['singlegenre'][k.index[0]], \"\\n\")\n",
    "\n",
    "# making predictions for the test set\n",
    "y_pred = clf.predict(count_vect.transform(X_test)) \n",
    "\n"
   ]
  },
  {
   "cell_type": "code",
   "execution_count": 38,
   "metadata": {},
   "outputs": [
    {
     "name": "stdout",
     "output_type": "stream",
     "text": [
      "0.4167633784655062\n"
     ]
    }
   ],
   "source": [
    "# evaluate performance\n",
    "print(f1_score(y_test, y_pred, average=\"micro\"))"
   ]
  },
  {
   "cell_type": "markdown",
   "metadata": {},
   "source": [
    "The F1-Score With Naive Bayes is less than the logistic regression model and many of the predictions seem to be for the genre with the largest count."
   ]
  },
  {
   "cell_type": "code",
   "execution_count": 39,
   "metadata": {},
   "outputs": [
    {
     "data": {
      "text/plain": [
       "('led woody andys toys live happily room andys birthday brings buzz lightyear onto scene afraid losing place andys heart woody plots buzz circumstances separate buzz woody owner duo eventually learns put aside differences',\n",
       " ['led', 'woody', 'andys', 'toys', 'live', 'happily', 'room'])"
      ]
     },
     "execution_count": 39,
     "metadata": {},
     "output_type": "execute_result"
    }
   ],
   "source": [
    "# Example of tokenized data\n",
    "movie_meta_new['overview'][0],movie_meta_new['tokenized'][0][:7],"
   ]
  },
  {
   "cell_type": "code",
   "execution_count": 40,
   "metadata": {},
   "outputs": [
    {
     "data": {
      "text/plain": [
       "array(['Animation/Family', 'Action/Adventure', 'Romance', 'Comedy',\n",
       "       'Documentary/History/War', 'Drama/Mystery',\n",
       "       'Horror/Crime/Thriller', 'Science Fiction/Fantasy'], dtype=object)"
      ]
     },
     "execution_count": 40,
     "metadata": {},
     "output_type": "execute_result"
    }
   ],
   "source": [
    "# List of genres\n",
    "movie_meta_new.singlegenre.unique()"
   ]
  },
  {
   "cell_type": "code",
   "execution_count": 53,
   "metadata": {},
   "outputs": [],
   "source": [
    "#Removing most common words from data \n",
    "words = ['one', 'two', 'life', 'woman', 'man']\n",
    "removewords = '|'.join(words)\n",
    "movie_meta_new['worddrop'] = movie_meta_new['overview'].str.replace(removewords, '')"
   ]
  },
  {
   "cell_type": "code",
   "execution_count": 54,
   "metadata": {},
   "outputs": [],
   "source": [
    "X_train, X_test, y_train, y_test = train_test_split(movie_meta_new['worddrop'], y, test_size=0.2, random_state=9)\n",
    "\n",
    "# creating TF-IDF features\n",
    "X_train_tfidf = tfidf_vectorizer.fit_transform(X_train)\n",
    "X_test_tfidf = tfidf_vectorizer.transform(X_test)"
   ]
  },
  {
   "cell_type": "code",
   "execution_count": 55,
   "metadata": {},
   "outputs": [
    {
     "data": {
      "text/html": [
       "<style>#sk-container-id-4 {color: black;background-color: white;}#sk-container-id-4 pre{padding: 0;}#sk-container-id-4 div.sk-toggleable {background-color: white;}#sk-container-id-4 label.sk-toggleable__label {cursor: pointer;display: block;width: 100%;margin-bottom: 0;padding: 0.3em;box-sizing: border-box;text-align: center;}#sk-container-id-4 label.sk-toggleable__label-arrow:before {content: \"▸\";float: left;margin-right: 0.25em;color: #696969;}#sk-container-id-4 label.sk-toggleable__label-arrow:hover:before {color: black;}#sk-container-id-4 div.sk-estimator:hover label.sk-toggleable__label-arrow:before {color: black;}#sk-container-id-4 div.sk-toggleable__content {max-height: 0;max-width: 0;overflow: hidden;text-align: left;background-color: #f0f8ff;}#sk-container-id-4 div.sk-toggleable__content pre {margin: 0.2em;color: black;border-radius: 0.25em;background-color: #f0f8ff;}#sk-container-id-4 input.sk-toggleable__control:checked~div.sk-toggleable__content {max-height: 200px;max-width: 100%;overflow: auto;}#sk-container-id-4 input.sk-toggleable__control:checked~label.sk-toggleable__label-arrow:before {content: \"▾\";}#sk-container-id-4 div.sk-estimator input.sk-toggleable__control:checked~label.sk-toggleable__label {background-color: #d4ebff;}#sk-container-id-4 div.sk-label input.sk-toggleable__control:checked~label.sk-toggleable__label {background-color: #d4ebff;}#sk-container-id-4 input.sk-hidden--visually {border: 0;clip: rect(1px 1px 1px 1px);clip: rect(1px, 1px, 1px, 1px);height: 1px;margin: -1px;overflow: hidden;padding: 0;position: absolute;width: 1px;}#sk-container-id-4 div.sk-estimator {font-family: monospace;background-color: #f0f8ff;border: 1px dotted black;border-radius: 0.25em;box-sizing: border-box;margin-bottom: 0.5em;}#sk-container-id-4 div.sk-estimator:hover {background-color: #d4ebff;}#sk-container-id-4 div.sk-parallel-item::after {content: \"\";width: 100%;border-bottom: 1px solid gray;flex-grow: 1;}#sk-container-id-4 div.sk-label:hover label.sk-toggleable__label {background-color: #d4ebff;}#sk-container-id-4 div.sk-serial::before {content: \"\";position: absolute;border-left: 1px solid gray;box-sizing: border-box;top: 0;bottom: 0;left: 50%;z-index: 0;}#sk-container-id-4 div.sk-serial {display: flex;flex-direction: column;align-items: center;background-color: white;padding-right: 0.2em;padding-left: 0.2em;position: relative;}#sk-container-id-4 div.sk-item {position: relative;z-index: 1;}#sk-container-id-4 div.sk-parallel {display: flex;align-items: stretch;justify-content: center;background-color: white;position: relative;}#sk-container-id-4 div.sk-item::before, #sk-container-id-4 div.sk-parallel-item::before {content: \"\";position: absolute;border-left: 1px solid gray;box-sizing: border-box;top: 0;bottom: 0;left: 50%;z-index: -1;}#sk-container-id-4 div.sk-parallel-item {display: flex;flex-direction: column;z-index: 1;position: relative;background-color: white;}#sk-container-id-4 div.sk-parallel-item:first-child::after {align-self: flex-end;width: 50%;}#sk-container-id-4 div.sk-parallel-item:last-child::after {align-self: flex-start;width: 50%;}#sk-container-id-4 div.sk-parallel-item:only-child::after {width: 0;}#sk-container-id-4 div.sk-dashed-wrapped {border: 1px dashed gray;margin: 0 0.4em 0.5em 0.4em;box-sizing: border-box;padding-bottom: 0.4em;background-color: white;}#sk-container-id-4 div.sk-label label {font-family: monospace;font-weight: bold;display: inline-block;line-height: 1.2em;}#sk-container-id-4 div.sk-label-container {text-align: center;}#sk-container-id-4 div.sk-container {/* jupyter's `normalize.less` sets `[hidden] { display: none; }` but bootstrap.min.css set `[hidden] { display: none !important; }` so we also need the `!important` here to be able to override the default hidden behavior on the sphinx rendered scikit-learn.org. See: https://github.com/scikit-learn/scikit-learn/issues/21755 */display: inline-block !important;position: relative;}#sk-container-id-4 div.sk-text-repr-fallback {display: none;}</style><div id=\"sk-container-id-4\" class=\"sk-top-container\"><div class=\"sk-text-repr-fallback\"><pre>OneVsRestClassifier(estimator=LogisticRegression())</pre><b>In a Jupyter environment, please rerun this cell to show the HTML representation or trust the notebook. <br />On GitHub, the HTML representation is unable to render, please try loading this page with nbviewer.org.</b></div><div class=\"sk-container\" hidden><div class=\"sk-item sk-dashed-wrapped\"><div class=\"sk-label-container\"><div class=\"sk-label sk-toggleable\"><input class=\"sk-toggleable__control sk-hidden--visually\" id=\"sk-estimator-id-10\" type=\"checkbox\" ><label for=\"sk-estimator-id-10\" class=\"sk-toggleable__label sk-toggleable__label-arrow\">OneVsRestClassifier</label><div class=\"sk-toggleable__content\"><pre>OneVsRestClassifier(estimator=LogisticRegression())</pre></div></div></div><div class=\"sk-parallel\"><div class=\"sk-parallel-item\"><div class=\"sk-item\"><div class=\"sk-label-container\"><div class=\"sk-label sk-toggleable\"><input class=\"sk-toggleable__control sk-hidden--visually\" id=\"sk-estimator-id-11\" type=\"checkbox\" ><label for=\"sk-estimator-id-11\" class=\"sk-toggleable__label sk-toggleable__label-arrow\">estimator: LogisticRegression</label><div class=\"sk-toggleable__content\"><pre>LogisticRegression()</pre></div></div></div><div class=\"sk-serial\"><div class=\"sk-item\"><div class=\"sk-estimator sk-toggleable\"><input class=\"sk-toggleable__control sk-hidden--visually\" id=\"sk-estimator-id-12\" type=\"checkbox\" ><label for=\"sk-estimator-id-12\" class=\"sk-toggleable__label sk-toggleable__label-arrow\">LogisticRegression</label><div class=\"sk-toggleable__content\"><pre>LogisticRegression()</pre></div></div></div></div></div></div></div></div></div></div>"
      ],
      "text/plain": [
       "OneVsRestClassifier(estimator=LogisticRegression())"
      ]
     },
     "execution_count": 55,
     "metadata": {},
     "output_type": "execute_result"
    }
   ],
   "source": [
    "# Creating Logistic Regression Model\n",
    "lr = LogisticRegression()\n",
    "clf = OneVsRestClassifier(lr)\n",
    "# fiting the model on the training data\n",
    "clf.fit(X_train_tfidf, y_train)"
   ]
  },
  {
   "cell_type": "code",
   "execution_count": 56,
   "metadata": {},
   "outputs": [
    {
     "data": {
      "text/plain": [
       "0.5893754289636239"
      ]
     },
     "execution_count": 56,
     "metadata": {},
     "output_type": "execute_result"
    }
   ],
   "source": [
    "# predict probabilities\n",
    "y_pred_prob = clf.predict_proba(X_test_tfidf)\n",
    "# changing the threshold value from 0.5 to 0.21 to improve f1 score and overall model performance\n",
    "t = 0.21 \n",
    "y_pred_new = (y_pred_prob >= t).astype(int)\n",
    "# re-evaluate performance\n",
    "f1_score(y_test, y_pred_new, average=\"micro\")"
   ]
  },
  {
   "cell_type": "markdown",
   "metadata": {},
   "source": [
    "Removing words doesn't improve the model accuracy."
   ]
  },
  {
   "cell_type": "markdown",
   "metadata": {},
   "source": [
    "### Creating a Topic Model"
   ]
  },
  {
   "cell_type": "code",
   "execution_count": 65,
   "metadata": {},
   "outputs": [],
   "source": [
    "categories = ['Animation/Family', 'Action/Adventure', 'Romance', 'Comedy',\n",
    "       'Science Fiction/Fantasy', 'Documentary/History/War',\n",
    "       'Drama/Mystery', 'Horror/Crime/Thriller']\n",
    "# BTAP repo function\n",
    "def display_topics(model, features, no_top_words=5):\n",
    "    for topic, words in enumerate(model.components_):\n",
    "        total = words.sum()\n",
    "        largest = words.argsort()[::-1] # invert sort order\n",
    "        print(\"\\nTopic %02d\" % topic)\n",
    "        for i in range(0, no_top_words):\n",
    "            print(\"  %s (%2.2f)\" % (features[largest[i]], abs(words[largest[i]]*100.0/total)))\n",
    "\n",
    "count_text_vectorizer = CountVectorizer(stop_words=sw, min_df=9, max_df=0.7)\n",
    "count_text_vectors = count_text_vectorizer.fit_transform(movie_meta_new['overview'])\n",
    "# count_text_vectors.shape\n",
    "\n",
    "\n",
    "tfidf_text_vectorizer = TfidfVectorizer(stop_words=sw, min_df=9, max_df=0.7)\n",
    "tfidf_text_vectors = tfidf_text_vectorizer.fit_transform(movie_meta_new['overview'])\n",
    "# tfidf_text_vectors.shape"
   ]
  },
  {
   "cell_type": "code",
   "execution_count": 66,
   "metadata": {},
   "outputs": [
    {
     "data": {
      "image/png": "[encoded data removed]",
      "text/plain": [
       "<Figure size 1800x576 with 8 Axes>"
      ]
     },
     "metadata": {
      "needs_background": "light"
     },
     "output_type": "display_data"
    },
    {
     "data": {
      "text/plain": [
       "<AxesSubplot:title={'center':'Frequency Distribution of Top 5 tokens'}>"
      ]
     },
     "execution_count": 66,
     "metadata": {},
     "output_type": "execute_result"
    }
   ],
   "source": [
    "# Looking at top words for each topic\n",
    "fig, axs = plt.subplots(1, 8,figsize=(25,8))\n",
    "# Load the text data\n",
    "for i in range (0,8):\n",
    "    corpus = movie_meta_new.loc[ movie_meta_new['singlegenre'] == categories[i], 'overview']\n",
    "    #print(\"Top words for category:\" + categories[i])\n",
    "    axs[i].set_title(categories[i])\n",
    "    #axs[i].legend().set_visible(False)\n",
    "    #axs[i].get_legend().set_visible(False)\n",
    "    #axs[i].legend().legendPatch.set_visible(False)\n",
    "    tfidf_text_vectorizer2 =  TfidfVectorizer(stop_words=sw, min_df=8, max_df=0.7)\n",
    "    docs = tfidf_text_vectorizer2.fit_transform(corpus) #CountVectorizer()\n",
    "    features   = tfidf_text_vectorizer2.get_feature_names()\n",
    "\n",
    "    visualizer = FreqDistVisualizer(ax = axs[i],features=features, orient='v', n = 5)\n",
    "    visualizer.fit(docs)\n",
    "visualizer.show()"
   ]
  },
  {
   "cell_type": "code",
   "execution_count": 67,
   "metadata": {},
   "outputs": [],
   "source": [
    "# Running topics without top words to see if they are have more variability\n",
    "count_text_vectorizer = CountVectorizer(stop_words=sw, min_df=9, max_df=0.7)\n",
    "count_text_vectors = count_text_vectorizer.fit_transform(movie_meta_new['worddrop'])\n",
    "\n",
    "\n",
    "\n",
    "tfidf_text_vectorizer = TfidfVectorizer(stop_words=sw, min_df=9, max_df=0.7)\n",
    "tfidf_text_vectors = tfidf_text_vectorizer.fit_transform(movie_meta_new['worddrop'])\n"
   ]
  },
  {
   "cell_type": "code",
   "execution_count": 68,
   "metadata": {},
   "outputs": [
    {
     "data": {
      "image/png": "[encoded data removed]",
      "text/plain": [
       "<Figure size 1800x576 with 8 Axes>"
      ]
     },
     "metadata": {
      "needs_background": "light"
     },
     "output_type": "display_data"
    },
    {
     "data": {
      "text/plain": [
       "<AxesSubplot:title={'center':'Frequency Distribution of Top 5 tokens'}>"
      ]
     },
     "execution_count": 68,
     "metadata": {},
     "output_type": "execute_result"
    }
   ],
   "source": [
    "# Looking at top words for each topic\n",
    "fig, axs = plt.subplots(1, 8,figsize=(25,8))\n",
    "# Load the text data\n",
    "for i in range (0,8):\n",
    "    corpus = movie_meta_new.loc[ movie_meta_new['singlegenre'] == categories[i], 'worddrop']\n",
    "    #print(\"Top words for category:\" + categories[i])\n",
    "    axs[i].set_title(categories[i])\n",
    "    #axs[i].legend().set_visible(False)\n",
    "    #axs[i].get_legend().set_visible(False)\n",
    "    #axs[i].legend().legendPatch.set_visible(False)\n",
    "    tfidf_text_vectorizer2 =  TfidfVectorizer(stop_words=sw, min_df=8, max_df=0.7)\n",
    "    docs = tfidf_text_vectorizer2.fit_transform(corpus) #CountVectorizer()\n",
    "    features   = tfidf_text_vectorizer2.get_feature_names()\n",
    "\n",
    "    visualizer = FreqDistVisualizer(ax = axs[i],features=features, orient='v', n = 5)\n",
    "    visualizer.fit(docs)\n",
    "visualizer.show()"
   ]
  },
  {
   "cell_type": "markdown",
   "metadata": {},
   "source": [
    "Topics are slightly better, but still have overlap."
   ]
  },
  {
   "cell_type": "code",
   "execution_count": 69,
   "metadata": {},
   "outputs": [
    {
     "name": "stdout",
     "output_type": "stream",
     "text": [
      "\n",
      "Topic 00\n",
      "  love (0.88)\n",
      "  get (0.77)\n",
      "  young (0.57)\n",
      "  back (0.51)\n",
      "  friends (0.49)\n",
      "\n",
      "Topic 01\n",
      "  police (0.83)\n",
      "  young (0.74)\n",
      "  wife (0.65)\n",
      "  new (0.61)\n",
      "  murder (0.58)\n",
      "\n",
      "Topic 02\n",
      "  world (0.87)\n",
      "  war (0.87)\n",
      "  must (0.58)\n",
      "  group (0.55)\n",
      "  evil (0.42)\n",
      "\n",
      "Topic 03\n",
      "  film (2.06)\n",
      "  new (1.07)\n",
      "  documentary (0.93)\n",
      "  story (0.61)\n",
      "  first (0.58)\n",
      "\n",
      "Topic 04\n",
      "  story (1.80)\n",
      "  film (1.58)\n",
      "  based (0.88)\n",
      "  town (0.77)\n",
      "  small (0.65)\n",
      "\n",
      "Topic 05\n",
      "  family (1.59)\n",
      "  love (1.33)\n",
      "  young (1.04)\n",
      "  father (0.86)\n",
      "  mother (0.83)\n",
      "\n",
      "Topic 06\n",
      "  school (1.29)\n",
      "  high (0.73)\n",
      "  new (0.70)\n",
      "  young (0.60)\n",
      "  world (0.48)\n",
      "\n",
      "Topic 07\n",
      "  dr (0.62)\n",
      "  story (0.49)\n",
      "  young (0.45)\n",
      "  time (0.41)\n",
      "  people (0.38)\n"
     ]
    }
   ],
   "source": [
    "# Creating and LDA model\n",
    "lda_text_model = LatentDirichletAllocation( n_components = 8, random_state = 42)\n",
    "W_lda_matrix = lda_text_model.fit_transform( count_text_vectors)\n",
    "H_lda_matrix = lda_text_model.components_\n",
    "display_topics(lda_text_model, count_text_vectorizer.get_feature_names())"
   ]
  },
  {
   "cell_type": "code",
   "execution_count": 70,
   "metadata": {},
   "outputs": [],
   "source": [
    "lda_display = pyLDAvis.sklearn.prepare(lda_text_model, count_text_vectors, count_text_vectorizer, sort_topics=False)"
   ]
  },
  {
   "cell_type": "code",
   "execution_count": 71,
   "metadata": {},
   "outputs": [
    {
     "data": {
      "text/html": [
       "\n",
       "<link rel=\"stylesheet\" type=\"text/css\" href=\"https://cdn.jsdelivr.net/gh/bmabey/pyLDAvis@3.3.1/pyLDAvis/js/ldavis.v1.0.0.css\">\n",
       "\n",
       "\n",
       "<div id=\"ldavis_el1941615935289739049668766799\"></div>\n",
       "<script type=\"text/javascript\">\n",
       "\n",
       "var ldavis_el1941615935289739049668766799_data = {\"mdsDat\": {\"x\": [-0.11327800142629084, -0.12196558496965174, 0.103284640915076, 0.18841728162158608, 0.11509098777739397, -0.08883096397591254, -0.10268634182230311, 0.019967981880102403], \"y\": [-0.010357641808292822, 0.06789519834452641, 0.2252652417268784, -0.11631893786884234, -0.011696206431845735, -0.05372914892240579, -0.035456502603729366, -0.06560200243628929], \"topics\": [1, 2, 3, 4, 5, 6, 7, 8], \"cluster\": [1, 1, 1, 1, 1, 1, 1, 1], \"Freq\": [13.593327672217907, 16.744860457204965, 14.123512197397758, 13.283018055535866, 8.711894335504866, 12.907923482733475, 12.743681150060532, 7.891782649344627]}, \"tinfo\": {\"Term\": [\"film\", \"school\", \"story\", \"love\", \"documentary\", \"police\", \"war\", \"family\", \"based\", \"town\", \"father\", \"high\", \"mother\", \"york\", \"wife\", \"murder\", \"dr\", \"world\", \"get\", \"small\", \"team\", \"earth\", \"son\", \"killer\", \"new\", \"village\", \"daughter\", \"college\", \"girl\", \"detective\", \"et\", \"des\", \"zatoichi\", \"se\", \"dans\", \"fu\", \"kung\", \"uuno\", \"casper\", \"pooja\", \"au\", \"ho\", \"er\", \"qui\", \"chi\", \"pour\", \"und\", \"une\", \"wei\", \"lea\", \"prem\", \"elle\", \"elmer\", \"sa\", \"anjali\", \"canal\", \"que\", \"quarterback\", \"tess\", \"pas\", \"mei\", \"hung\", \"il\", \"bunny\", \"di\", \"le\", \"un\", \"raj\", \"horse\", \"judith\", \"ranch\", \"lucy\", \"doesnt\", \"horses\", \"get\", \"wants\", \"want\", \"grandfather\", \"les\", \"boy\", \"nice\", \"always\", \"la\", \"love\", \"de\", \"dont\", \"back\", \"meets\", \"girl\", \"way\", \"friends\", \"gets\", \"make\", \"father\", \"chance\", \"go\", \"friend\", \"falls\", \"find\", \"help\", \"best\", \"old\", \"hes\", \"named\", \"like\", \"young\", \"decides\", \"away\", \"time\", \"town\", \"take\", \"every\", \"family\", \"home\", \"first\", \"son\", \"robbery\", \"inspector\", \"heist\", \"robber\", \"robbers\", \"detective\", \"bullets\", \"detectives\", \"crooks\", \"alibi\", \"cop\", \"robbing\", \"daughterinlaw\", \"bosss\", \"robs\", \"bank\", \"excop\", \"tanya\", \"murderer\", \"serial\", \"donor\", \"mobsters\", \"tel\", \"rapist\", \"getaway\", \"interpol\", \"anew\", \"apache\", \"trunk\", \"aviv\", \"police\", \"homicide\", \"mob\", \"cops\", \"murdered\", \"killer\", \"crooked\", \"murdering\", \"criminal\", \"murder\", \"mobster\", \"murders\", \"killers\", \"crime\", \"suspect\", \"gang\", \"case\", \"jail\", \"boss\", \"fbi\", \"thief\", \"prison\", \"criminals\", \"revenge\", \"killed\", \"wife\", \"husband\", \"gangster\", \"car\", \"house\", \"dead\", \"drug\", \"young\", \"find\", \"soon\", \"get\", \"new\", \"finds\", \"help\", \"goes\", \"gets\", \"daughter\", \"becomes\", \"home\", \"takes\", \"family\", \"son\", \"years\", \"old\", \"death\", \"nuclear\", \"alien\", \"terrorists\", \"comder\", \"planet\", \"submarine\", \"allied\", \"mercenaries\", \"galaxy\", \"atomic\", \"virus\", \"robots\", \"astronauts\", \"troops\", \"earths\", \"spaceship\", \"postapocalyptic\", \"overthrow\", \"pok\\u00e9mon\", \"cartel\", \"godzilla\", \"fortress\", \"comding\", \"civilian\", \"topsecret\", \"domination\", \"warlord\", \"radiation\", \"planets\", \"armies\", \"tribe\", \"gers\", \"unit\", \"mutant\", \"enemy\", \"bounty\", \"device\", \"allies\", \"creatures\", \"space\", \"earth\", \"survivors\", \"expedition\", \"mars\", \"government\", \"mission\", \"ship\", \"captain\", \"army\", \"weapons\", \"battle\", \"weapon\", \"ocean\", \"soldiers\", \"scientists\", \"hus\", \"military\", \"evil\", \"invasion\", \"nazi\", \"rescue\", \"war\", \"crew\", \"ancient\", \"forces\", \"power\", \"scientist\", \"group\", \"fight\", \"world\", \"deadly\", \"must\", \"stop\", \"save\", \"island\", \"team\", \"us\", \"american\", \"british\", \"secret\", \"find\", \"agent\", \"new\", \"time\", \"back\", \"take\", \"standup\", \"comedian\", \"overview\", \"musicians\", \"archival\", \"iconic\", \"clips\", \"hbo\", \"topics\", \"commentary\", \"comedians\", \"footage\", \"glimpse\", \"candid\", \"guitarist\", \"blend\", \"sketches\", \"taped\", \"perforce\", \"hop\", \"bush\", \"innovative\", \"vignettes\", \"funniest\", \"chronicling\", \"theatre\", \"observations\", \"featured\", \"portrait\", \"interviews\", \"documentary\", \"recorded\", \"behindthescenes\", \"audience\", \"perforces\", \"featuring\", \"emmy\", \"songs\", \"album\", \"filmmaker\", \"narrated\", \"filmmaking\", \"feature\", \"music\", \"concert\", \"filmed\", \"features\", \"filmmakers\", \"humor\", \"industry\", \"film\", \"musical\", \"comedy\", \"york\", \"art\", \"films\", \"explores\", \"intimate\", \"camera\", \"culture\", \"director\", \"history\", \"comic\", \"show\", \"new\", \"stories\", \"look\", \"first\", \"movie\", \"special\", \"story\", \"world\", \"band\", \"american\", \"including\", \"years\", \"city\", \"star\", \"people\", \"live\", \"time\", \"lives\", \"young\", \"serbian\", \"janeiro\", \"las\", \"bollywood\", \"atrocities\", \"finn\", \"homer\", \"wikipedia\", \"bosnian\", \"bogart\", \"orthodox\", \"scooby\", \"claudio\", \"prizewinning\", \"scoobydoo\", \"reminiscent\", \"lukas\", \"identified\", \"nudity\", \"ferris\", \"rossellini\", \"coproduction\", \"vegas\", \"catholicism\", \"odessa\", \"evocative\", \"encyclopedia\", \"infantry\", \"burton\", \"essex\", \"christ\", \"remake\", \"fernando\", \"biblical\", \"jesus\", \"screenplay\", \"honour\", \"rio\", \"19th\", \"brazilian\", \"based\", \"refugees\", \"novel\", \"18th\", \"village\", \"monastery\", \"story\", \"elvis\", \"directed\", \"religious\", \"small\", \"el\", \"adaptation\", \"film\", \"century\", \"town\", \"true\", \"community\", \"priest\", \"set\", \"classic\", \"tells\", \"war\", \"movie\", \"role\", \"de\", \"jewish\", \"stars\", \"india\", \"drama\", \"journey\", \"love\", \"world\", \"people\", \"death\", \"early\", \"local\", \"young\", \"city\", \"japanese\", \"follows\", \"john\", \"lives\", \"american\", \"years\", \"find\", \"men\", \"pierre\", \"lena\", \"fanny\", \"esther\", \"cyrus\", \"fant\\u00f4mas\", \"mabel\", \"headmaster\", \"sharma\", \"fei\", \"devout\", \"karin\", \"immature\", \"matriarch\", \"baptist\", \"viola\", \"disapproving\", \"algeria\", \"everest\", \"angst\", \"margot\", \"homestead\", \"francois\", \"phelps\", \"bronze\", \"tryst\", \"childbirth\", \"miser\", \"tarzan\", \"jacqueline\", \"youngest\", \"aristocrat\", \"elizabeth\", \"brenda\", \"melissa\", \"elena\", \"eldest\", \"marianne\", \"kay\", \"betty\", \"marriage\", \"marie\", \"married\", \"daughters\", \"children\", \"charlotte\", \"family\", \"mother\", \"divorced\", \"affair\", \"georges\", \"reunite\", \"mothers\", \"father\", \"marries\", \"love\", \"daughter\", \"estranged\", \"son\", \"parents\", \"years\", \"marry\", \"wedding\", \"paris\", \"sons\", \"sister\", \"relationship\", \"lives\", \"returns\", \"young\", \"old\", \"home\", \"wife\", \"couple\", \"king\", \"falls\", \"girl\", \"husband\", \"living\", \"three\", \"brother\", \"together\", \"day\", \"new\", \"time\", \"finds\", \"story\", \"friends\", \"santa\", \"league\", \"coach\", \"claus\", \"campus\", \"graduation\", \"soccer\", \"bully\", \"zoe\", \"sorority\", \"surfing\", \"nerd\", \"cheer\", \"charlies\", \"gym\", \"seniors\", \"sams\", \"nerdy\", \"baseball\", \"dale\", \"graduates\", \"min\", \"santas\", \"bens\", \"med\", \"bullying\", \"geek\", \"lex\", \"pitcher\", \"amish\", \"basketball\", \"football\", \"palmer\", \"boxing\", \"hercules\", \"pro\", \"school\", \"christmas\", \"high\", \"college\", \"students\", \"hockey\", \"angeles\", \"los\", \"student\", \"player\", \"store\", \"season\", \"club\", \"classmates\", \"schools\", \"sam\", \"team\", \"charlie\", \"girls\", \"night\", \"teacher\", \"game\", \"teen\", \"begins\", \"dreams\", \"friends\", \"new\", \"girl\", \"finds\", \"day\", \"girlfriend\", \"job\", \"young\", \"world\", \"town\", \"time\", \"friend\", \"gets\", \"meets\", \"love\", \"must\", \"get\", \"way\", \"make\", \"find\", \"best\", \"marilyn\", \"unexplained\", \"disorder\", \"uel\", \"undertake\", \"jekyll\", \"stevie\", \"hitandrun\", \"soil\", \"holt\", \"rodrigo\", \"pages\", \"cured\", \"randolph\", \"janes\", \"excess\", \"exodus\", \"kubrick\", \"bin\", \"bipolar\", \"contents\", \"mickeys\", \"dunham\", \"specials\", \"moran\", \"compassion\", \"gable\", \"theroux\", \"brando\", \"jo\\u00e3o\", \"val\", \"plants\", \"inmate\", \"patients\", \"clinic\", \"dr\", \"diagnosed\", \"researcher\", \"berg\", \"disease\", \"nancy\", \"irene\", \"terminal\", \"cancer\", \"patient\", \"brain\", \"psychiatric\", \"illness\", \"mental\", \"cyborg\", \"powell\", \"psychiatrist\", \"cure\", \"hospital\", \"stanley\", \"professor\", \"doctor\", \"research\", \"bob\", \"jack\", \"james\", \"hu\", \"henry\", \"alex\", \"people\", \"robert\", \"story\", \"time\", \"whose\", \"director\", \"also\", \"young\", \"becomes\", \"like\", \"dead\", \"family\", \"real\", \"world\", \"mysterious\", \"lives\", \"death\", \"prison\", \"may\", \"first\", \"takes\", \"years\", \"film\", \"night\", \"finds\", \"day\"], \"Freq\": [4737.0, 2067.0, 3916.0, 4446.0, 1342.0, 1529.0, 2199.0, 3988.0, 1201.0, 1983.0, 2559.0, 1199.0, 1972.0, 1155.0, 2272.0, 1210.0, 670.0, 3752.0, 2591.0, 1416.0, 1079.0, 664.0, 1905.0, 831.0, 4861.0, 889.0, 1775.0, 735.0, 2246.0, 591.0, 81.10265285233997, 43.11138086984537, 41.11344152852336, 48.80904032424574, 34.11544143013557, 105.87083020192331, 89.3599593552057, 27.117500541238364, 27.11734255536653, 26.117731376077067, 26.11764242541607, 26.117085608379227, 27.0592957487034, 25.11787840163424, 25.117761420901648, 25.117616886854496, 25.117417683875914, 28.972438971996667, 23.118470940784242, 23.118334968777063, 23.11775800490479, 22.11882194810563, 22.11870255927666, 21.11922367784818, 21.119088269642827, 23.03138659604879, 47.96985430675213, 20.118053243716048, 25.83909775337262, 19.11974706663933, 38.46013055928012, 42.1951473492987, 67.69582703474484, 37.44631219476372, 63.67592023689288, 114.14074702559307, 95.26295308875227, 54.684010530149045, 134.14962839325074, 39.62663830441073, 75.7480671629589, 71.59616026121779, 372.51659312586963, 47.25755513637146, 1085.563057269471, 569.336602702343, 275.5811845351263, 119.27009664430773, 56.948154439563446, 566.8933867324112, 66.38391557852754, 253.69589868692606, 219.565298366552, 1241.129350624573, 285.0791868932673, 170.251959168669, 720.5596438989601, 520.2776533104383, 666.521216374097, 625.6402573872678, 696.3454076854252, 516.1730607470522, 531.5057343629114, 668.6603947961157, 247.34946678976016, 450.02938020407635, 495.1581219549282, 417.6304394109826, 683.6165913729728, 507.9383378235629, 395.04184497759877, 524.9935471173733, 373.45407630273667, 346.90934897977684, 361.0409775676163, 813.0212482696046, 354.8484580750723, 329.4579130529392, 528.859804608834, 412.59976007211355, 401.89261681067006, 350.55475913930877, 478.0400697863228, 403.2238088616143, 386.6862269845187, 365.5019012284624, 210.7208519497798, 176.4747603652725, 140.24064931399022, 75.43598404992073, 87.65079399254196, 580.6465763259682, 33.48651700236932, 90.1725703887511, 58.29664010409453, 26.809849879907844, 435.2472402670357, 55.451506888487074, 25.860580990763808, 25.85877120825281, 24.90742739888562, 403.11900002364246, 22.04799247425473, 20.14087396319613, 199.92138190872316, 301.6919898420947, 18.23385937040458, 51.06163614232492, 18.23178170327255, 18.2282423474387, 56.484995921808114, 19.110245176065547, 17.280498812839014, 17.28023515454105, 20.891006405096373, 16.326810788422833, 1449.382623697829, 68.3917619613653, 226.15860882797605, 195.13492634173048, 443.47142132948375, 741.1790549368702, 88.93547549804254, 86.99645329667113, 402.0933932452086, 1008.5237403508997, 71.79134829784311, 271.0885174693965, 164.4448629418446, 670.4702338056046, 200.66608267060047, 645.109233107488, 455.4786473100756, 181.8172574759047, 396.796206792036, 167.61781919483215, 170.1083732390452, 526.029900645532, 196.96126693769241, 434.1953199287191, 496.9382032901355, 1128.8617541911249, 670.0000263236232, 212.75607087100354, 424.70485026086, 659.5925026610745, 457.97002810663497, 331.7859966782489, 1283.2946354449327, 880.3598709449305, 615.5573650236344, 760.8790897769884, 1064.3247894653573, 724.7199402319713, 637.3269205230446, 498.1532259506108, 537.6065300888025, 538.1197413561129, 549.4381904190807, 564.557290773694, 504.87677040814526, 551.1658125626521, 489.75750366081286, 496.1352376794601, 483.5049284102587, 464.40968257275375, 210.50364482452923, 307.71788901295497, 123.28880917709631, 123.02257123830722, 365.8399096475056, 69.5937051108533, 68.61839276184853, 56.876153854298224, 54.919063709013614, 54.91905118982172, 111.7160016847998, 51.983416012340086, 50.02658457986193, 127.76271211685976, 45.13398882834693, 48.00581600000876, 43.176903376786015, 41.21968089120338, 37.30601046510928, 36.32714034349299, 35.34886258990047, 35.34868127954742, 35.34852279555785, 44.8975663862411, 36.29653343464256, 34.36737726344589, 33.39170866115333, 32.41310235914497, 32.41308635600611, 31.43466213922473, 110.2707264910146, 74.24280109443933, 147.86798324501416, 48.566154595275975, 272.46068217243663, 70.04488426928289, 89.4431559390204, 74.51450790080166, 176.94989244627962, 335.49836362197095, 601.9992708846771, 177.1443802859914, 136.10146846292477, 69.57613046687275, 460.6721324808874, 565.3099232557149, 314.57713998270725, 340.4630227289903, 576.6372681550843, 122.19299391471736, 619.273020767619, 111.73919432045953, 120.43083086420854, 340.1311372493338, 165.79635096711198, 182.9072256136867, 376.781827822782, 623.6901528166541, 116.96444386574912, 221.65409783470864, 327.47640910828216, 1272.9492099951322, 372.7586478377039, 253.68154005697974, 387.94318013310516, 455.48269971830194, 271.6066351830622, 808.9039915797113, 487.4586062790394, 1276.9039249028378, 301.52087475428254, 853.4510759076262, 410.08978839870144, 490.62488222570306, 410.7670083884462, 502.68534586187064, 468.25304077615436, 535.2069653714556, 347.57220986095274, 443.8092533410177, 516.0915350705741, 349.43850350353216, 394.92772125600607, 369.9341782388407, 352.51760225012816, 346.964104471593, 200.76770820097727, 174.97769940784605, 130.9355571443411, 104.37930409364972, 80.69671248389811, 65.82745571866926, 53.2346193419965, 50.28407021600587, 49.300537328635535, 47.320976137804976, 46.34964592178075, 367.78782742548003, 46.16735912813427, 33.56357612611991, 33.56315730395375, 32.57974844591413, 30.612765276462383, 30.61275688300527, 202.79721851296958, 29.629167448045976, 45.85502757503501, 29.62029236608929, 30.569398607756014, 28.64565625386842, 28.644655377381053, 124.13115520283439, 27.638788484848536, 31.406748536383844, 235.06595974948127, 344.8420531225101, 1291.0035905697039, 96.72748484723984, 52.23657391198512, 173.17015576552566, 96.97510965964851, 199.19912621702744, 47.398239001295494, 108.33786244148928, 53.81621292837282, 324.84586683915904, 67.37689337303777, 47.293628917338744, 275.34692932418767, 577.7412274977528, 142.81640568613142, 208.1184907465428, 191.68137150171654, 132.83084119795666, 126.38216159281764, 165.82543525305354, 2851.1663094325495, 252.44721779875624, 730.4883911764799, 767.7929144741869, 325.03303316009647, 397.7356575259465, 200.79957856663046, 171.87556950856757, 192.86680519077623, 204.41014922064159, 490.94719261148845, 401.5519536487825, 220.01305285340428, 454.6026063656267, 1477.5958348261922, 355.1197358803464, 382.68535431714014, 800.6619014149367, 526.1367278238323, 323.9483709572515, 845.4328759152389, 694.3467003184761, 293.5905517022372, 421.996993169453, 312.6906344858141, 506.13051002121574, 395.39157921562554, 307.03675633770564, 371.81355488700046, 332.7033718115009, 376.3038517825391, 328.15633126791914, 312.14448183872935, 47.372640129137444, 40.48499825473324, 108.21814822326478, 30.640844109549086, 25.686454196545853, 24.73390052300142, 23.749727205693905, 22.765276965076108, 21.78090062437014, 19.811780940503944, 20.71208376575974, 18.827265010676932, 18.827033424635612, 17.842989506843146, 17.84290418968991, 20.62065693026711, 16.858141751897726, 16.857463021631293, 14.888606173485265, 14.886377362923762, 14.878241198632372, 14.870401475464348, 108.52184893982586, 13.904942115772991, 13.904759202442614, 13.904494372448893, 13.90123688565387, 13.892753407215514, 25.005721932733035, 12.920692901214691, 52.83789352356559, 94.43964313713677, 26.6159964937234, 29.13229424186292, 97.92058733062721, 45.912564964764314, 23.612094543933093, 61.99304808571252, 76.17485653996484, 50.802021371717146, 794.2229468027925, 51.057486242233956, 317.339464813018, 38.86302047346082, 490.4766724256324, 43.99394120848631, 1633.7979561280538, 43.82518766439058, 262.61204017721167, 119.67266715774066, 590.4124736151596, 69.38520520250812, 118.81456859401236, 1435.8542733320562, 257.01468295773026, 701.692897871725, 457.56014097231116, 214.8387551703331, 124.94021979499882, 531.5163886189752, 185.25208591728887, 321.25318534054696, 547.5753796369152, 346.3169042017756, 157.67800786154115, 222.09196636524717, 124.13961321644607, 189.99452941828685, 113.72992274514188, 201.95196777971464, 255.16223587121752, 525.320292998772, 469.7527599070752, 332.18718975985786, 295.26725502483725, 175.87968709315612, 247.97717086149854, 433.3464315795898, 263.64459592825636, 163.81221660465755, 199.2025345439471, 194.61248654607405, 228.9816418310812, 209.3515737322713, 211.51440911233402, 210.48265880511553, 199.30185912770872, 109.94804600254407, 40.16340356883535, 40.09997817839787, 35.03065169010037, 26.8175869547489, 25.791858381641273, 22.71197100391338, 21.685585156699645, 21.66371295094354, 20.658628979460993, 26.525090452324232, 19.627548312991415, 18.604408991459344, 17.579192416765387, 17.579143799026003, 16.5527816276496, 15.525472207892575, 15.515655735992624, 15.509270338810516, 16.473309109845164, 14.499742904784217, 15.417489980544913, 22.126472118441413, 13.473152173302283, 13.473071525149967, 13.473023439136043, 13.472877677463746, 14.421270420357478, 36.41541858306469, 22.00679423318951, 96.6911201832347, 50.443601439477725, 118.45100039669653, 30.24389496297323, 34.654953472978235, 53.01130355816648, 41.20098273565358, 32.12263089996664, 64.28984858561488, 69.47206156109067, 544.9443229831493, 106.95727291094427, 614.4632950292452, 205.26200636900109, 681.0301398226954, 58.641641793431546, 2137.1697015763025, 1119.212103883744, 95.37779736520596, 351.6197874446706, 62.78699223027764, 103.80066501710598, 162.96945465222166, 1157.6900163314472, 127.28596586281373, 1783.713078186217, 831.7656103544697, 153.82768695800462, 823.4645489022479, 474.8007234246162, 1079.3645285347068, 255.899273219639, 222.99603962460498, 308.03353292617845, 175.02265952473934, 388.0646377664494, 458.5137803749398, 773.9534502924339, 380.9208774579829, 1394.9011263120806, 719.5851666194714, 677.3236954076741, 661.0273397134379, 370.1258083352758, 278.91491520652863, 448.361044476751, 584.1114170932419, 426.6984890868747, 417.0068530093707, 449.5510544726688, 359.1230861832178, 403.25055717926494, 420.66176237976435, 550.5575571218549, 468.3102971452427, 403.1947781247206, 418.5225829968142, 383.4943174364391, 169.49804945531028, 130.9095851135649, 156.46854700568454, 79.4552594959693, 77.45466883666978, 62.5972346092485, 84.00254322889558, 50.69730372864521, 35.82266433637332, 37.720013010431444, 32.847790554203755, 30.850709283401955, 29.872500949333983, 28.866368068232415, 29.785320987480844, 26.89800884334114, 26.89796767631247, 30.72817099975527, 113.20302692978431, 34.502151402751046, 22.927759374509876, 24.79047058401332, 20.948366515516142, 20.948310077048816, 20.948099615704518, 41.85433407438861, 20.912125390293333, 19.956335288640545, 18.96495945392548, 18.96462458606062, 108.40130559771661, 218.1332982557296, 33.85846524991002, 98.89530510069768, 49.43592708738063, 52.880841518265946, 1714.0250779627554, 436.3099189629446, 963.8448877311771, 594.2096203057424, 415.8210836098027, 61.89876203660663, 313.3087008083841, 328.8605804846342, 549.2389377284197, 169.6043536495005, 216.71456125960785, 81.56668261223322, 202.30062478125248, 66.62242056244213, 91.99084175916042, 204.50206593017447, 494.11934502999236, 184.68240930835412, 356.4168412061047, 541.3957348573718, 268.20754373743466, 307.48306694357046, 150.87270764749982, 489.79193602642613, 295.2726683210061, 626.1997429524064, 930.9133064799311, 569.5805501318247, 595.4704799125954, 514.8543549434406, 313.8637192819011, 383.08346907409305, 796.4356811403554, 631.2291169078086, 436.80368139094463, 507.5451608334901, 401.1003917666817, 381.19112832419705, 362.8296087244175, 479.04031180258124, 396.62303812365184, 396.69896504702945, 371.95386185919364, 361.32774092456197, 386.7288341503178, 336.1072584817432, 29.00254119936544, 34.70360295253012, 56.665844233570844, 22.052832197905673, 21.055585905097015, 20.059545438836967, 20.059175676930465, 20.058989667636055, 24.801941072290518, 19.06258221062784, 17.068767127383826, 17.068337733042117, 20.84638562419293, 17.04991534401173, 18.914633328787062, 16.071907987429746, 16.071454336952005, 16.071207742304793, 17.951668019488302, 16.03717064783359, 15.074988273975723, 14.0788990744936, 14.078652413821906, 14.077981767585038, 14.056721782042082, 14.992400809744197, 14.03112537399907, 13.081791187291765, 12.085220726331002, 12.085022662685454, 22.158508106793924, 43.52399791141399, 43.27475025240981, 127.86238983167866, 59.94495556254039, 508.59041863072594, 53.242380864374546, 34.370834718534795, 31.800853953046836, 132.3462508193546, 59.42093754984615, 52.80024388534365, 38.27756571450633, 88.06132717184734, 87.27126088412922, 99.86012652841413, 55.77846684798833, 85.46959100303198, 150.56513790928352, 31.368998125582063, 28.510665851276514, 78.2477231290069, 71.73477623222264, 192.7313730743873, 54.606044427286825, 174.4783533914151, 214.88910955776134, 102.83772549337179, 94.06286263156098, 178.45436370256974, 155.05486727281237, 207.41694113539577, 118.14185560216767, 109.7869067587698, 311.3749185707663, 121.53805075875097, 400.5390848257059, 336.8860030660932, 199.58941226365474, 167.14692351627008, 229.0909172922754, 368.6686060518632, 225.78766425023582, 185.781983519964, 168.3935470287654, 278.098905814231, 164.31729938202318, 254.2259491981431, 171.94493989918803, 212.91656434519135, 193.47474864391833, 152.7072391778661, 152.41825345432392, 201.09206131462008, 186.1776293493718, 188.92036127167827, 183.7028500653053, 162.13158079202728, 167.23429145871594, 163.92208580078952], \"Total\": [4737.0, 2067.0, 3916.0, 4446.0, 1342.0, 1529.0, 2199.0, 3988.0, 1201.0, 1983.0, 2559.0, 1199.0, 1972.0, 1155.0, 2272.0, 1210.0, 670.0, 3752.0, 2591.0, 1416.0, 1079.0, 664.0, 1905.0, 831.0, 4861.0, 889.0, 1775.0, 735.0, 2246.0, 591.0, 81.96737325199884, 43.97770419803638, 41.97820735413295, 49.971309042359074, 34.98011445833746, 108.91285852768503, 91.9277458120457, 27.982011872820582, 27.982009144511427, 26.982282553127686, 26.982285834009506, 26.982271510481425, 27.980780378080432, 25.98255215778086, 25.982547997180895, 25.98254447658533, 25.982548775855346, 29.979261580951267, 23.983092810311835, 23.98309499147673, 23.983084912801406, 22.983367912669237, 22.98336354426726, 21.983639649085468, 21.98363974130103, 23.982827001252797, 49.95860837861757, 20.98389473246585, 26.98563895352188, 19.984181584773186, 40.965116107040565, 45.93249290728135, 77.82319211548186, 40.90183622639234, 72.84102084049135, 140.57122551030074, 115.59241233748347, 62.8246380411166, 174.59337678425186, 44.0712191024948, 95.41096869931863, 91.04177948571727, 670.4209619349513, 55.855938921095756, 2591.8263568859898, 1201.8047821070693, 500.64477871200296, 179.07790591375263, 71.7547985071264, 1330.3900119553803, 88.5129156745026, 507.6735653288598, 419.82149242713587, 4446.216445396484, 618.2267073070922, 313.02693696422256, 2379.6508228685643, 1525.9119003700112, 2246.3859792044623, 2073.2067179918477, 2434.936350990838, 1680.0341966028698, 1775.1434997956085, 2559.0963367299223, 582.2829301552694, 1529.2899043888883, 1786.0463529188385, 1385.8740047785716, 3052.263819720655, 1935.0437612833402, 1309.4431300563053, 2238.4409389012403, 1232.0236584854495, 1100.1063961006603, 1202.2910239845528, 5612.601221576159, 1211.1091610000783, 1055.192951174031, 2934.751322384349, 1983.8567176420943, 1862.2809483284996, 1279.028542517638, 3988.925249869349, 2237.69559672009, 2357.2783826316304, 1905.1272589844932, 211.70487368359903, 177.37694163440622, 141.14658377731834, 76.31145114446157, 88.71083472505084, 591.5000535567577, 34.35989227572772, 92.57606921296377, 60.14814827442505, 27.68597421597979, 449.4733242777689, 57.29477514661666, 26.732343911088893, 26.732372506715212, 25.77887409266525, 418.2116598109243, 22.918504314908564, 21.011634330082735, 209.17349502690993, 316.06642904708036, 19.104760780814566, 53.50128643438098, 19.10482652095308, 19.104897024289105, 59.23637240385162, 20.063714123175355, 18.151311582136586, 18.151311576371274, 21.970472515138702, 17.197884376766034, 1529.5310893313929, 72.643894626011, 244.69598625440318, 212.16048309459933, 491.538196867, 831.3104114216687, 95.6272446224334, 93.70717295377918, 456.30396376110383, 1210.8150015285926, 77.45778620022098, 318.39814902736583, 187.5040741921079, 837.7791550110721, 236.86709697851242, 860.2428390720188, 594.7088286106128, 216.87374508561194, 522.6704599998836, 200.23032464507796, 205.33045810360886, 806.1515305381589, 250.32266377954284, 656.565055183502, 789.4220255352863, 2272.7520185134786, 1297.1039859257705, 277.80195889017574, 710.5928375504726, 1441.5675614678844, 947.5293714647181, 585.5842624807791, 5612.601221576159, 3052.263819720655, 1758.9286580428663, 2591.8263568859898, 4861.617059316009, 2463.410810193715, 1935.0437612833402, 1386.7095860305315, 1680.0341966028698, 1775.6384861768036, 1954.7480520351853, 2237.69559672009, 1978.220799199088, 3988.925249869349, 1905.1272589844932, 2997.1930887427507, 2238.4409389012403, 1769.2957573734902, 211.37101095637755, 309.2365210566866, 124.27953270901733, 124.28517025739666, 369.9601372201489, 70.46428444602815, 69.48569811937405, 57.74346099664871, 55.78642346720846, 55.786423396660446, 113.53075042071107, 52.85086714764833, 50.89382518423869, 130.16257093381083, 46.00122778557374, 48.93816852551737, 44.04418853804561, 42.08715238022341, 38.17307067293096, 37.19454763365014, 36.2160335373124, 36.216033224344386, 36.21603745174692, 46.00298671029737, 37.195119702985366, 35.237571088441904, 34.258998394566845, 33.28047699764387, 33.28047811799521, 32.301959298692374, 113.45910757756204, 76.34088347857288, 153.5216920104435, 49.925749919131576, 286.9599034102845, 72.43589873454555, 93.0078414328941, 77.33036062967223, 187.02996558696933, 360.58993764466777, 664.7657225539336, 190.92064674727706, 145.1552429887219, 72.46411756154728, 521.4881724903476, 651.0694550372409, 353.11776690935665, 387.4675948385007, 681.828697252643, 130.94146648711046, 743.928696554857, 119.2174589322749, 129.41165268466509, 397.69764791563193, 183.2693546408791, 204.90548579575386, 454.40021451685504, 818.3594105209227, 125.62217266946622, 260.5267189069283, 417.39774933845445, 2199.7573832932626, 536.5246016686465, 332.7078343175079, 593.2045544571421, 738.603470978485, 370.5103331707963, 1771.2598004358047, 875.3848667040785, 3752.5168368736595, 452.6634386480698, 2271.6575726711612, 747.5798816541234, 1010.4806894810039, 755.8704228026345, 1079.4232667593485, 988.5189016754043, 1511.7966631994796, 625.3175165565317, 1118.1174052109461, 3052.263819720655, 648.041057117663, 4861.617059316009, 2934.751322384349, 2379.6508228685643, 1862.2809483284996, 201.63434667314888, 176.06486448966928, 131.80201168113652, 105.24605636459958, 81.6417989279846, 66.88650057859074, 54.10124884170817, 51.15058688361843, 50.16703220604044, 48.20009142023885, 47.21637333222543, 374.77246059017307, 47.21549688738547, 34.43017041221152, 34.430168926204686, 33.44661650000403, 31.47950810882536, 31.47950505202826, 208.5792737654919, 30.495956765646625, 47.204449137032924, 30.495923550964864, 31.479840824860727, 29.512400073553376, 29.512399566444902, 127.89406822020189, 28.52916088988436, 32.46559367690876, 243.14115426322024, 357.18774040545253, 1342.7327919060142, 100.36471466882553, 54.144884448476084, 183.05370439977446, 101.31684561721298, 211.49068573218673, 49.1958087764535, 115.1075095091496, 56.02607167418171, 358.2389798593844, 70.8316748549215, 49.178247057806274, 308.8302677804328, 681.1079780142582, 160.02606682992177, 242.01620722243646, 223.36819510059559, 149.50174645505547, 141.77777623426118, 193.04195713058908, 4737.963316944855, 317.3858143638945, 1073.6514020588486, 1155.1415654844543, 433.4893766389465, 558.2330798316399, 250.2746477830478, 208.46006883876507, 242.26809355323877, 264.90268374097616, 859.5519620280822, 655.6927578564517, 293.7072329364316, 812.7369420522707, 4861.617059316009, 603.4006066157237, 695.0604877931925, 2357.2783826316304, 1202.554648382229, 615.1101230582751, 3916.8127634100474, 3752.5168368736595, 588.8694689576882, 1511.7966631994796, 707.5798871712245, 2997.1930887427507, 1667.4354155857104, 784.4010744392658, 1942.207258756169, 1216.6449800721032, 2934.751322384349, 2385.5830866152623, 5612.601221576159, 48.24322445456684, 41.352031838465905, 111.1980289001337, 31.507473012533847, 26.58428219243775, 25.60073757958846, 24.616280744443188, 23.631824474089846, 22.647368041132236, 20.678457143843442, 21.66352774159436, 19.693996320114067, 19.694008326175677, 18.709544030030433, 18.709541039802673, 21.6618527503577, 17.725091042657517, 17.725067835220877, 15.756177037995457, 15.756152974272492, 15.756286582326869, 15.756058507946907, 115.07706595955555, 14.771726577742527, 14.771716233032988, 14.77172241057342, 14.771756879235214, 14.77170515695973, 26.594106655553887, 13.787261361375876, 57.07068006609796, 103.34011714460635, 28.569299910926123, 31.571986638844574, 111.23877121845302, 51.3026753193544, 25.64870604811615, 71.6865161436363, 89.53588887493558, 59.14986532817014, 1201.353971648572, 59.8591593091552, 450.68828570222456, 45.35257173676013, 889.2746573445628, 53.3798671716158, 3916.8127634100474, 53.16014259995764, 456.56905846696907, 178.6873919597141, 1416.1176809095982, 96.5320716624158, 192.2606712069297, 4737.963316944855, 524.1912570457753, 1983.8567176420943, 1175.6695769318983, 454.07514305531697, 220.90819136937805, 1665.8472147890877, 386.62382491475955, 958.538061062245, 2199.7573832932626, 1202.554648382229, 349.6535740781598, 618.2267073070922, 247.93728123724674, 524.3622572097802, 221.3238725516774, 635.4071665660871, 994.212628337118, 4446.216445396484, 3752.5168368736595, 1942.207258756169, 1769.2957573734902, 503.1974058520758, 1230.3961621728824, 5612.601221576159, 1667.4354155857104, 439.45913011998584, 923.1297613700496, 853.4616623995414, 2385.5830866152623, 1511.7966631994796, 2997.1930887427507, 3052.263819720655, 1516.4165038770839, 110.83040312968477, 41.02504886844518, 41.020675361621045, 35.892264549721325, 27.67977071834243, 26.65324609253763, 23.57357263431196, 22.547021371867178, 22.545462341306056, 21.520449754110118, 27.669796713034078, 20.49370451855907, 19.467298441128804, 18.440780753537677, 18.440783431014125, 17.414234543619667, 16.38765606403173, 16.387219591445515, 16.386489451769435, 17.408583864009195, 15.361122608891671, 16.383975201882492, 23.531869927722344, 14.334561316187472, 14.334558785445868, 14.334558611096476, 14.334549408210334, 15.359072331873513, 38.903310561538675, 23.523352147647763, 104.47970370300678, 54.227369536832725, 129.87702994358054, 32.69398013188061, 37.881886524888984, 59.17629196663542, 46.05077825251755, 35.724885778312334, 75.61435896593254, 82.35412027326633, 802.2779168260706, 135.17869103301382, 929.2475123667288, 281.2647769967767, 1102.5031994346073, 70.16244468806816, 3988.925249869349, 1972.6482776901942, 122.6110896430654, 550.3560003910532, 76.40809887699221, 136.43660881392665, 239.56725317704627, 2559.0963367299223, 182.91407892411337, 4446.216445396484, 1775.6384861768036, 233.39436148591173, 1905.1272589844932, 980.8371060433727, 2997.1930887427507, 467.8666002718331, 398.34188442723257, 614.5482069728412, 299.7324343150165, 897.2484428853645, 1144.9505981281209, 2385.5830866152623, 894.3117048814722, 5612.601221576159, 2238.4409389012403, 2237.69559672009, 2272.7520185134786, 934.5144483597917, 618.2323090478827, 1385.8740047785716, 2246.3859792044623, 1297.1039859257705, 1308.9960129122592, 1905.5943314157976, 1159.9542424753288, 1618.812157814023, 1959.5279842592647, 4861.617059316009, 2934.751322384349, 2463.410810193715, 3916.8127634100474, 2434.936350990838, 170.55919939409057, 131.88555051948427, 157.67421173111646, 80.32093179370257, 78.3377470221612, 63.46296538780337, 85.28250742225252, 51.56323260678816, 36.68855205431784, 38.66852523185045, 33.71361581443787, 31.730298760917677, 30.738680467335218, 29.746926159908558, 30.73912702108676, 27.76374549861811, 27.76374497830744, 31.731379346713236, 117.00776728669538, 35.698594304229246, 23.797193326280322, 25.77881599643988, 21.813876941436288, 21.813875989196607, 21.81387445058814, 43.627670766185695, 21.8136184318427, 20.82222513191774, 19.830585651318135, 19.83058720479397, 113.99904554912443, 238.1181247485786, 35.688966215241045, 107.00301861699711, 52.63415735073766, 56.42985202140817, 2067.8971588691643, 514.2083951262069, 1199.8199436859584, 735.9933547871523, 526.6275166821619, 68.37599340288014, 408.4802399811985, 435.22545346344236, 779.7116090408205, 213.50974242666226, 285.02936552989684, 99.31810180794291, 293.18621594757315, 79.57869362677988, 120.14629180135088, 336.0958057227929, 1079.4232667593485, 305.0847560202113, 790.6191032418758, 1435.0626660180567, 549.877598418662, 683.2636665976489, 246.30499087434123, 1445.9651412011306, 709.3533190724735, 2434.936350990838, 4861.617059316009, 2246.3859792044623, 2463.410810193715, 1959.5279842592647, 806.2496978591201, 1203.1626999554487, 5612.601221576159, 3752.5168368736595, 1983.8567176420943, 2934.751322384349, 1786.0463529188385, 1680.0341966028698, 1525.9119003700112, 4446.216445396484, 2271.6575726711612, 2591.8263568859898, 2073.2067179918477, 1775.1434997956085, 3052.263819720655, 1309.4431300563053, 29.89604274461477, 35.86783128038869, 58.83820976953787, 22.91794282575152, 21.92118241621103, 20.92443169943663, 20.924428986780597, 20.9244143965963, 25.905014160612097, 19.927674995040373, 17.93417062848126, 17.93415925607076, 21.917839632909462, 17.934730449210115, 19.92695753303292, 16.937403890833238, 16.937401328636163, 16.937389733138822, 18.92596446597708, 16.937515920448956, 15.940647868581637, 14.943900992643217, 14.943898601334206, 14.94388877418723, 14.94349759449145, 15.93914030528097, 14.94325731319243, 13.947151453256291, 12.95038722515989, 12.950388518276142, 23.914062805585083, 47.80475613147861, 47.769346374956314, 147.081871509116, 68.70112340477178, 670.4829113674165, 60.88257586062574, 38.839730407188085, 35.736286998304756, 170.06558704465908, 71.75294954920946, 63.456871855266265, 44.84743407885264, 119.95952924518329, 119.03408400529837, 142.91362607611688, 72.32270227103493, 121.04793851656147, 241.94737830328458, 36.81763760204865, 32.825225509025714, 120.65891736745785, 110.28457487537594, 411.5926729353372, 79.5740215829995, 402.370857503447, 581.6025847505709, 203.67636879832042, 180.73268619922118, 489.1624508551969, 461.02900936088344, 756.4304439621362, 306.25305646532314, 287.8616561557368, 1942.207258756169, 367.240378296289, 3916.8127634100474, 2934.751322384349, 1040.190502770312, 859.5519620280822, 1762.0484973959549, 5612.601221576159, 1954.7480520351853, 1202.2910239845528, 947.5293714647181, 3988.925249869349, 973.1890162290609, 3752.5168368736595, 1144.9615752674179, 2385.5830866152623, 1769.2957573734902, 806.1515305381589, 806.7659727979743, 2357.2783826316304, 1978.220799199088, 2997.1930887427507, 4737.963316944855, 1435.0626660180567, 2463.410810193715, 1959.5279842592647], \"Category\": [\"Default\", \"Default\", \"Default\", \"Default\", \"Default\", \"Default\", \"Default\", \"Default\", \"Default\", \"Default\", \"Default\", \"Default\", \"Default\", \"Default\", \"Default\", \"Default\", \"Default\", \"Default\", \"Default\", \"Default\", \"Default\", \"Default\", \"Default\", \"Default\", \"Default\", \"Default\", \"Default\", \"Default\", \"Default\", \"Default\", \"Topic1\", \"Topic1\", \"Topic1\", \"Topic1\", \"Topic1\", \"Topic1\", \"Topic1\", \"Topic1\", \"Topic1\", \"Topic1\", \"Topic1\", \"Topic1\", \"Topic1\", \"Topic1\", \"Topic1\", \"Topic1\", \"Topic1\", \"Topic1\", \"Topic1\", \"Topic1\", \"Topic1\", \"Topic1\", \"Topic1\", \"Topic1\", \"Topic1\", \"Topic1\", \"Topic1\", \"Topic1\", \"Topic1\", \"Topic1\", \"Topic1\", \"Topic1\", \"Topic1\", \"Topic1\", \"Topic1\", \"Topic1\", \"Topic1\", \"Topic1\", \"Topic1\", \"Topic1\", \"Topic1\", \"Topic1\", \"Topic1\", \"Topic1\", \"Topic1\", \"Topic1\", \"Topic1\", \"Topic1\", \"Topic1\", \"Topic1\", \"Topic1\", \"Topic1\", \"Topic1\", \"Topic1\", \"Topic1\", \"Topic1\", \"Topic1\", \"Topic1\", \"Topic1\", \"Topic1\", \"Topic1\", \"Topic1\", \"Topic1\", \"Topic1\", \"Topic1\", \"Topic1\", \"Topic1\", \"Topic1\", \"Topic1\", \"Topic1\", \"Topic1\", \"Topic1\", \"Topic1\", \"Topic1\", \"Topic1\", \"Topic1\", \"Topic1\", \"Topic1\", \"Topic1\", \"Topic1\", \"Topic1\", \"Topic1\", \"Topic1\", \"Topic1\", \"Topic1\", \"Topic1\", \"Topic2\", \"Topic2\", \"Topic2\", \"Topic2\", \"Topic2\", \"Topic2\", \"Topic2\", \"Topic2\", \"Topic2\", \"Topic2\", \"Topic2\", \"Topic2\", \"Topic2\", \"Topic2\", \"Topic2\", \"Topic2\", \"Topic2\", \"Topic2\", \"Topic2\", \"Topic2\", \"Topic2\", \"Topic2\", \"Topic2\", \"Topic2\", \"Topic2\", \"Topic2\", \"Topic2\", \"Topic2\", \"Topic2\", \"Topic2\", \"Topic2\", \"Topic2\", \"Topic2\", \"Topic2\", \"Topic2\", \"Topic2\", \"Topic2\", \"Topic2\", \"Topic2\", \"Topic2\", \"Topic2\", \"Topic2\", \"Topic2\", \"Topic2\", \"Topic2\", \"Topic2\", \"Topic2\", \"Topic2\", \"Topic2\", \"Topic2\", \"Topic2\", \"Topic2\", \"Topic2\", \"Topic2\", \"Topic2\", \"Topic2\", \"Topic2\", \"Topic2\", \"Topic2\", \"Topic2\", \"Topic2\", \"Topic2\", \"Topic2\", \"Topic2\", \"Topic2\", \"Topic2\", \"Topic2\", \"Topic2\", \"Topic2\", \"Topic2\", \"Topic2\", \"Topic2\", \"Topic2\", \"Topic2\", \"Topic2\", \"Topic2\", \"Topic2\", \"Topic2\", \"Topic2\", \"Topic2\", \"Topic3\", \"Topic3\", \"Topic3\", \"Topic3\", \"Topic3\", \"Topic3\", \"Topic3\", \"Topic3\", \"Topic3\", \"Topic3\", \"Topic3\", \"Topic3\", \"Topic3\", \"Topic3\", \"Topic3\", \"Topic3\", \"Topic3\", \"Topic3\", \"Topic3\", \"Topic3\", \"Topic3\", \"Topic3\", \"Topic3\", \"Topic3\", \"Topic3\", \"Topic3\", \"Topic3\", \"Topic3\", \"Topic3\", \"Topic3\", \"Topic3\", \"Topic3\", \"Topic3\", \"Topic3\", \"Topic3\", \"Topic3\", \"Topic3\", \"Topic3\", \"Topic3\", \"Topic3\", \"Topic3\", \"Topic3\", \"Topic3\", \"Topic3\", \"Topic3\", \"Topic3\", \"Topic3\", \"Topic3\", \"Topic3\", \"Topic3\", \"Topic3\", \"Topic3\", \"Topic3\", \"Topic3\", \"Topic3\", \"Topic3\", \"Topic3\", \"Topic3\", \"Topic3\", \"Topic3\", \"Topic3\", \"Topic3\", \"Topic3\", \"Topic3\", \"Topic3\", \"Topic3\", \"Topic3\", \"Topic3\", \"Topic3\", \"Topic3\", \"Topic3\", \"Topic3\", \"Topic3\", \"Topic3\", \"Topic3\", \"Topic3\", \"Topic3\", \"Topic3\", \"Topic3\", \"Topic3\", \"Topic3\", \"Topic3\", \"Topic3\", \"Topic3\", \"Topic3\", \"Topic3\", \"Topic4\", \"Topic4\", \"Topic4\", \"Topic4\", \"Topic4\", \"Topic4\", \"Topic4\", \"Topic4\", \"Topic4\", \"Topic4\", \"Topic4\", \"Topic4\", \"Topic4\", \"Topic4\", \"Topic4\", \"Topic4\", \"Topic4\", \"Topic4\", \"Topic4\", \"Topic4\", \"Topic4\", \"Topic4\", \"Topic4\", \"Topic4\", \"Topic4\", \"Topic4\", \"Topic4\", \"Topic4\", \"Topic4\", \"Topic4\", \"Topic4\", \"Topic4\", \"Topic4\", \"Topic4\", \"Topic4\", \"Topic4\", \"Topic4\", \"Topic4\", \"Topic4\", \"Topic4\", \"Topic4\", \"Topic4\", \"Topic4\", \"Topic4\", \"Topic4\", \"Topic4\", \"Topic4\", \"Topic4\", \"Topic4\", \"Topic4\", \"Topic4\", \"Topic4\", \"Topic4\", \"Topic4\", \"Topic4\", \"Topic4\", \"Topic4\", \"Topic4\", \"Topic4\", \"Topic4\", \"Topic4\", \"Topic4\", \"Topic4\", \"Topic4\", \"Topic4\", \"Topic4\", \"Topic4\", \"Topic4\", \"Topic4\", \"Topic4\", \"Topic4\", \"Topic4\", \"Topic4\", \"Topic4\", \"Topic4\", \"Topic4\", \"Topic4\", \"Topic4\", \"Topic4\", \"Topic4\", \"Topic4\", \"Topic4\", \"Topic4\", \"Topic5\", \"Topic5\", \"Topic5\", \"Topic5\", \"Topic5\", \"Topic5\", \"Topic5\", \"Topic5\", \"Topic5\", \"Topic5\", \"Topic5\", \"Topic5\", \"Topic5\", \"Topic5\", \"Topic5\", \"Topic5\", \"Topic5\", \"Topic5\", \"Topic5\", \"Topic5\", \"Topic5\", \"Topic5\", \"Topic5\", \"Topic5\", \"Topic5\", \"Topic5\", \"Topic5\", \"Topic5\", \"Topic5\", \"Topic5\", \"Topic5\", \"Topic5\", \"Topic5\", \"Topic5\", \"Topic5\", \"Topic5\", \"Topic5\", \"Topic5\", \"Topic5\", \"Topic5\", \"Topic5\", \"Topic5\", \"Topic5\", \"Topic5\", \"Topic5\", \"Topic5\", \"Topic5\", \"Topic5\", \"Topic5\", \"Topic5\", \"Topic5\", \"Topic5\", \"Topic5\", \"Topic5\", \"Topic5\", \"Topic5\", \"Topic5\", \"Topic5\", \"Topic5\", \"Topic5\", \"Topic5\", \"Topic5\", \"Topic5\", \"Topic5\", \"Topic5\", \"Topic5\", \"Topic5\", \"Topic5\", \"Topic5\", \"Topic5\", \"Topic5\", \"Topic5\", \"Topic5\", \"Topic5\", \"Topic5\", \"Topic5\", \"Topic5\", \"Topic5\", \"Topic5\", \"Topic5\", \"Topic5\", \"Topic5\", \"Topic5\", \"Topic5\", \"Topic5\", \"Topic5\", \"Topic5\", \"Topic6\", \"Topic6\", \"Topic6\", \"Topic6\", \"Topic6\", \"Topic6\", \"Topic6\", \"Topic6\", \"Topic6\", \"Topic6\", \"Topic6\", \"Topic6\", \"Topic6\", \"Topic6\", \"Topic6\", \"Topic6\", \"Topic6\", \"Topic6\", \"Topic6\", \"Topic6\", \"Topic6\", \"Topic6\", \"Topic6\", \"Topic6\", \"Topic6\", \"Topic6\", \"Topic6\", \"Topic6\", \"Topic6\", \"Topic6\", \"Topic6\", \"Topic6\", \"Topic6\", \"Topic6\", \"Topic6\", \"Topic6\", \"Topic6\", \"Topic6\", \"Topic6\", \"Topic6\", \"Topic6\", \"Topic6\", \"Topic6\", \"Topic6\", \"Topic6\", \"Topic6\", \"Topic6\", \"Topic6\", \"Topic6\", \"Topic6\", \"Topic6\", \"Topic6\", \"Topic6\", \"Topic6\", \"Topic6\", \"Topic6\", \"Topic6\", \"Topic6\", \"Topic6\", \"Topic6\", \"Topic6\", \"Topic6\", \"Topic6\", \"Topic6\", \"Topic6\", \"Topic6\", \"Topic6\", \"Topic6\", \"Topic6\", \"Topic6\", \"Topic6\", \"Topic6\", \"Topic6\", \"Topic6\", \"Topic6\", \"Topic6\", \"Topic6\", \"Topic6\", \"Topic6\", \"Topic6\", \"Topic6\", \"Topic6\", \"Topic6\", \"Topic6\", \"Topic6\", \"Topic6\", \"Topic6\", \"Topic6\", \"Topic7\", \"Topic7\", \"Topic7\", \"Topic7\", \"Topic7\", \"Topic7\", \"Topic7\", \"Topic7\", \"Topic7\", \"Topic7\", \"Topic7\", \"Topic7\", \"Topic7\", \"Topic7\", \"Topic7\", \"Topic7\", \"Topic7\", \"Topic7\", \"Topic7\", \"Topic7\", \"Topic7\", \"Topic7\", \"Topic7\", \"Topic7\", \"Topic7\", \"Topic7\", \"Topic7\", \"Topic7\", \"Topic7\", \"Topic7\", \"Topic7\", \"Topic7\", \"Topic7\", \"Topic7\", \"Topic7\", \"Topic7\", \"Topic7\", \"Topic7\", \"Topic7\", \"Topic7\", \"Topic7\", \"Topic7\", \"Topic7\", \"Topic7\", \"Topic7\", \"Topic7\", \"Topic7\", \"Topic7\", \"Topic7\", \"Topic7\", \"Topic7\", \"Topic7\", \"Topic7\", \"Topic7\", \"Topic7\", \"Topic7\", \"Topic7\", \"Topic7\", \"Topic7\", \"Topic7\", \"Topic7\", \"Topic7\", \"Topic7\", \"Topic7\", \"Topic7\", \"Topic7\", \"Topic7\", \"Topic7\", \"Topic7\", \"Topic7\", \"Topic7\", \"Topic7\", \"Topic7\", \"Topic7\", \"Topic7\", \"Topic7\", \"Topic7\", \"Topic7\", \"Topic7\", \"Topic7\", \"Topic7\", \"Topic7\", \"Topic8\", \"Topic8\", \"Topic8\", \"Topic8\", \"Topic8\", \"Topic8\", \"Topic8\", \"Topic8\", \"Topic8\", \"Topic8\", \"Topic8\", \"Topic8\", \"Topic8\", \"Topic8\", \"Topic8\", \"Topic8\", \"Topic8\", \"Topic8\", \"Topic8\", \"Topic8\", \"Topic8\", \"Topic8\", \"Topic8\", \"Topic8\", \"Topic8\", \"Topic8\", \"Topic8\", \"Topic8\", \"Topic8\", \"Topic8\", \"Topic8\", \"Topic8\", \"Topic8\", \"Topic8\", \"Topic8\", \"Topic8\", \"Topic8\", \"Topic8\", \"Topic8\", \"Topic8\", \"Topic8\", \"Topic8\", \"Topic8\", \"Topic8\", \"Topic8\", \"Topic8\", \"Topic8\", \"Topic8\", \"Topic8\", \"Topic8\", \"Topic8\", \"Topic8\", \"Topic8\", \"Topic8\", \"Topic8\", \"Topic8\", \"Topic8\", \"Topic8\", \"Topic8\", \"Topic8\", \"Topic8\", \"Topic8\", \"Topic8\", \"Topic8\", \"Topic8\", \"Topic8\", \"Topic8\", \"Topic8\", \"Topic8\", \"Topic8\", \"Topic8\", \"Topic8\", \"Topic8\", \"Topic8\", \"Topic8\", \"Topic8\", \"Topic8\", \"Topic8\", \"Topic8\", \"Topic8\", \"Topic8\", \"Topic8\", \"Topic8\", \"Topic8\", \"Topic8\", \"Topic8\", \"Topic8\", \"Topic8\", \"Topic8\", \"Topic8\"], \"logprob\": [30.0, 29.0, 28.0, 27.0, 26.0, 25.0, 24.0, 23.0, 22.0, 21.0, 20.0, 19.0, 18.0, 17.0, 16.0, 15.0, 14.0, 13.0, 12.0, 11.0, 10.0, 9.0, 8.0, 7.0, 6.0, 5.0, 4.0, 3.0, 2.0, 1.0, -7.4637, -8.0956, -8.1431, -7.9715, -8.3297, -7.1972, -7.3668, -8.5593, -8.5593, -8.5968, -8.5968, -8.5968, -8.5614, -8.6359, -8.6359, -8.6359, -8.6359, -8.4931, -8.7188, -8.7188, -8.7188, -8.763, -8.763, -8.8092, -8.8093, -8.7226, -7.9889, -8.8578, -8.6075, -8.9087, -8.2098, -8.1171, -7.6444, -8.2365, -7.7056, -7.122, -7.3028, -7.8579, -6.9605, -8.1799, -7.532, -7.5884, -5.9392, -8.0038, -4.8696, -5.515, -6.2406, -7.078, -7.8173, -5.5193, -7.664, -6.3233, -6.4678, -4.7357, -6.2067, -6.7222, -5.2794, -5.6051, -5.3574, -5.4207, -5.3136, -5.613, -5.5837, -5.3542, -6.3486, -5.7501, -5.6546, -5.8248, -5.332, -5.6291, -5.8804, -5.596, -5.9366, -6.0104, -5.9704, -5.1587, -5.9877, -6.062, -5.5887, -5.837, -5.8632, -5.9999, -5.6897, -5.8599, -5.9018, -5.9582, -6.7174, -6.8948, -7.1246, -7.7447, -7.5946, -5.7038, -8.5568, -7.5662, -8.0024, -8.7792, -5.992, -8.0524, -8.8152, -8.8153, -8.8528, -6.0687, -8.9747, -9.0652, -6.77, -6.3585, -9.1647, -8.1349, -9.1648, -9.165, -8.034, -9.1177, -9.2184, -9.2184, -9.0286, -9.2751, -4.7891, -7.8427, -6.6467, -6.7943, -5.9733, -5.4597, -7.58, -7.6021, -6.0713, -5.1517, -7.7942, -6.4655, -6.9654, -5.56, -6.7663, -5.5985, -5.9466, -6.8649, -6.0845, -6.9463, -6.9315, -5.8026, -6.7849, -5.9945, -5.8595, -5.039, -5.5607, -6.7078, -6.0166, -5.5763, -5.9411, -6.2635, -4.9108, -5.2876, -5.6454, -5.4335, -5.0978, -5.4822, -5.6107, -5.857, -5.7808, -5.7799, -5.759, -5.7319, -5.8436, -5.7559, -5.874, -5.8611, -5.8869, -5.9272, -6.5482, -6.1685, -7.0832, -7.0853, -5.9955, -7.655, -7.6691, -7.8568, -7.8918, -7.8918, -7.1817, -7.9468, -7.9851, -7.0475, -8.0881, -8.0264, -8.1324, -8.1788, -8.2785, -8.3051, -8.3324, -8.3324, -8.3324, -8.0933, -8.306, -8.3606, -8.3894, -8.4191, -8.4191, -8.4498, -7.1948, -7.5904, -6.9014, -8.0148, -6.2902, -7.6486, -7.4041, -7.5867, -6.7218, -6.0821, -5.4974, -6.7207, -6.9843, -7.6553, -5.765, -5.5603, -6.1465, -6.0674, -5.5405, -7.0921, -5.4691, -7.1815, -7.1066, -6.0684, -6.7869, -6.6887, -5.966, -5.462, -7.1358, -6.4966, -6.1063, -4.7486, -5.9768, -6.3616, -5.9368, -5.7763, -6.2933, -5.202, -5.7085, -4.7455, -6.1889, -5.1484, -5.8813, -5.702, -5.8797, -5.6777, -5.7487, -5.615, -6.0467, -5.8023, -5.6514, -6.0414, -5.919, -5.9844, -6.0326, -6.0485, -6.5342, -6.6717, -6.9616, -7.1883, -7.4456, -7.6493, -7.8616, -7.9187, -7.9384, -7.9794, -8.0001, -5.9288, -8.0041, -8.3229, -8.3229, -8.3526, -8.4149, -8.4149, -6.5241, -8.4476, -8.0109, -8.4479, -8.4163, -8.4813, -8.4814, -7.015, -8.5171, -8.3893, -6.3765, -5.9933, -4.6732, -7.2644, -7.8806, -6.6821, -7.2619, -6.542, -7.9778, -7.1511, -7.8508, -6.053, -7.626, -7.98, -6.2183, -5.4772, -6.8748, -6.4982, -6.5805, -6.9473, -6.997, -6.7254, -3.8809, -6.3051, -5.2426, -5.1928, -6.0524, -5.8506, -6.534, -6.6896, -6.5743, -6.5162, -5.64, -5.841, -6.4427, -5.7169, -4.5382, -5.9639, -5.8891, -5.1509, -5.5708, -6.0558, -5.0965, -5.2934, -6.1542, -5.7913, -6.0911, -5.6095, -5.8565, -6.1094, -5.9179, -6.0291, -5.9059, -6.0429, -6.0929, -7.5565, -7.7136, -6.7304, -7.9922, -8.1686, -8.2064, -8.247, -8.2893, -8.3335, -8.4283, -8.3838, -8.4792, -8.4792, -8.5329, -8.5329, -8.3883, -8.5897, -8.5898, -8.7139, -8.7141, -8.7146, -8.7152, -6.7276, -8.7823, -8.7823, -8.7823, -8.7826, -8.7832, -8.1954, -8.8557, -7.4473, -6.8666, -8.133, -8.0427, -6.8304, -7.5878, -8.2528, -7.2875, -7.0815, -7.4866, -4.7372, -7.4816, -5.6546, -7.7545, -5.2192, -7.6305, -4.0159, -7.6343, -5.8439, -6.6298, -5.0337, -7.1749, -6.637, -4.145, -5.8654, -4.861, -5.2886, -6.0447, -6.5867, -5.1388, -6.1928, -5.6423, -5.109, -5.5672, -6.354, -6.0115, -6.5931, -6.1675, -6.6807, -6.1065, -5.8726, -5.1505, -5.2623, -5.6088, -5.7267, -6.2447, -5.9012, -5.343, -5.8399, -6.3158, -6.1202, -6.1435, -5.9809, -6.0705, -6.0603, -6.0651, -6.1197, -7.1077, -8.1147, -8.1163, -8.2515, -8.5186, -8.5576, -8.6848, -8.731, -8.7321, -8.7796, -8.5296, -8.8308, -8.8843, -8.941, -8.941, -9.0011, -9.0652, -9.0658, -9.0663, -9.006, -9.1336, -9.0722, -8.7109, -9.207, -9.207, -9.207, -9.207, -9.139, -8.2127, -8.7163, -7.2362, -7.8868, -7.0332, -8.3984, -8.2623, -7.8372, -8.0892, -8.3381, -7.6443, -7.5668, -5.507, -7.1353, -5.3869, -6.4834, -5.2841, -7.7363, -4.1405, -4.7873, -7.2498, -5.9451, -7.6679, -7.1652, -6.7141, -4.7535, -6.9613, -4.3212, -5.0841, -6.7719, -5.0942, -5.6448, -4.8236, -6.2629, -6.4005, -6.0775, -6.6428, -5.8465, -5.6797, -5.1562, -5.8651, -4.5671, -5.229, -5.2895, -5.3139, -5.8939, -6.1768, -5.7021, -5.4376, -5.7516, -5.7746, -5.6994, -5.924, -5.8081, -5.7659, -5.4968, -5.6586, -5.8083, -5.771, -5.8584, -6.662, -6.9204, -6.742, -7.4197, -7.4452, -7.6582, -7.364, -7.869, -8.2163, -8.1647, -8.303, -8.3657, -8.398, -8.4322, -8.4009, -8.5028, -8.5028, -8.3697, -7.0657, -8.2539, -8.6625, -8.5844, -8.7528, -8.7528, -8.7528, -8.0607, -8.7546, -8.8013, -8.8523, -8.8523, -7.109, -6.4098, -8.2727, -7.2008, -7.8942, -7.8268, -4.3483, -5.7165, -4.924, -5.4077, -5.7646, -7.6694, -6.0477, -5.9993, -5.4864, -6.6614, -6.4163, -7.3935, -6.4851, -7.5958, -7.2732, -6.4743, -5.5921, -6.5763, -5.9188, -5.5007, -6.2031, -6.0665, -6.7785, -5.6009, -6.107, -5.3552, -4.9587, -5.45, -5.4055, -5.551, -6.0459, -5.8466, -5.1147, -5.3472, -5.7154, -5.5653, -5.8007, -5.8516, -5.901, -5.6231, -5.8119, -5.8117, -5.8761, -5.9051, -5.8372, -5.9775, -7.9483, -7.7688, -7.2785, -8.2222, -8.2685, -8.317, -8.317, -8.317, -8.1048, -8.3679, -8.4784, -8.4785, -8.2785, -8.4795, -8.3757, -8.5386, -8.5386, -8.5386, -8.428, -8.5408, -8.6026, -8.671, -8.671, -8.6711, -8.6726, -8.6081, -8.6744, -8.7445, -8.8237, -8.8237, -8.2175, -7.5424, -7.5481, -6.4647, -7.2222, -5.084, -7.3408, -7.7785, -7.8562, -6.4303, -7.231, -7.3492, -7.6708, -6.8376, -6.8467, -6.7119, -7.2943, -6.8675, -6.3013, -7.8699, -7.9654, -6.9558, -7.0427, -6.0544, -7.3155, -6.1539, -5.9456, -6.6825, -6.7717, -6.1313, -6.2719, -5.9809, -6.5438, -6.6171, -5.5747, -6.5154, -5.3229, -5.4959, -6.0194, -6.1968, -5.8816, -5.4058, -5.8961, -6.0911, -6.1894, -5.6877, -6.2139, -5.7775, -6.1685, -5.9548, -6.0505, -6.2872, -6.289, -6.0119, -6.089, -6.0744, -6.1024, -6.2273, -6.1963, -6.2163], \"loglift\": [30.0, 29.0, 28.0, 27.0, 26.0, 25.0, 24.0, 23.0, 22.0, 21.0, 20.0, 19.0, 18.0, 17.0, 16.0, 15.0, 14.0, 13.0, 12.0, 11.0, 10.0, 9.0, 8.0, 7.0, 6.0, 5.0, 4.0, 3.0, 2.0, 1.0, 1.985, 1.9757, 1.9748, 1.9721, 1.9706, 1.9673, 1.9673, 1.9642, 1.9642, 1.963, 1.963, 1.963, 1.9621, 1.9617, 1.9617, 1.9617, 1.9617, 1.9614, 1.9589, 1.9589, 1.9588, 1.9572, 1.9572, 1.9555, 1.9555, 1.9551, 1.955, 1.9535, 1.9522, 1.9514, 1.9325, 1.9107, 1.8562, 1.9073, 1.8611, 1.7873, 1.8022, 1.8568, 1.7321, 1.8893, 1.7648, 1.7553, 1.408, 1.8284, 1.1253, 1.2485, 1.3986, 1.5892, 1.7645, 1.1425, 1.7079, 1.3019, 1.3474, 0.7196, 1.2215, 1.3866, 0.8009, 0.9196, 0.7806, 0.7975, 0.7438, 0.8155, 0.7897, 0.6535, 1.1394, 0.7723, 0.7127, 0.7961, 0.4993, 0.6581, 0.7972, 0.5454, 0.802, 0.8415, 0.7926, 0.0636, 0.768, 0.8316, 0.2819, 0.4253, 0.4622, 0.7013, -0.126, 0.2819, 0.1879, 0.3446, 1.7824, 1.782, 1.7806, 1.7755, 1.7751, 1.7686, 1.7613, 1.7608, 1.7558, 1.7549, 1.7549, 1.7544, 1.7539, 1.7539, 1.7527, 1.7503, 1.7484, 1.7448, 1.7418, 1.7405, 1.7404, 1.7404, 1.7403, 1.7401, 1.7395, 1.7384, 1.7379, 1.7379, 1.7367, 1.7351, 1.7333, 1.7268, 1.7083, 1.7034, 1.6842, 1.6723, 1.7145, 1.7128, 1.6606, 1.6043, 1.7111, 1.6262, 1.6559, 1.5643, 1.6212, 1.4993, 1.5204, 1.6108, 1.5116, 1.6093, 1.5989, 1.3602, 1.5473, 1.3736, 1.3242, 1.0873, 1.1265, 1.5203, 1.2724, 1.0052, 1.06, 1.219, 0.3115, 0.5438, 0.7371, 0.5614, 0.268, 0.5636, 0.6765, 0.7633, 0.6476, 0.5932, 0.518, 0.4099, 0.4214, -0.1922, 0.4287, -0.0115, 0.2546, 0.4495, 1.9532, 1.9524, 1.9493, 1.9471, 1.9461, 1.9449, 1.9448, 1.9422, 1.9417, 1.9417, 1.9412, 1.9408, 1.9401, 1.9387, 1.9383, 1.9381, 1.9374, 1.9365, 1.9344, 1.9337, 1.9331, 1.9331, 1.9331, 1.933, 1.9329, 1.9323, 1.9317, 1.9309, 1.9309, 1.9301, 1.9288, 1.9295, 1.9198, 1.9297, 1.9055, 1.9238, 1.9182, 1.9202, 1.9019, 1.8852, 1.8582, 1.8824, 1.8929, 1.9167, 1.8333, 1.8161, 1.8418, 1.828, 1.7898, 1.8882, 1.7739, 1.8925, 1.8854, 1.801, 1.8571, 1.8438, 1.77, 1.6857, 1.8859, 1.7957, 1.7147, 1.4103, 1.5931, 1.6861, 1.5326, 1.4739, 1.6468, 1.1736, 1.3719, 0.8793, 1.551, 0.9784, 1.3569, 1.2348, 1.3475, 1.1931, 1.2101, 0.9189, 1.37, 1.0333, 0.18, 1.3397, -0.5531, -0.1137, 0.0477, 0.277, 2.0144, 2.0125, 2.0121, 2.0104, 2.007, 2.0027, 2.0025, 2.0016, 2.0013, 2.0003, 2.0002, 1.9999, 1.9962, 1.9932, 1.9932, 1.9924, 1.9908, 1.9908, 1.9906, 1.9898, 1.9897, 1.9896, 1.9893, 1.9889, 1.9888, 1.9888, 1.987, 1.9855, 1.9849, 1.9835, 1.9794, 1.9818, 1.9828, 1.9632, 1.9749, 1.9588, 1.9815, 1.9581, 1.9784, 1.9208, 1.9687, 1.9796, 1.9039, 1.8541, 1.9049, 1.8678, 1.8657, 1.9005, 1.9037, 1.8667, 1.5108, 1.7898, 1.6336, 1.6102, 1.7307, 1.6797, 1.7984, 1.8257, 1.7906, 1.7594, 1.4586, 1.5283, 1.7298, 1.4377, 0.8277, 1.4886, 1.4219, 0.9389, 1.192, 1.3775, 0.4855, 0.3315, 1.3227, 0.7426, 1.202, 0.24, 0.5795, 1.0807, 0.3655, 0.7221, -0.0353, 0.035, -0.8706, 2.4223, 2.4193, 2.4133, 2.4126, 2.4061, 2.406, 2.4046, 2.4031, 2.4015, 2.3977, 2.3956, 2.3955, 2.3955, 2.3931, 2.3931, 2.3912, 2.3903, 2.3903, 2.3838, 2.3837, 2.3831, 2.3826, 2.3818, 2.38, 2.38, 2.38, 2.3797, 2.3791, 2.3789, 2.3756, 2.3634, 2.3504, 2.3697, 2.3601, 2.313, 2.3295, 2.3577, 2.2952, 2.2789, 2.2883, 2.0266, 2.2814, 2.0897, 2.2861, 1.8455, 2.2471, 1.5661, 2.2474, 1.8874, 2.0396, 1.5656, 2.1103, 1.9592, 1.2466, 1.7278, 1.4012, 1.4968, 1.6921, 1.8706, 1.2981, 1.7047, 1.3473, 1.0499, 1.1956, 1.6441, 1.4167, 1.7487, 1.4253, 1.7747, 1.2942, 1.0804, 0.3047, 0.3625, 0.6746, 0.65, 1.3893, 0.8387, -0.1208, 0.596, 1.4537, 0.907, 0.9622, 0.0969, 0.4634, -0.2107, -0.2338, 0.4112, 2.0393, 2.0261, 2.0246, 2.023, 2.0157, 2.0145, 2.0101, 2.0084, 2.0074, 2.0065, 2.0051, 2.0041, 2.002, 1.9995, 1.9995, 1.9966, 1.9933, 1.9927, 1.9923, 1.9921, 1.9896, 1.9865, 1.9857, 1.9854, 1.9853, 1.9853, 1.9853, 1.9843, 1.9812, 1.9807, 1.9699, 1.975, 1.9552, 1.9694, 1.9583, 1.9373, 1.936, 1.941, 1.8851, 1.8772, 1.6606, 1.8132, 1.6337, 1.7323, 1.5656, 1.868, 1.4233, 1.4806, 1.7962, 1.5993, 1.851, 1.7739, 1.6621, 1.2541, 1.6847, 1.134, 1.289, 1.6304, 1.2085, 1.3218, 1.026, 1.4439, 1.4672, 1.3567, 1.5094, 1.2092, 1.1322, 0.9216, 1.1939, 0.6551, 0.9125, 0.8523, 0.8124, 1.1211, 1.2514, 0.9188, 0.7003, 0.9355, 0.9034, 0.603, 0.8749, 0.6574, 0.5087, -0.1309, 0.2121, 0.2374, -0.189, 0.199, 2.0539, 2.0527, 2.0525, 2.0493, 2.0488, 2.0464, 2.045, 2.0432, 2.0363, 2.0353, 2.0341, 2.032, 2.0316, 2.0301, 2.0286, 2.0285, 2.0285, 2.028, 2.0271, 2.026, 2.0229, 2.021, 2.0196, 2.0196, 2.0196, 2.0186, 2.0179, 2.0177, 2.0155, 2.0155, 2.0098, 1.9725, 2.0075, 1.9813, 1.9974, 1.9952, 1.8724, 1.8959, 1.8411, 1.8461, 1.8239, 1.9606, 1.7949, 1.7799, 1.7097, 1.8299, 1.7861, 1.8632, 1.6891, 1.8824, 1.7931, 1.5633, 1.2787, 1.5582, 1.2634, 1.0853, 1.3422, 1.2617, 1.57, 0.9776, 1.1837, 0.7021, 0.4072, 0.688, 0.6402, 0.7236, 1.1167, 0.9157, 0.1075, 0.2776, 0.5468, 0.3053, 0.5666, 0.5769, 0.6237, -0.1679, 0.3149, 0.1832, 0.3421, 0.4683, -0.0058, 0.7002, 2.509, 2.5064, 2.5017, 2.5009, 2.4991, 2.4971, 2.4971, 2.4971, 2.4958, 2.495, 2.4899, 2.4899, 2.4892, 2.4888, 2.4872, 2.4869, 2.4869, 2.4869, 2.4865, 2.4847, 2.4835, 2.4797, 2.4797, 2.4797, 2.4782, 2.4781, 2.4764, 2.4753, 2.4702, 2.4702, 2.4631, 2.4455, 2.4405, 2.3993, 2.403, 2.263, 2.4053, 2.4171, 2.4227, 2.2886, 2.3508, 2.3555, 2.3809, 2.2302, 2.229, 2.1809, 2.2796, 2.1913, 2.065, 2.3792, 2.3984, 2.1063, 2.1093, 1.7806, 2.1628, 1.7038, 1.5437, 1.856, 1.8863, 1.531, 1.4497, 1.2455, 1.5868, 1.5754, 0.7088, 1.4336, 0.2591, 0.3747, 0.8885, 0.9018, 0.4992, -0.1835, 0.3809, 0.6719, 0.8118, -0.124, 0.7606, -0.1526, 0.6434, 0.123, 0.3262, 0.8756, 0.8729, 0.0778, 0.1761, -0.2248, -0.7107, 0.3588, -0.1506, 0.0583]}, \"token.table\": {\"Topic\": [4, 5, 8, 1, 2, 3, 4, 5, 3, 4, 5, 6, 8, 1, 2, 4, 5, 6, 7, 8, 1, 2, 3, 6, 7, 8, 2, 4, 1, 2, 4, 7, 8, 6, 2, 1, 3, 3, 3, 5, 1, 2, 3, 4, 5, 6, 7, 8, 1, 2, 4, 5, 6, 7, 8, 1, 2, 3, 4, 5, 6, 7, 8, 7, 1, 2, 3, 5, 6, 8, 2, 2, 3, 4, 5, 7, 6, 1, 2, 4, 3, 6, 3, 1, 2, 3, 5, 6, 7, 1, 2, 3, 4, 5, 6, 7, 3, 3, 5, 1, 1, 3, 4, 6, 8, 2, 1, 2, 3, 4, 5, 6, 7, 8, 1, 2, 3, 4, 5, 6, 7, 8, 1, 2, 3, 4, 5, 6, 7, 8, 1, 2, 4, 6, 1, 4, 7, 2, 3, 4, 5, 6, 7, 8, 4, 7, 1, 2, 3, 5, 6, 7, 8, 1, 2, 3, 4, 5, 6, 7, 8, 1, 2, 3, 4, 5, 6, 7, 8, 4, 6, 7, 2, 8, 1, 2, 3, 4, 5, 6, 7, 8, 2, 5, 6, 5, 6, 8, 8, 4, 1, 2, 3, 4, 6, 7, 8, 5, 5, 5, 1, 2, 3, 4, 5, 6, 7, 8, 2, 3, 5, 3, 4, 7, 1, 2, 3, 4, 5, 6, 7, 8, 1, 2, 3, 5, 6, 8, 8, 5, 8, 2, 6, 1, 2, 3, 4, 5, 6, 8, 6, 1, 2, 3, 5, 6, 7, 8, 2, 7, 5, 7, 1, 2, 3, 5, 8, 2, 4, 3, 4, 5, 7, 8, 7, 1, 1, 2, 4, 5, 6, 8, 4, 1, 2, 3, 5, 6, 7, 1, 2, 3, 4, 5, 6, 7, 8, 3, 2, 3, 4, 5, 6, 7, 8, 1, 5, 1, 2, 3, 4, 5, 6, 8, 1, 2, 3, 4, 5, 6, 7, 8, 2, 3, 4, 6, 7, 8, 7, 2, 5, 6, 7, 7, 1, 6, 1, 2, 3, 4, 5, 6, 7, 8, 2, 3, 5, 4, 6, 7, 4, 1, 2, 3, 4, 5, 6, 7, 8, 3, 1, 3, 4, 5, 6, 7, 8, 1, 4, 6, 7, 5, 7, 5, 7, 8, 4, 1, 2, 4, 7, 8, 7, 1, 2, 6, 7, 8, 3, 5, 3, 4, 4, 1, 2, 3, 4, 5, 6, 7, 8, 3, 4, 6, 7, 8, 4, 1, 2, 3, 4, 5, 6, 7, 8, 8, 4, 6, 8, 2, 3, 7, 5, 1, 2, 3, 4, 7, 1, 2, 4, 5, 6, 7, 8, 3, 7, 2, 3, 4, 5, 7, 8, 2, 3, 4, 5, 7, 8, 1, 2, 3, 5, 7, 8, 1, 2, 3, 5, 6, 8, 1, 2, 7, 8, 1, 2, 3, 4, 5, 6, 7, 8, 1, 3, 5, 7, 8, 8, 5, 8, 6, 7, 1, 1, 2, 3, 4, 5, 6, 7, 8, 2, 1, 2, 5, 6, 1, 2, 3, 4, 5, 6, 7, 8, 1, 2, 3, 4, 5, 6, 8, 1, 2, 3, 4, 5, 6, 7, 8, 2, 3, 5, 6, 7, 8, 1, 2, 3, 4, 5, 6, 7, 8, 1, 2, 3, 4, 5, 6, 7, 8, 1, 2, 3, 7, 8, 2, 7, 3, 7, 6, 1, 5, 4, 5, 6, 8, 3, 4, 5, 1, 2, 3, 4, 5, 6, 7, 8, 6, 1, 2, 3, 4, 5, 6, 8, 6, 8, 1, 2, 4, 6, 7, 1, 2, 3, 5, 6, 7, 8, 3, 4, 5, 8, 1, 2, 3, 4, 6, 7, 8, 3, 2, 1, 2, 3, 4, 5, 6, 7, 8, 1, 2, 3, 4, 5, 6, 7, 8, 1, 2, 3, 4, 5, 6, 7, 8, 1, 2, 3, 4, 5, 6, 7, 8, 2, 3, 4, 5, 7, 8, 8, 1, 2, 3, 4, 5, 6, 7, 8, 1, 3, 3, 1, 3, 4, 5, 8, 1, 6, 2, 6, 7, 8, 4, 5, 6, 1, 1, 4, 5, 4, 8, 5, 1, 2, 3, 5, 6, 1, 5, 6, 1, 2, 5, 6, 7, 8, 1, 6, 1, 2, 3, 4, 5, 6, 7, 8, 1, 2, 3, 6, 7, 8, 5, 8, 2, 8, 3, 5, 6, 3, 4, 5, 6, 8, 1, 2, 3, 4, 5, 6, 7, 8, 1, 2, 3, 4, 5, 6, 7, 8, 6, 6, 1, 2, 3, 4, 5, 6, 7, 8, 2, 3, 8, 3, 4, 5, 8, 4, 3, 4, 5, 6, 8, 3, 4, 5, 8, 6, 1, 5, 5, 1, 2, 3, 4, 5, 6, 7, 8, 1, 3, 4, 5, 6, 7, 8, 3, 4, 5, 8, 3, 4, 5, 7, 8, 3, 4, 5, 3, 4, 3, 4, 5, 8, 1, 2, 3, 4, 5, 6, 7, 8, 1, 2, 3, 4, 5, 6, 7, 8, 5, 1, 2, 3, 4, 5, 6, 7, 8, 1, 2, 3, 4, 5, 6, 7, 8, 3, 4, 8, 1, 4, 7, 1, 2, 3, 6, 7, 8, 3, 2, 6, 1, 2, 3, 4, 5, 6, 7, 8, 1, 2, 3, 4, 5, 6, 7, 8, 1, 3, 4, 8, 3, 1, 2, 3, 4, 5, 7, 8, 1, 2, 3, 4, 5, 7, 1, 2, 3, 4, 5, 7, 7, 3, 4, 5, 6, 8, 3, 4, 1, 2, 3, 4, 5, 6, 7, 8, 1, 2, 1, 2, 3, 4, 5, 6, 7, 8, 1, 2, 3, 4, 5, 6, 7, 8, 1, 2, 4, 5, 6, 7, 8, 1, 2, 3, 4, 5, 6, 7, 8, 4, 1, 2, 3, 4, 5, 6, 7, 8, 3, 1, 2, 3, 4, 5, 6, 7, 8, 1, 2, 3, 4, 5, 6, 8, 7, 7, 1, 2, 5, 6, 7, 8, 1, 2, 3, 4, 5, 6, 7, 8, 4, 7, 4, 6, 2, 1, 2, 3, 4, 5, 6, 7, 8, 1, 4, 5, 6, 7, 8, 6, 7, 1, 2, 3, 4, 5, 6, 7, 8, 1, 2, 3, 4, 5, 6, 7, 3, 4, 5, 6, 7, 8, 8, 1, 4, 7, 8, 1, 2, 3, 4, 5, 6, 7, 8, 5, 6, 2, 8, 5, 6, 4, 1, 2, 3, 4, 5, 6, 1, 5, 1, 2, 3, 5, 6, 7, 8, 1, 2, 4, 5, 6, 7, 8, 1, 2, 3, 4, 5, 8, 1, 3, 4, 5, 7, 8, 1, 5, 1, 3, 7, 8, 1, 2, 4, 5, 6, 7, 8, 4, 5, 1, 4, 5, 1, 4, 5, 6, 7, 8, 6, 1, 2, 3, 4, 5, 6, 7, 8, 1, 3, 4, 5, 6, 7, 8, 3, 4, 5, 8, 5, 3, 8, 4, 2, 2, 4, 8, 4, 6, 7, 8, 3, 6, 2, 4, 5, 8, 1, 2, 3, 4, 5, 6, 7, 8, 1, 2, 3, 4, 5, 6, 7, 8, 2, 6, 1, 2, 3, 5, 7, 8, 1, 2, 3, 4, 5, 6, 7, 8, 5, 8, 3, 4, 5, 6, 8, 8, 4, 5, 2, 3, 4, 5, 6, 7, 1, 2, 4, 5, 6, 7, 8, 1, 2, 3, 4, 5, 6, 7, 8, 1, 2, 3, 4, 5, 6, 7, 8, 8, 1, 6, 6, 1, 3, 6, 1, 2, 3, 5, 6, 7, 8, 2, 3, 5, 7, 8, 2, 3, 5, 1, 3, 4, 5, 6, 7, 8, 1, 3, 1, 2, 3, 4, 5, 7, 8, 2, 5, 1, 5, 8, 1, 7, 6, 1, 5, 7, 1, 2, 3, 4, 5, 6, 7, 8, 1, 2, 3, 4, 5, 6, 7, 8, 1, 2, 3, 4, 5, 6, 7, 8, 1, 2, 3, 4, 5, 6, 7, 8, 1, 2, 3, 4, 5, 6, 7, 8, 1, 2, 3, 4, 5, 6, 7, 8, 2, 3, 4, 5, 7, 1, 2, 3, 4, 5, 6, 7, 8, 1, 3, 5, 6, 7, 5, 6, 1, 2, 3, 4, 5, 6, 7, 8, 6, 1, 2, 6, 1, 2, 4, 6, 7, 8, 1, 2, 4, 5, 6, 7, 8, 1, 2, 4, 5, 6, 7, 8, 1, 2, 5, 6, 7, 8, 1, 2, 6, 7, 1, 3, 6, 1, 2, 3, 4, 5, 6, 7, 8, 7, 1, 2, 3, 4, 5, 6, 7, 8, 1, 7, 1, 6, 1, 2, 3, 4, 5, 6, 7, 8, 1, 2, 3, 4, 5, 6, 7, 8, 3, 8, 1, 3, 5, 6, 7, 8, 7, 6, 1, 2, 3, 5, 6, 7, 1, 2, 3, 5, 1, 2, 5, 1, 2, 1, 2, 5, 6, 8, 1, 2, 4, 5, 6, 7, 8, 1, 2, 5, 6, 7, 8, 1, 2, 3, 4, 5, 6, 7, 8, 2, 3, 4, 5, 6, 7, 8, 2, 3, 5, 6, 7, 8, 2, 5, 8, 2, 5, 8, 2, 3, 5, 7, 8, 1, 4, 5, 6, 7, 8, 4, 5, 6, 7, 8, 4, 1, 2, 3, 4, 5, 6, 7, 8, 1, 3, 1, 2, 3, 4, 5, 6, 7, 8, 1, 2, 3, 4, 5, 6, 7, 8, 1, 4, 5, 8, 3, 4, 8, 3, 5, 7, 7, 1, 2, 3, 4, 5, 6, 7, 8, 1, 2, 4, 6, 7, 8, 1, 2, 3, 4, 5, 6, 7, 8, 3, 4, 5, 6, 7, 8, 3, 5, 4, 1, 3, 6, 8, 5, 1, 2, 3, 4, 5, 6, 7, 8, 5, 3, 4, 8, 4, 7, 1, 2, 4, 5, 6, 7, 8, 1, 2, 3, 4, 5, 6, 8, 1, 1, 2, 4, 5, 7, 8, 1, 2, 5, 7, 8, 1, 2, 3, 4, 5, 6, 7, 8, 4, 8, 4, 5, 6, 6, 7, 1, 3, 3, 5, 7, 8, 1, 2, 4, 5, 6, 7, 8, 3, 2, 3, 4, 5, 1, 4, 5, 6, 8, 3, 1, 3, 8, 1, 2, 3, 4, 5, 6, 7, 8, 1, 1, 2, 3, 5, 6, 7, 1, 2, 3, 5, 8, 5, 2, 7, 1, 2, 3, 5, 6, 7, 8, 2, 3, 7, 8, 1, 2, 6, 7, 8, 1, 1, 5, 1, 3, 1, 2, 3, 5, 1, 2, 5, 6, 8, 2, 1, 2, 3, 4, 5, 6, 7, 8, 4, 8, 2, 3, 4, 5, 1, 2, 4, 5, 6, 7, 8, 2, 3, 4, 5, 6, 8, 3, 5, 8, 5, 1, 2, 3, 5, 6, 7, 1, 2, 3, 4, 5, 7, 8, 7, 8, 1, 2, 3, 4, 5, 6, 7, 8, 1, 2, 3, 4, 6, 7, 1, 2, 3, 5, 6, 7, 2, 3, 5, 2, 2, 2, 2, 6, 1, 2, 3, 4, 5, 6, 8, 3, 2, 8, 1, 2, 3, 4, 5, 6, 7, 8, 5, 1, 1, 2, 3, 4, 5, 6, 7, 7, 7, 7, 1, 2, 3, 5, 6, 7, 8, 1, 2, 4, 5, 6, 7, 1, 3, 4, 6, 7, 1, 2, 3, 7, 8, 3, 4, 8, 5, 5, 5, 6, 8, 1, 4, 6, 7, 1, 2, 3, 4, 5, 6, 7, 8, 7, 5, 2, 3, 5, 7, 1, 2, 3, 4, 5, 6, 7, 8, 6, 1, 2, 3, 6, 1, 2, 3, 4, 5, 7, 8, 1, 2, 3, 5, 6, 7, 8, 4, 1, 2, 3, 4, 5, 6, 7, 8, 1, 7, 8, 3, 5, 6, 8, 1, 2, 3, 4, 5, 6, 7, 8, 4, 5, 8, 1, 2, 4, 5, 6, 8, 1, 2, 3, 4, 5, 6, 7, 8, 7, 1, 3, 4, 8, 3, 1, 2, 3, 4, 6, 7, 8, 8, 4, 1, 2, 5, 6, 7, 8, 1, 2, 3, 4, 5, 6, 7, 8, 1, 2, 3, 4, 5, 6, 7, 8, 8, 1, 2, 3, 4, 5, 6, 7, 8, 1, 2, 4, 6, 7, 1, 2, 3, 4, 5, 6, 7, 8, 1, 2, 3, 4, 5, 6, 7, 8, 1, 2, 3, 4, 5, 6, 7, 8, 1, 3, 4, 6, 7, 3, 7, 3, 5, 8, 1, 2, 3, 5, 7, 8, 1, 2, 3, 4, 5, 6, 7, 8, 1, 2, 3, 4, 5, 6, 7, 8, 2, 4, 5, 6, 1, 2, 5, 6, 7, 8, 1, 2, 3, 4, 5, 7, 8, 1, 2, 3, 5, 6, 7, 8, 2, 1, 2, 3, 4, 5, 6, 7, 8, 1, 8, 3, 1, 4, 7, 8, 1, 2, 3, 5, 1, 2, 3, 4, 5, 6, 7, 8, 1, 2, 3, 4, 5, 6, 7, 8, 1, 2, 3, 4, 5, 6, 7, 8, 4, 3, 1, 2, 3, 4, 5, 6, 7, 2, 3, 3, 4, 5, 1, 2, 3, 4, 5, 6, 7, 8, 2, 6, 8, 1, 3, 5, 1, 8, 1, 8, 2, 3, 1, 2, 3, 4, 5, 6, 7, 8, 1, 1, 8, 1, 2, 5, 4, 1, 2, 3, 4, 5, 6, 7, 8, 6, 3, 7, 1, 2, 3, 4, 5, 6, 7, 8, 1, 2, 3, 4, 5, 6, 7, 8, 1, 2, 3, 4, 5, 6, 7, 8, 3, 1, 2, 3, 4, 5, 6, 7, 8, 2, 3, 2, 3, 1, 2, 4, 5, 6, 7, 8, 1, 1, 2, 3, 4, 5, 6, 7, 8, 1, 2, 4, 5, 6, 7, 8, 5, 1, 2, 3, 4, 5, 6, 7, 8, 1, 2, 3, 4, 5, 6, 7, 8, 2, 4, 6, 7, 1, 2, 3, 4, 5, 6, 7, 8, 1, 6, 8, 1, 7], \"Freq\": [0.022049466253078184, 0.8599291838700491, 0.11024733126539092, 0.0223374115690482, 0.0111687057845241, 0.1005183520607169, 0.0111687057845241, 0.8488216396238316, 0.00520127176152268, 0.19764832693786186, 0.618951339621199, 0.16123942460720309, 0.015603815284568041, 0.012719040030500584, 0.27073385207779815, 0.016353051467786466, 0.016353051467786466, 0.6395860129623151, 0.03634011437285881, 0.010902034311857644, 0.016974233158814755, 0.3580020084404566, 0.5385461247660317, 0.016974233158814755, 0.020060457369508344, 0.04783647526575067, 0.017848833054287232, 0.9638369849315105, 0.03126501848211033, 0.02084334565474022, 0.05210836413685055, 0.5106619685411354, 0.38212800367023736, 0.9763706350986074, 0.9752230421574307, 0.0032337706962389753, 0.9960013744416043, 0.9930100994518377, 0.9698648679419445, 0.02586306314511852, 0.13279997704139082, 0.1549333065482893, 0.08115554152529439, 0.1691213382834806, 0.09761365833811633, 0.12428715800027602, 0.11066664753449235, 0.12996237069435254, 0.5003215005600388, 0.08273032686425838, 0.09848848436221236, 0.017727927185198222, 0.11030710248567784, 0.14970249623056278, 0.04136516343212919, 0.050271310851525475, 0.044318129303318514, 0.3538835698100806, 0.2791380681492599, 0.13824610484169506, 0.08863625860663703, 0.006614646164674404, 0.039026412371578986, 0.9581158542499851, 0.033062040821986, 0.006011280149452, 0.763432578980404, 0.162304564035204, 0.027050760672533997, 0.009016920224178, 0.9365714385471937, 0.009792395343735872, 0.08323536042175492, 0.08323536042175492, 0.0538581743905473, 0.766254935647332, 0.91908682090326, 0.9552558287491835, 0.9365714388446722, 0.9921388438714988, 0.05532261707738409, 0.9220436179564016, 0.9596941075105286, 0.005866576188590447, 0.013199796424328506, 0.846253615204172, 0.011733152377180894, 0.11879816781895655, 0.004399932141442835, 0.0968881874929586, 0.016148031248826435, 0.023068616069752048, 0.7497300222669416, 0.027682339283702458, 0.06689898660228094, 0.016148031248826435, 0.9824374532469706, 0.9859029608141625, 0.9780215170675567, 0.9635951586884683, 0.016388633105442342, 0.010925755403628227, 0.9450778424138416, 0.005462877701814113, 0.021851510807256454, 0.9303469920762841, 0.31179131706096724, 0.2236557775878063, 0.02464004329357188, 0.02464004329357188, 0.031273901103379693, 0.23976657512591099, 0.13267715619615628, 0.011372327673956252, 0.3029856284254621, 0.1811190095025994, 0.14834109130955359, 0.059672620300160364, 0.011766432171862606, 0.12186661892286271, 0.13699488885811464, 0.03740044511770614, 0.049246907046022664, 0.016981692084835402, 0.3005759499015866, 0.4992617472941608, 0.05264324546298974, 0.0033963384169670803, 0.07132310675630868, 0.00509450762545062, 0.019129069724208175, 0.9636268873569868, 0.01434680229315613, 0.976097358734076, 0.008546441173856218, 0.017092882347712435, 0.9657478526457526, 0.0008323941349506992, 0.08573659589992202, 0.1123732082183444, 0.6609209431508553, 0.08823377830477412, 0.009988729619408391, 0.04245210088248566, 0.043860016335359596, 0.9473763528437672, 0.014786363331514346, 0.008065289089916916, 0.8320689911097618, 0.03494958605630664, 0.03226115635966766, 0.05914545332605738, 0.018819007876472803, 0.11970852190202771, 0.28085460907783427, 0.060365835830937055, 0.007162048318924735, 0.09054875374640559, 0.154495613736805, 0.17137758477427045, 0.11561592286264216, 0.12655906756368002, 0.20816546085610757, 0.07330743804235017, 0.014523171687635412, 0.031121082187790167, 0.12379274914698755, 0.33887400604482626, 0.0836811321049469, 0.9603862032337119, 0.01846896544680215, 0.9626899873456839, 0.08394828483838605, 0.8954483716094513, 0.301654948529926, 0.08553254236797903, 0.018328401935995504, 0.15808246669796122, 0.07484097457198165, 0.07407729115798183, 0.2565976271039371, 0.03054733655999251, 0.09714146630981556, 0.04857073315490778, 0.8378451469221592, 0.9185357998447861, 0.06334729654101973, 0.9510743842068565, 0.9446485585694963, 0.9866468854927679, 0.12172673611318684, 0.011066066919380621, 0.005533033459690311, 0.2655856060651349, 0.016599100379070933, 0.055330334596903105, 0.5201051452108892, 0.9671901467733323, 0.9838935666998121, 0.9714153079529382, 0.09757582244080018, 0.7595608139019151, 0.0019132514204078467, 0.0019132514204078467, 0.015306011363262774, 0.040178279828564784, 0.06313729687345894, 0.021045765624486314, 0.9726035350386039, 0.9663716640905866, 0.013805309487008382, 0.06541871519583534, 0.00934553074226219, 0.9252075434839568, 0.42619081239691126, 0.06990431314446692, 0.020294800590329107, 0.010523229935726203, 0.07892422451794653, 0.2600741112686619, 0.11575552929298824, 0.018039822746959207, 0.041983400496775264, 0.00699723341612921, 0.23790593614839317, 0.00699723341612921, 0.00699723341612921, 0.699723341612921, 0.9266132194631612, 0.8622166714504967, 0.1183434647088917, 0.061173341145141176, 0.9176001171771176, 0.028785376266319117, 0.02238862598491487, 0.5565172744821696, 0.06556669038439354, 0.15831956946475514, 0.12313744291703178, 0.04477725196982974, 0.906899207333757, 0.02327678024814351, 0.3267370264461626, 0.011207338637995024, 0.061209311022895896, 0.3094949670030933, 0.23621621437004894, 0.03189780996967814, 0.9604221030492472, 0.9890768561567256, 0.022921232842324134, 0.9626917793776135, 0.9046048640751576, 0.024448780110139394, 0.04889756022027879, 0.9400578979320227, 0.03760231591728091, 0.02118444380310495, 0.9744844149428278, 0.020638293415642217, 0.7966381258437896, 0.04953190419754132, 0.061914880246926644, 0.061914880246926644, 0.982923340624249, 0.9590195517316846, 0.06668915800468783, 0.008336144750585979, 0.016672289501171958, 0.033344579002343916, 0.13337831600937566, 0.7335807380515662, 0.9875060039767056, 0.015485165933684967, 0.025808609889474945, 0.8774927362421481, 0.020646887911579957, 0.05677894175684488, 0.0025808609889474946, 0.22516410459686823, 0.5980921528354312, 0.0028145513074608526, 0.02251641045968682, 0.0028145513074608526, 0.012665480883573837, 0.056291026149217056, 0.08302926357009516, 0.9678837972324357, 0.7650802848563603, 0.011770465920867081, 0.02690392210483904, 0.03531139776260124, 0.00168149513155244, 0.00336299026310488, 0.15637904723437693, 0.9649056956761075, 0.9477565081047915, 0.013353904526089266, 0.007630802586336723, 0.21366247241742825, 0.20984707112425988, 0.49027906617213446, 0.05532331875094124, 0.011446203879505085, 0.42419241095413174, 0.06526037091602027, 0.032630185458010136, 0.0463692109140144, 0.0034347563640010664, 0.15799879274404907, 0.2421503236620752, 0.02747805091200853, 0.26549999107341143, 0.04261110967844875, 0.04588888734602173, 0.016388888337864903, 0.6063888685010015, 0.022944443673010864, 0.9748906439645778, 0.0855158343851203, 0.04275791719256015, 0.8409057047870162, 0.028505278128373432, 0.9759690248213424, 0.9621843093568998, 0.9068998006002232, 0.010884322155395029, 0.1424032148664183, 0.023582698003355895, 0.03537404700503385, 0.09886592624483818, 0.6176852823186679, 0.04625836916042887, 0.024489724849638815, 0.01752213218489464, 0.052566396554683925, 0.9286730057994159, 0.003889473643286437, 0.1458552616232414, 0.8479052542364434, 0.9826378209168904, 0.04617870010452708, 0.2596802226657172, 0.1559280782750265, 0.23689073430244412, 0.15832697178695, 0.03658312605683314, 0.10555131452463333, 0.0005997233779808711, 0.9781973566930848, 0.012932467369548086, 0.08535428463901737, 0.3336576581343406, 0.4785012926732792, 0.05431636295210196, 0.023278441265186554, 0.012932467369548086, 0.012566177634053034, 0.050264710536212134, 0.10052942107242427, 0.8419339014815532, 0.9647604329864501, 0.9835543268211172, 0.0436674082070633, 0.07277901367843884, 0.873348164141266, 0.9796446687408223, 0.17395087908607443, 0.04775122170990278, 0.08527003876768353, 0.688981913242883, 0.0034108015507073415, 0.9893818290718871, 0.12635983653262114, 0.0027174158394112076, 0.013587079197056037, 0.8070725043051286, 0.04891348510940174, 0.9896595043903061, 0.008046012230815497, 0.9664226807428303, 0.9939518626117947, 0.9742383150932253, 0.040050243419365555, 0.019559421204806433, 0.006519807068268811, 0.6799227371194617, 0.09779710602403216, 0.0512270555363978, 0.06519807068268811, 0.039118842409612865, 0.02723800813489492, 0.7490452237096102, 0.00680950203372373, 0.17023755084309325, 0.047666514236066104, 0.9751018849782733, 0.02862962264907836, 0.08809114661254881, 0.07928203195129392, 0.1849914078863525, 0.4734899130424498, 0.00660683599594116, 0.11011393326568601, 0.030831901314392084, 0.941079613624468, 0.8936044160354366, 0.09998371088508382, 0.9409906124056843, 0.9677993698490891, 0.026697913651009354, 0.004449652275168226, 0.9520147435625749, 0.009426826196979522, 0.9191155542055034, 0.06127437028036689, 0.004713413098489761, 0.004713413098489761, 0.07490520892733135, 0.3927173096618658, 0.01498104178546627, 0.019261339438456634, 0.39592753290160854, 0.05992416714186508, 0.04066282770340845, 0.9463724138776822, 0.048120631214119435, 0.04846003318233187, 0.6952150914234534, 0.1640185738478925, 0.042868490892062815, 0.04846003318233187, 0.0018638474300896875, 0.7997334333188861, 0.04774527960112753, 0.0035808959700845645, 0.10862051109256513, 0.0023872639800563765, 0.03580895970084565, 0.0021915216158927475, 0.8809916895888845, 0.10300151594695914, 0.004383043231785495, 0.0021915216158927475, 0.00876608646357099, 0.003994844034101091, 0.786984274717915, 0.18775766960275128, 0.011984532102303274, 0.003994844034101091, 0.007989688068202182, 0.010457270874511926, 0.9306971078315615, 0.010457270874511926, 0.0418290834980477, 0.016625615728642462, 0.9642857122612628, 0.018874855963667916, 0.770094123317651, 0.16987370367301124, 0.026424798349135085, 0.0037749711927335832, 0.0075499423854671665, 0.11787686550626227, 0.10880941431347287, 0.10880941431347287, 0.009067451192789405, 0.6528564858808371, 0.9581236267678803, 0.1358044764860683, 0.8419877542136235, 0.975441605883969, 0.9804307615511213, 0.9719808104257402, 0.09461385372521822, 0.3029896030009964, 0.02083757492757782, 0.0005631777007453465, 0.023653463431304554, 0.4685638470201283, 0.06082319168049743, 0.028158885037267326, 0.9726045754339893, 0.04266442505930105, 0.22043286280638874, 0.0071107375098835085, 0.7288505947630596, 0.17708346233757513, 0.11992684048798315, 0.03215059979039548, 0.06532185354239083, 0.04439844732959376, 0.21484765891676982, 0.2628183951119631, 0.08369362485118824, 0.4609959366547258, 0.011322707216080986, 0.014557766420675553, 0.032350592045945675, 0.359091571709997, 0.05337847687581036, 0.06793624329648591, 0.07282096162711856, 0.4833623250031927, 0.15091880453156453, 0.013719891321051322, 0.02849515889756813, 0.02532903013117167, 0.046436555240481396, 0.1773032109182017, 0.24521529799604308, 0.6671623422955406, 0.0044182936575863615, 0.0022091468287931807, 0.0817384326653477, 0.0022091468287931807, 0.0599108428075114, 0.26225123644042725, 0.11247412942164876, 0.05595446639569461, 0.16673300592656473, 0.19442764080928226, 0.038998567487908364, 0.1090829496400915, 0.2931197380315886, 0.29559680624030626, 0.013211030446494134, 0.0033027576116235334, 0.006605515223247067, 0.1932113202799767, 0.1692663275957061, 0.026422060892988267, 0.9777681846775432, 0.9822484317733875, 0.008453084610786468, 0.00507185076647188, 0.003381233844314587, 0.9721734867891427, 0.010801927630990475, 0.9569085641474027, 0.03225534485890121, 0.9757932188667449, 0.8786257971335741, 0.10982822464169677, 0.0328501212658686, 0.0164250606329343, 0.0657002425317372, 0.8705282135455179, 0.01971224250329069, 0.403005846733943, 0.5760355309294947, 0.001163396797606669, 0.001163396797606669, 0.018614348761706704, 0.5712278276248745, 0.19312386840270704, 0.015124158368886696, 0.004653587190426676, 0.19428726520031372, 0.9763446302194141, 0.02352033747397469, 0.02352033747397469, 0.029400421842468365, 0.029400421842468365, 0.08820126552740509, 0.029400421842468365, 0.7761711366411649, 0.016995758435154277, 0.9687582308037938, 0.06524695297373913, 0.13864977506919562, 0.008155869121717391, 0.7748075665631521, 0.008155869121717391, 0.12551526061615967, 0.19429074588528825, 0.06017854961048751, 0.10832138929887752, 0.06533671100567215, 0.07565303379604144, 0.3696682333215661, 0.014894996324331906, 0.9614720127356245, 0.008936997794599144, 0.014894996324331906, 0.556366851841054, 0.2088240194577683, 0.004474800416952178, 0.0014916001389840593, 0.06861360639326672, 0.11634481084075662, 0.04474800416952178, 0.9648792169773633, 0.9421735349900853, 0.5430842522649422, 0.1341737564419269, 0.025556905988938457, 0.04152997223202499, 0.028751519237555763, 0.11500607695022305, 0.0894491709612846, 0.02236229274032115, 0.010440236255572641, 0.0402694827000659, 0.15958646847803895, 0.0014914623222246632, 0.014914623222246633, 0.0014914623222246632, 0.013423160900021968, 0.7591543220123536, 0.014164146194067096, 0.011016558150941075, 0.05980417281939441, 0.21875736899725848, 0.31790639235572815, 0.21403598693256945, 0.017311734237193118, 0.147936638026923, 0.3115513722963504, 0.016916816595276944, 0.0014097347162730786, 0.09727169542284242, 0.07471593996247317, 0.03383363319055389, 0.4158717413005582, 0.04652124563701159, 0.5669551271639535, 0.2356620709295951, 0.029030834824660266, 0.03586161948928621, 0.1110002508001716, 0.023907746326190808, 0.9368371917854198, 0.041733124526825045, 0.02384749972961431, 0.041733124526825045, 0.3974583288269052, 0.34976332936767657, 0.1152629153598025, 0.01987291644134526, 0.007949166576538103, 0.09326594000936898, 0.905582191703873, 0.9782347595103161, 0.05179625707698057, 0.0828740113231689, 0.11395176556935725, 0.7147883476623319, 0.031077754246188343, 0.0868606384471108, 0.8903215440828857, 0.06759463743107234, 0.8956289459617085, 0.016898659357768086, 0.016898659357768086, 0.007699590916379954, 0.07699590916379954, 0.9085517281328346, 0.9572139332927282, 0.9572141152284676, 0.15048868586004086, 0.8276877722302246, 0.9553659380531524, 0.02032693485219473, 0.9477545639598172, 0.03833288159521232, 0.0034848074177465747, 0.9478676176270684, 0.0034848074177465747, 0.0034848074177465747, 0.964948069180774, 0.9428993662525802, 0.9751404777348256, 0.04713053018919648, 0.20994508902460252, 0.021422968267816582, 0.6598274226487508, 0.05569971749632312, 0.004284593653563317, 0.9881980693827438, 0.9764141396540733, 0.274427026709734, 0.10398516966494194, 0.09851226599836606, 0.11727650714091196, 0.04534691609448596, 0.07896618147488073, 0.24706250837685453, 0.035964795523213, 0.04276849456367945, 0.0843150321398252, 0.7625011602210279, 0.007331741925202191, 0.10142242996529698, 0.0024439139750673973, 0.9477567754711509, 0.9446548067888625, 0.9599230254170176, 0.9446549496910548, 0.9369279207542421, 0.013778351775797679, 0.048224231215291874, 0.03196488366226711, 0.8031177020144611, 0.04794732549340066, 0.015982441831133554, 0.09989026144458471, 0.30161472006741774, 0.09596832002145109, 0.0028862652638030404, 0.008658795791409121, 0.08442325896623894, 0.3232617095459405, 0.16163085477297026, 0.021646989478522803, 0.11983177674629429, 0.13813244557993337, 0.0012534704680574717, 0.040361749071450584, 0.0486346541606299, 0.5357332780477634, 0.04637840731812645, 0.06969295802399543, 0.9751180263946607, 0.9754909368161154, 0.2614204046944419, 0.17154492923895365, 0.0007815258735259847, 0.002344577620577954, 0.04884536709537404, 0.4525034807715451, 0.04337468598069215, 0.019147383901386626, 0.8390337492474808, 0.12985046119306248, 0.029965491044552883, 0.04209431961909424, 0.8904567611731474, 0.05504641796343093, 0.009714073758252516, 0.9548570190493338, 0.013430739316530391, 0.859567316257945, 0.11192282763775326, 0.00895382621102026, 0.00447691310551013, 0.009456681239062343, 0.940939783286703, 0.033098384336718197, 0.009456681239062343, 0.9758160373014175, 0.035002607803404986, 0.9450704106919345, 0.9520090357394232, 0.16221436467670022, 0.08224953701917194, 0.5563267295602324, 0.0068541280849309955, 0.02170473893561482, 0.00913883744657466, 0.15307552723012555, 0.00913883744657466, 0.0008442446115389701, 0.05213210476253141, 0.601735346874401, 0.3030838155424903, 0.0029548561403863957, 0.00042212230576948507, 0.03883525213079263, 0.004131954679716564, 0.8594465733810452, 0.11982668571178035, 0.012395864039149692, 0.0027914326922003825, 0.9072156249651243, 0.041871490383005736, 0.0027914326922003825, 0.04466292307520612, 0.020066655213970268, 0.8896217144860152, 0.0869555059272045, 0.02033419366950099, 0.9557071024665466, 0.017913664312075427, 0.712963839620602, 0.20063304029524479, 0.06807192438588662, 0.22409596299660625, 0.2883105956681484, 0.16905484927814154, 0.009173518953077449, 0.06880139214808087, 0.10058108280695631, 0.12679113695860617, 0.012777401398929304, 0.1303071329685192, 0.2943073875457209, 0.06535653709636009, 0.006089118363014915, 0.030851533039275573, 0.16359431335300073, 0.24153502839959165, 0.06779218444156605, 0.9765343643822422, 0.16417237898222228, 0.03775540498557567, 0.0984185837826242, 0.33979864487018097, 0.047936637790674724, 0.12514431989600924, 0.10181232805099055, 0.0852678247427046, 0.04441412433626931, 0.038997767709895007, 0.1289092877077085, 0.2989828857758617, 0.2155709937296974, 0.09099479132308834, 0.07366245011869056, 0.1061605898769364, 0.008004857121240308, 0.981929140205478, 0.010673142828320412, 0.07139313741005546, 0.008399192636477114, 0.9155119973760053, 0.010114554844392195, 0.1247461764141704, 0.6540745466040286, 0.11463162156977821, 0.07080188391074536, 0.02191486882951642, 0.9664227935508142, 0.04249556040686437, 0.9349023289510162, 0.2771484621275637, 0.25251304327178026, 0.016796876492579618, 0.010078125895547772, 0.03471354475133121, 0.14613282548544268, 0.22451824911748092, 0.03751302416676115, 0.28583909378854183, 0.13142027300622613, 0.036140575076712186, 0.06612082485625752, 0.025051989541811856, 0.1572936392543269, 0.25709090906842985, 0.04065814696130121, 0.9732551457462243, 0.01836330463672121, 0.9826378040323278, 0.9368773960440546, 0.9859029595673807, 0.12586649079153, 0.17709122541598987, 0.14635638464131395, 0.054151862317286165, 0.035125532313915346, 0.44931410084883383, 0.010244946924891977, 0.043011110723006424, 0.7497882815226796, 0.1325207195249387, 0.002324924903946293, 0.030224023751301815, 0.04184864827103328, 0.017998433200309666, 0.7667332543331917, 0.03599686640061933, 0.007199373280123866, 0.07199373280123866, 0.09719153928167219, 0.9627013540011772, 0.01308761786639763, 0.09161332506478341, 0.05235047146559052, 0.8245199255830508, 0.01308761786639763, 0.969336437149959, 0.013099141042567014, 0.4190095517451254, 0.29361534887480706, 0.02777963878973207, 0.01890558750967877, 0.0077165663304811305, 0.06674829875866178, 0.15317384166005044, 0.013118162761817922, 0.03376303981555018, 0.945365114835405, 0.3071366053401669, 0.3202315768856779, 0.018452005359583672, 0.0017856779380242263, 0.00476180783473127, 0.08511731504582146, 0.22678109812907674, 0.03571355876048452, 0.29692136888969195, 0.11618662260900989, 0.0022257973679886954, 0.007567711051161564, 0.04006435262379651, 0.2599731325810796, 0.25374089995071125, 0.02359345210068017, 0.16868223375602917, 0.31751949883487846, 0.004961242169294976, 0.01240310542323744, 0.08310080633569085, 0.3894575102896556, 0.02232558976182739, 0.0796843887804799, 0.14925012501740678, 0.0012648315679441252, 0.03668011547037963, 0.012648315679441252, 0.2504366504529368, 0.4502800381881086, 0.01897247351916188, 0.9742563995400796, 0.2942542147885441, 0.2870613339826019, 0.05950474121279447, 0.01896304939748395, 0.04969626738650967, 0.09743084000776238, 0.17197524108752688, 0.021578642417826567, 0.9664227851992805, 0.2076858795102171, 0.35912349998641707, 0.07716107329025428, 0.014422630521542855, 0.06994975802948285, 0.09086257228571998, 0.1536010150544314, 0.027402997990931426, 0.019175890322201114, 0.04793972580550278, 0.8840085438534713, 0.013423123225540779, 0.011505534193320668, 0.005752767096660334, 0.021093479354421223, 0.9665005315815985, 0.9927049518569716, 0.664515253251357, 0.1172673976325924, 0.03350497075216926, 0.06700994150433852, 0.022336647168112837, 0.09493075046447956, 0.07847521857934117, 0.14848188839112755, 0.4567370635301224, 0.08016892833285214, 0.06605468038692747, 0.02709935605617537, 0.13888419978789876, 0.003951989424858908, 0.987506046597486, 0.9759548467144261, 0.9775058908661922, 0.9757386413555398, 0.9918766452107175, 0.2625263625371911, 0.32919152152793446, 0.12816247619925863, 0.0031007050693369026, 0.01757066205957578, 0.0635644539214065, 0.15658560600151358, 0.03979238172315692, 0.0032652735340560736, 0.009795820602168222, 0.06857074421517755, 0.4212202858932335, 0.11428457369196258, 0.3853022770186167, 0.037998138483962454, 0.9309543928570801, 0.30275392638038795, 0.31005898090431155, 0.00487003634928238, 0.018668472672249123, 0.008928399973684364, 0.03652527261961785, 0.22564501751675028, 0.09171901791148482, 0.05500825381952051, 0.012501875868072842, 0.05917554577554479, 0.0341717940393991, 0.004167291956024281, 0.03250487725698939, 0.8034538891214813, 0.10675731760228596, 0.6130920239445565, 0.07930543593312671, 0.06405439056137158, 0.006100418148702055, 0.12963388565991865, 0.9558212536286477, 0.9635956702125744, 0.08775009621647804, 0.9067509942369397, 0.9534479062273319, 0.18009598829737994, 0.2524918942630761, 0.019216197262499596, 0.04647638407674321, 0.02100375049622049, 0.3025433848072611, 0.12423494974360205, 0.054073485320057006, 0.9749645061802318, 0.9155287294548959, 0.9360731600374823, 0.04129734529577128, 0.9357197183739706, 0.038988321598915444, 0.9837369665277951, 0.7674976134151194, 0.04582075303970862, 0.04009315890974504, 0.02291037651985431, 0.04009315890974504, 0.08018631781949008, 0.8414503615523141, 0.14322559345571304, 0.18707816018896187, 0.24052906310009384, 0.0024295864959605435, 0.0072887594878816315, 0.034014210943447615, 0.05831007590305305, 0.46891019372038495, 0.11376504603988596, 0.45783494138002884, 0.05549514440970047, 0.0020810679153637677, 0.1616296080932526, 0.11168397812452219, 0.09781019202209708, 0.02643997231951854, 0.014541984775735196, 0.45080152804779106, 0.10047189481417045, 0.1321998615975927, 0.27365371350701684, 0.042319749677030664, 0.014106583225676888, 0.8887147432176439, 0.014106583225676888, 0.014106583225676888, 0.014106583225676888, 0.9143853804055568, 0.06531324145753978, 0.004880298817361982, 0.8930946835772428, 0.004880298817361982, 0.09760597634723964, 0.023899394602410882, 0.5165353026972674, 0.0015418964259619923, 0.03237982494520184, 0.32919488694288535, 0.015418964259619923, 0.0809495623630046, 0.9867461958553339, 0.9590936496287975, 0.8737755179599261, 0.025699279939997828, 0.10279711975999131, 0.024783569524313275, 0.016522379682875517, 0.07435070857293982, 0.16522379682875515, 0.016522379682875517, 0.7022011365222095, 0.9759957221315549, 0.08479607898391384, 0.10316856276376184, 0.11306143864521846, 0.4423528786994172, 0.025438823695174154, 0.05794398730567446, 0.06077052327180492, 0.11306143864521846, 0.11747490092343836, 0.14910275886436405, 0.031627857940925715, 0.5150822578950759, 0.17169408596502528, 0.004518265420132245, 0.00903653084026449, 0.010360441997834903, 0.8599166858202969, 0.025901104994587257, 0.10360441997834903, 0.947757882467879, 0.08373570717511536, 0.90015885213249, 0.9837380379664162, 0.9922372004967576, 0.9469831898199411, 0.9658786150061648, 0.03359577791325791, 0.8250980677408998, 0.07675330862706044, 0.009594163578382555, 0.08634747220544299, 0.9313642449716846, 0.0636830252972092, 0.0945524074001776, 0.0472762037000888, 0.015758734566696266, 0.8352129320349022, 0.06879486011265416, 0.09128548745717573, 0.5437439905057858, 0.0013229780790895032, 0.14817354485802436, 0.11509909288078678, 0.030428495819058574, 0.0013229780790895032, 0.19829813149070633, 0.14514605500866132, 0.07768380408914269, 0.0020443106339248073, 0.040886212678496146, 0.00817724253569923, 0.16354485071398459, 0.3638872928386157, 0.04251094800279117, 0.9352408560614057, 0.07838662071929993, 0.8391979394654463, 0.02305488844685292, 0.027665866136223505, 0.004610977689370584, 0.02305488844685292, 0.008676243617609077, 0.14532708059495203, 0.16484862873457246, 0.1952154813962042, 0.05422652261005673, 0.04771933989684992, 0.04771933989684992, 0.3362044401823517, 0.9673043432606319, 0.9534822347317045, 0.47786013671547467, 0.043234964750447705, 0.3731860115301802, 0.08874545396144529, 0.013653146763299276, 0.9558204632405132, 0.11686572817736658, 0.8809877970293788, 0.004033278073429861, 0.020166390367149303, 0.08469883954202707, 0.5001264811053027, 0.3791281389024069, 0.008066556146859721, 0.20861683960888594, 0.3706896831297336, 0.007480285085577584, 0.004155713936431991, 0.05236199559904308, 0.3183276875306905, 0.03823256821517432, 0.059756638460609315, 0.18981520452193548, 0.12888686726798088, 0.12302837330125448, 0.22848126470232974, 0.10193779502103942, 0.0363226625937037, 0.1324019636480167, 0.0935413586081161, 0.01609313696483718, 0.17601868555290665, 0.20116421206046473, 0.25648437037709254, 0.14684987480413925, 0.04123866347239527, 0.06839583210055801, 0.9266131269394031, 0.9076218179255147, 0.09076218179255147, 0.9759094546272992, 0.11902501222095767, 0.02645000271576837, 0.8464000869045878, 0.053203481333727556, 0.629574529115776, 0.20394667844595563, 0.04813648311146779, 0.003800248666694825, 0.02026799288903907, 0.04180273533364308, 0.891363791213412, 0.06255184499743242, 0.008420440672731289, 0.03488468278702962, 0.0024058401922089395, 0.8746476614261366, 0.09599791405896621, 0.021332869790881382, 0.06955314267904042, 0.37849849736966185, 0.033967813866508115, 0.03073278397445972, 0.4512866699407507, 0.03558532881253231, 0.9446555964107756, 0.9681516631765155, 0.021756217150034056, 0.5240322469631141, 0.08098680180339037, 0.009527859035692983, 0.145299850294318, 0.16197360360678073, 0.07622287228554386, 0.0047639295178464915, 0.01798593032432426, 0.9712402375135099, 0.810976781244938, 0.17073195394630272, 0.00711383141442928, 0.9590088355224333, 0.9932854621602126, 0.9750140731889875, 0.7943719609823584, 0.19510890269742137, 0.9605121389904974, 0.3002600807944135, 0.06653963009294482, 0.020793634404045257, 0.17383478361781837, 0.05489519482667948, 0.0798475561115338, 0.14971416770912585, 0.15470463996609674, 0.25644292715653966, 0.07397392129515568, 0.01397285180019607, 0.273703508792076, 0.023014108847381764, 0.2334288183091579, 0.055069474741949224, 0.07068619145981542, 0.11862927834617112, 0.1089880295759876, 0.04149928818470297, 0.13749259115739973, 0.09599330297269677, 0.3244489803531323, 0.08383694582768277, 0.08928634730648215, 0.15431674199724235, 0.11306375156233597, 0.0519482101772895, 0.07333864966205576, 0.08174203660249965, 0.3185647594695547, 0.1237589713047191, 0.0840338694044389, 0.15035807627462813, 0.32184755786352837, 0.054454006002162623, 0.0016254927164824665, 0.20156109684382584, 0.021944151672513297, 0.2373219366064401, 0.011378449015377264, 0.10502683044431715, 0.03165192150376681, 0.01726468445660008, 0.5510311789064859, 0.028774474094333466, 0.09063959339715043, 0.03309064520848349, 0.14531109417638402, 0.0068929792045170244, 0.08041809071936527, 0.07812043098452627, 0.08041809071936527, 0.7559300527620336, 0.2791137173011234, 0.01731809527170548, 0.00022491032820396727, 0.05667740270739975, 0.11807792230708282, 0.4012400255158776, 0.10773204720970032, 0.01979210888194912, 0.7908457019043157, 0.010983968082004384, 0.05491984041002192, 0.08787174465603508, 0.05491984041002192, 0.9590923938888382, 0.9756688286833065, 0.29969408110457263, 0.1408336847295924, 0.07098017710371457, 0.0906968929658575, 0.04281344015779609, 0.09858357931071468, 0.20336384074953143, 0.05295346545832674, 0.9113917228872456, 0.027991692015627786, 0.05598338403125557, 0.8957341445000891, 0.08137377212295643, 0.07397615647541493, 0.02219284694262448, 0.7915448742869398, 0.029590462590165973, 0.9700280484521258, 0.09846961800037525, 0.06980124820279765, 0.042379329265984284, 0.0012464508607642436, 0.6793157191165128, 0.0486115835698055, 0.059829641316683696, 0.08393888491704371, 0.20123809589086122, 0.0010761395502185093, 0.010761395502185092, 0.6607496838341647, 0.03874102380786633, 0.0021522791004370185, 0.10934095460359569, 0.14761028871485418, 0.01093409546035957, 0.6943150617328326, 0.01093409546035957, 0.027335238650898923, 0.25434600360628506, 0.15602738036351943, 0.5471645119597394, 0.04274722749685464, 0.027599866903799706, 0.9659953416329897, 0.9760975004568004, 0.13758636797116874, 0.18716704111393223, 0.1103169977426488, 0.05453874045703986, 0.06197584142845439, 0.06941294239986891, 0.1908855915996395, 0.18840655794250133, 0.9626900552475584, 0.34077983130868017, 0.10551067853980291, 0.0013106916588795391, 0.010485533271036313, 0.01572829990655447, 0.22740500281560005, 0.23789053608663635, 0.060947162137898574, 0.9276185108497481, 0.04882202688682885, 0.052795681088532095, 0.9239244190493117, 0.1945375820203496, 0.17739189682533574, 0.22421280639633515, 0.10089576287835081, 0.1312304366849138, 0.11012805490643521, 0.027037426653675707, 0.03429137039002773, 0.057863821869773666, 0.15292581494154467, 0.016532520534221048, 0.008266260267110524, 0.020665650667776307, 0.08266260267110523, 0.03719817120199735, 0.6241026501668445, 0.9871247586511682, 0.9368370418736116, 0.030809844609967055, 0.8296651012826842, 0.03301054779639327, 0.08142601789777007, 0.0044014063728524365, 0.019806328677835962, 0.9697885272718717, 0.9115133842391553, 0.07218891876491368, 0.01535934441806674, 0.8678029596207708, 0.026110885510713458, 0.01535934441806674, 0.001535934441806674, 0.008173407462109572, 0.9235950432183815, 0.004086703731054786, 0.06538725969687657, 0.03873077384687043, 0.9295385723248903, 0.02582051589791362, 0.03738227869441959, 0.9532481067076995, 0.01873365470890006, 0.03746730941780012, 0.8242808071916026, 0.11240192825340035, 0.9368623316913941, 0.08263003691203347, 0.12622625270611249, 0.002534663708958082, 0.008110923868665862, 0.5672577380648187, 0.13839263850911127, 0.07451911304336761, 0.10852902329178246, 0.033393545628240755, 0.004174193203530094, 0.6803934921754055, 0.08348386407060189, 0.08765805727413199, 0.023283765139212424, 0.007484067366175422, 0.09729287576028049, 0.43740215940091914, 0.2877208120774107, 0.019125949935781636, 0.044904404197052536, 0.08232474102792964, 0.8333230086563089, 0.012388349980024414, 0.0016517799973365885, 0.06276763989879036, 0.0016517799973365885, 0.012388349980024414, 0.07680776987615136, 0.9012524414656357, 0.07730833583678139, 0.0020344298904416153, 0.006103289671324846, 0.0020344298904416153, 0.012206579342649692, 0.956144084958136, 0.01434216127437204, 0.02868432254874408, 0.9284241244041428, 0.021343083319635466, 0.04268616663927093, 0.8511356012208098, 0.00628144355144509, 0.037688661308670546, 0.015703608878612725, 0.08794020972023127, 0.0058727839477990445, 0.8486172804569619, 0.04845046756934212, 0.030832115725944985, 0.030832115725944985, 0.033768507699844505, 0.7939863364878454, 0.11657735892877097, 0.03780887316608788, 0.04726109145760985, 0.0031507394305073234, 0.9881605410440946, 0.1549529313901372, 0.14174671564665958, 0.3754967343062131, 0.0008804143828985067, 0.015847458892173122, 0.12325801360579093, 0.17476225500535358, 0.013206215743477601, 0.020029744202536243, 0.981457465924276, 0.03231549494694463, 0.24716986675636024, 0.2934596297884701, 0.0008733917553228277, 0.052403505319369666, 0.07336490744711753, 0.15022338191552637, 0.15022338191552637, 0.31542403646587774, 0.1590755227133389, 0.13453244206613804, 0.013635044804000478, 0.0681752240200024, 0.07726525388933604, 0.1645295406349391, 0.06726622103306902, 0.12543038378969548, 0.013936709309966164, 0.027873418619932328, 0.8222658492880037, 0.014117977614509539, 0.9459045001721391, 0.014117977614509539, 0.852119893619465, 0.14585836016909762, 0.9769841826444702, 0.9769509122587514, 0.0668501850381702, 0.21885722117111717, 0.08124868643100684, 0.304014072265894, 0.01583835153212032, 0.11333677524932854, 0.19150006852472753, 0.00843340795866147, 0.7456538912660883, 0.09038228985043495, 0.011297786231304369, 0.011297786231304369, 0.12427564854434806, 0.011297786231304369, 0.1672400834354785, 0.21044377165631042, 0.002090501042943481, 0.06619919969321024, 0.029267014601208736, 0.03484168404905802, 0.37698702141080775, 0.11288705631894798, 0.004437656942611163, 0.059908368725250696, 0.7033686254038692, 0.19525690547489116, 0.008875313885222325, 0.026625941655666976, 0.9982447405881305, 0.9520075817774856, 0.9814519294161229, 0.015454558832297443, 0.9272735299378466, 0.023181838248446166, 0.023181838248446166, 0.9477571718235928, 0.23453824082475064, 0.21622192106510343, 0.02099675679764434, 0.04467395063328583, 0.016529361734315757, 0.321652444559658, 0.09247507781090167, 0.053608740759943, 0.9693712053960456, 0.9741690202653326, 0.993915027009779, 0.9479117340973459, 0.028019864570158044, 0.9526753953853735, 0.21104421796910122, 0.07034807265636707, 0.012234447418498622, 0.009175835563873967, 0.48428021031557045, 0.1977902332657277, 0.014273521988248392, 0.12041366187448709, 0.13017693175620224, 0.027662597998192977, 0.19201097434039832, 0.013017693175620225, 0.5011811872613786, 0.01627211646952528, 0.9507519694715406, 0.07560859627062277, 0.10081146169416369, 0.008400955141180309, 0.008400955141180309, 0.06720764112944247, 0.7308830972826869, 0.020396803285264577, 0.061190409855793736, 0.013597868856843052, 0.03399467214210763, 0.8702636068379553, 0.14056172366219816, 0.10452025605650632, 0.16218660422561323, 0.19153465641881945, 0.17093953207270984, 0.026258783541289764, 0.0432497611268302, 0.1601270917910023, 0.9732510634217437, 0.023971701069501077, 0.9573926172798299, 0.029610080946798865, 0.9068990472222961, 0.992507442847491, 0.958115929306257, 0.008108981747443823, 0.9892957731881465, 0.9615246477693229, 0.020918420695415222, 0.06275526208624567, 0.9204105105982698, 0.13582518376163144, 0.004683627026263153, 0.023418135131315767, 0.004683627026263153, 0.023418135131315767, 0.7962165944647361, 0.009367254052526306, 0.9692696801108326, 0.9473491647910239, 0.0470732504243987, 0.0013075902895666306, 0.003922770868699892, 0.9635952758557922, 0.9665167573630634, 0.004112837265374738, 0.016451349061498952, 0.008225674530749476, 0.9762922516521417, 0.9621844397314218, 0.09139312688575778, 0.8834668932289919, 0.04332500625485435, 0.02707812890928397, 0.6160274326862104, 0.08935782540063711, 0.05957188360042474, 0.04874063203671115, 0.06769532227320993, 0.04738672559124695, 0.9590092385372548, 0.03621413923317715, 0.2263383702073572, 0.03168737182903001, 0.565845925518393, 0.09958888289123717, 0.0407409066373243, 0.0024809231567976668, 0.6524827902377864, 0.14017215835906818, 0.013645077362387167, 0.18979062149502152, 0.9620758245689177, 0.03544223364685143, 0.9392191916415629, 0.1292340114357177, 0.0347937723096163, 0.13420455033709144, 0.014911616704121273, 0.05716119736579821, 0.19633628660426342, 0.4324368844195169, 0.11061533583216208, 0.01382691697902026, 0.08296150187412156, 0.7743073508251346, 0.016575650135407294, 0.19061997655718388, 0.04972695040622188, 0.09116607574474012, 0.6464503552808845, 0.9531119105861894, 0.9607953775698872, 0.020016570366039318, 0.9621841552818121, 0.9615246801380123, 0.8754527159233987, 0.015917322107698157, 0.031834644215396314, 0.0795866105384908, 0.7965541177923576, 0.1048097523410997, 0.07336682663876978, 0.02096195046821994, 0.9478815445898557, 0.9421668160323299, 0.10481006084021822, 0.18495893089450274, 0.08528661813468738, 0.0986447631437348, 0.14180184701911877, 0.027743839634175413, 0.1870140301266639, 0.1685181370372136, 0.9664751234542128, 0.02989098319961483, 0.10023528678396132, 0.01670588113066022, 0.01670588113066022, 0.8519999376636712, 0.09345381379330622, 0.08471981250421219, 0.10830161598476609, 0.046290206832198415, 0.40089065916941646, 0.20786923068043817, 0.05851780863693007, 0.022385462992832863, 0.0727527547267068, 0.08394548622312323, 0.6715638897849858, 0.07834912047491502, 0.06156002323029037, 0.0677374885322099, 0.9096177031468186, 0.009676784076029985, 0.9694461615086563, 0.03114535241410398, 0.12937300233550883, 0.7834254030316924, 0.00479159267909292, 0.02874955607455752, 0.0239579633954646, 0.03436824822290196, 0.024548748730644256, 0.3338629827367619, 0.05400724720741736, 0.004909749746128851, 0.04909749746128851, 0.5057042238512717, 0.10298732658710005, 0.8753922759903505, 0.06373616680724815, 0.2437628835785982, 0.04808166969669598, 0.034663529316222685, 0.030190815856064916, 0.42602595708002716, 0.11964508505922022, 0.034663529316222685, 0.14658822272016567, 0.007329411136008284, 0.03664705568004142, 0.014658822272016567, 0.7622587581448615, 0.029317644544033135, 0.08833854245226272, 0.6610159900738279, 0.1507847534961036, 0.02436925309027937, 0.02741540972656429, 0.04569234954427382, 0.06974812376126129, 0.05579849900900903, 0.86487673463964, 0.9828144908163399, 0.9919870585452837, 0.9966704891043155, 0.9599479160055283, 0.017453598472827788, 0.008169036351388366, 0.057183254459718565, 0.14431964220786114, 0.12253554527082548, 0.17154976337915567, 0.16610373914489676, 0.3322074782897935, 0.9839006019471491, 0.9697863417205307, 0.9479111330078623, 0.03431968350856205, 0.025739762631421536, 0.011439894502854016, 0.2001981537999453, 0.45187583286273364, 0.022879789005708032, 0.04861955163712957, 0.2059181010513723, 0.9520009630203629, 0.9552558327562293, 0.1547177891380438, 0.14281642074280965, 0.0029753420988085344, 0.029753420988085345, 0.011901368395234138, 0.04760547358093655, 0.6099451302557496, 0.9724912839062535, 0.9908583096096276, 0.9626899453214437, 0.13458941018442558, 0.11974498994349628, 0.4859073558864188, 0.006927396112433669, 0.07026358914039865, 0.17615378685902758, 0.0059377680963717165, 0.08511061550867749, 0.00048358304266294023, 0.00048358304266294023, 0.0009671660853258805, 0.08365986638068866, 0.8288613351242796, 0.17478691755814876, 0.01664637310077607, 0.024969559651164108, 0.008323186550388035, 0.7657331626356992, 0.008096940169863152, 0.010795920226484202, 0.7341225754009257, 0.013494900283105252, 0.23211228486941032, 0.9057706364781016, 0.010912899234675923, 0.07639029464273146, 0.9647610211338737, 0.9620759783314194, 0.8966393996736869, 0.03898432172494291, 0.05847648258741436, 0.9805626656380819, 0.10068657996844897, 0.07048060597791428, 0.8256299557412815, 0.09211912766939517, 0.20301982505779323, 0.3970960454874899, 0.0017887209256193237, 0.02861953480990918, 0.13325970895863962, 0.14130895312392658, 0.0035774418512386475, 0.9724912656811335, 0.9742300712976254, 0.9554953397313035, 0.01265556741365965, 0.01581945926707456, 0.01581945926707456, 0.058228629335782836, 0.10144987997677628, 0.1698835268250159, 0.17108411712059904, 0.3193570186251182, 0.12005902955831511, 0.04082007004982714, 0.019209444729330418, 0.9758061141950191, 0.09062132523117768, 0.005663832826948605, 0.8920536702444053, 0.014159582067371512, 0.07382462503610564, 0.012304104172684273, 0.02337779792810012, 0.5598367398571344, 0.0012304104172684272, 0.2030177188492905, 0.126732272978648, 0.036779110915900685, 0.26971348004993834, 0.012259703638633561, 0.011145185126030509, 0.4324331828899838, 0.19058266565512172, 0.04680977752932814, 0.9847676111339577, 0.16524050448243646, 0.1482927604329558, 0.052961700154627075, 0.012004652035048803, 0.41663204121639963, 0.023303148068035913, 0.18006978052573205, 0.0014123120041233887, 0.011725734036509729, 0.9849616590668172, 0.9650641317931357, 0.8549208218403344, 0.13829601529770116, 0.002514473005412748, 0.002514473005412748, 0.19211315059083886, 0.2572006660915602, 0.007348590459758863, 0.0005248993185542045, 0.04199194548433636, 0.4319921391701103, 0.015222080238071931, 0.054064629811083065, 0.9382532943379803, 0.03475012201251779, 0.017375061006258893, 0.17682437378230947, 0.18016068272159833, 0.010008926817866573, 0.01334523575715543, 0.5838540643755501, 0.033363089392888574, 0.1859086202869922, 0.3502131807241199, 0.08584771150867224, 0.0039796952355013624, 0.0056852789078590885, 0.14383755636883494, 0.17510659036205994, 0.050030454389159984, 0.9827113853491417, 0.04714496502881377, 0.9290331343913302, 0.002773233236989045, 0.019412632658923318, 0.9808295129592316, 0.02601160247607268, 0.0845377080472362, 0.2341044222846541, 0.5267349501404718, 0.03901740371410902, 0.06828045649969078, 0.01950870185705451, 0.9368378078524232, 0.996853975110812, 0.0628345771714549, 0.01256691543429098, 0.13823606977720077, 0.01256691543429098, 0.08796840804003686, 0.6911803488860039, 0.06246804293967594, 0.00892400613423942, 0.04971946274790534, 0.3913814118873574, 0.10708807361087304, 0.01019886415341648, 0.2906676283723697, 0.07904119718897772, 0.005721235574740838, 0.007628314099654451, 0.0896326906709398, 0.2612697579131649, 0.3623449197335864, 0.038141570498272256, 0.08200437657128534, 0.15256628199308903, 0.9558205871536747, 0.09229782889198142, 0.24345224432377707, 0.5484363745755417, 0.008025898164520123, 0.0026752993881733744, 0.010701197552693498, 0.08560958042154798, 0.008025898164520123, 0.003508410433924604, 0.22453826777117467, 0.007016820867849208, 0.003508410433924604, 0.7613250641616391, 0.019887285276864515, 0.018230011503792474, 0.009943642638432258, 0.5883321894405752, 0.12429553298040322, 0.15246918712262794, 0.003314547546144086, 0.08286368865360215, 0.026041581806733334, 0.013786719780035294, 0.07940129354798105, 0.21573663359499673, 0.41717592815884574, 0.10697473310805163, 0.03855175345898758, 0.10237915984803987, 0.11286224160270636, 0.0012825254727580268, 0.006412627363790134, 0.01667283114585435, 0.0012825254727580268, 0.05130101891032107, 0.7041064845441567, 0.10644961423891622, 0.07215726257413611, 0.0911460158831193, 0.018988753308983187, 0.028483129963474782, 0.7899321376537006, 0.9934110670437055, 0.9788330086465461, 0.927086740043868, 0.05761556011572061, 0.010475556384676475, 0.004221776737909342, 0.8485771243197778, 0.025330660427456055, 0.004221776737909342, 0.07599198128236816, 0.04221776737909342, 0.21586431432959527, 0.21156850707925506, 0.18633063948350637, 0.02147903625170102, 0.028459723033503855, 0.10041449447670228, 0.17075833820102312, 0.06443710875510307, 0.11828811025277783, 0.25527989605834533, 0.10160645367866813, 0.11778260550810783, 0.04246239855227922, 0.11323306280607792, 0.1572119755923671, 0.09402388250861828, 0.951853610519275, 0.9847677067591835, 0.025704753286180198, 0.9253711183024871, 0.05455759624737214, 0.0036371730831581428, 0.0054557596247372135, 0.4437351161452934, 0.4873811931431911, 0.0036371730831581428, 0.039836087774071126, 0.02223409550180714, 0.46598958489204134, 0.007411365167269047, 0.0027792619377258925, 0.45765179907886366, 0.0037056825836345236, 0.020300035262179796, 0.09744016925846302, 0.016240028209743837, 0.032480056419487674, 0.15834027504500242, 0.6130610649178299, 0.06090010578653939, 0.942170292949723, 0.10954181608984807, 0.08137392052388714, 0.05320602495792621, 0.18048318270041636, 0.3348849806175355, 0.1220608807858307, 0.04381672643593923, 0.07511438817589582, 0.11148909860057522, 0.8473171493643717, 0.9897043971672055, 0.9634754264955714, 0.9695523938334867, 0.02345691275403597, 0.9320899714589995, 0.07792316906012292, 0.827933671263806, 0.05844237679509219, 0.029221188397546095, 0.17055046535457263, 0.172124777342461, 0.08291376469545378, 0.16057982276461302, 0.06612110349131124, 0.23614679818325443, 0.06874495680445851, 0.04303119433561525, 0.18025377345096896, 0.0923417251516306, 0.1260754181037023, 0.1281198843432218, 0.025896572367246958, 0.15946836668252073, 0.17309814161265072, 0.11483085378634507, 0.1797614371719041, 0.12354737949959044, 0.10377979877965597, 0.08895411323970512, 0.046948004209844366, 0.24894796969167474, 0.1667889623244471, 0.0413883721323628, 0.9767370690526931, 0.9678689109612022, 0.20818035714336752, 0.18751354202744, 0.001512205984092258, 0.006048823936369032, 0.35385620027758835, 0.02268308976138387, 0.2202780050161056, 0.01762749630859537, 0.9695122969727454, 0.9833856160162162, 0.007682700125126689, 0.007682700125126689, 0.06974748824749925, 0.022115057249207083, 0.11652934012082193, 0.058689959622895714, 0.3895652392360324, 0.08590849162191981, 0.20669072736758926, 0.04933358924823118, 0.9558283275669196, 0.9068992183642554, 0.9599465435126192, 0.8218532521203737, 0.08651086864424987, 0.07785978177982487, 0.9621842805210706, 0.9579775215259465, 0.9673353668732959, 0.9758047462194015, 0.03256868742470523, 0.9640331477712747, 0.004046457779634307, 0.0010116144449085766, 0.4734355602172139, 0.2650429845660471, 0.09812660115613193, 0.04552265002088595, 0.011127758893994344, 0.10116144449085766, 0.9649056015956298, 0.041816399334974226, 0.919960785369433, 0.01737965756533027, 0.03475931513066054, 0.9471913373104996, 0.984757202949966, 0.10682863749167973, 0.07984035012536063, 0.07759132617816737, 0.0011245119735966286, 0.551010867062348, 0.17767289182826732, 0.003373535920789886, 0.0011245119735966286, 0.9762128767370118, 0.9865168651221051, 0.008808186295733081, 0.5512890810727292, 0.16578620916317582, 0.04594075675606077, 0.013981969447496757, 0.02197166627463776, 0.13582484606139705, 0.03795105992891977, 0.027963938894993514, 0.4734545980108336, 0.2737549433138212, 0.009152900840279737, 0.004160409472854425, 0.004992491367425311, 0.08736859892994293, 0.11649146523992392, 0.03161911199369363, 0.0031821691124501563, 0.0004545955874928795, 0.5787001828784356, 0.008637316162364711, 0.24911838194609795, 0.15365330857259327, 0.0004545955874928795, 0.005909742637407433, 0.9632505778462422, 0.30194769994106374, 0.15772667393087517, 0.15145619453912781, 0.10129235940514918, 0.061257760211685455, 0.036175842644696136, 0.17943217951769283, 0.010611580509110867, 0.058716232191935606, 0.9394597150709697, 0.06109600124867625, 0.9317140190423128, 0.12300991162517612, 0.08284340987001658, 0.010041625438789888, 0.005020812719394944, 0.5598206182125363, 0.20836372785489016, 0.01255203179848736, 0.9590089227403923, 0.06537264070273416, 0.13939754267494783, 0.07306353960893817, 0.10671122232358075, 0.10959530941340727, 0.1691997759364884, 0.14420435449132535, 0.19227247265510047, 0.10471885980577275, 0.4967545912635186, 0.0039599568834115745, 0.042239540089723464, 0.29083683332611676, 0.0026399712556077165, 0.05895935804190567, 0.9732638301040791, 0.048500781718445254, 0.009060585595753508, 0.34030493546403623, 0.1849425412780275, 0.12524927147071027, 0.05596244044435991, 0.16815380914471953, 0.0676879041565115, 0.07640482051693903, 0.1654881702026278, 0.08908334968568875, 0.1688246252470356, 0.07073284694144574, 0.3600034992916036, 0.006339264584374855, 0.06305900033930777, 0.3090530292278747, 0.6648535754818145, 0.016448200435096972, 0.009522642357161406, 0.1448526214324005, 0.22859275928384976, 0.0375939767801187, 0.055589197892876946, 0.07714782912697345, 0.24854785596334403, 0.14182372282926298, 0.065744916738691, 0.05742742166512603, 0.9284099835862042, 0.009571236944187673, 0.9766972575584117, 0.9812325094405898], \"Term\": [\"18th\", \"18th\", \"18th\", \"19th\", \"19th\", \"19th\", \"19th\", \"19th\", \"adaptation\", \"adaptation\", \"adaptation\", \"adaptation\", \"adaptation\", \"affair\", \"affair\", \"affair\", \"affair\", \"affair\", \"affair\", \"affair\", \"agent\", \"agent\", \"agent\", \"agent\", \"agent\", \"agent\", \"album\", \"album\", \"alex\", \"alex\", \"alex\", \"alex\", \"alex\", \"algeria\", \"alibi\", \"alien\", \"alien\", \"allied\", \"allies\", \"allies\", \"also\", \"also\", \"also\", \"also\", \"also\", \"also\", \"also\", \"also\", \"always\", \"always\", \"always\", \"always\", \"always\", \"always\", \"always\", \"american\", \"american\", \"american\", \"american\", \"american\", \"american\", \"american\", \"american\", \"amish\", \"ancient\", \"ancient\", \"ancient\", \"ancient\", \"ancient\", \"ancient\", \"anew\", \"angeles\", \"angeles\", \"angeles\", \"angeles\", \"angeles\", \"angst\", \"anjali\", \"apache\", \"archival\", \"aristocrat\", \"aristocrat\", \"armies\", \"army\", \"army\", \"army\", \"army\", \"army\", \"army\", \"art\", \"art\", \"art\", \"art\", \"art\", \"art\", \"art\", \"astronauts\", \"atomic\", \"atrocities\", \"au\", \"audience\", \"audience\", \"audience\", \"audience\", \"audience\", \"aviv\", \"away\", \"away\", \"away\", \"away\", \"away\", \"away\", \"away\", \"away\", \"back\", \"back\", \"back\", \"back\", \"back\", \"back\", \"back\", \"back\", \"band\", \"band\", \"band\", \"band\", \"band\", \"band\", \"band\", \"band\", \"bank\", \"bank\", \"bank\", \"baptist\", \"baseball\", \"baseball\", \"baseball\", \"based\", \"based\", \"based\", \"based\", \"based\", \"based\", \"based\", \"basketball\", \"basketball\", \"battle\", \"battle\", \"battle\", \"battle\", \"battle\", \"battle\", \"battle\", \"becomes\", \"becomes\", \"becomes\", \"becomes\", \"becomes\", \"becomes\", \"becomes\", \"becomes\", \"begins\", \"begins\", \"begins\", \"begins\", \"begins\", \"begins\", \"begins\", \"begins\", \"behindthescenes\", \"behindthescenes\", \"bens\", \"berg\", \"berg\", \"best\", \"best\", \"best\", \"best\", \"best\", \"best\", \"best\", \"best\", \"betty\", \"betty\", \"betty\", \"biblical\", \"biblical\", \"bin\", \"bipolar\", \"blend\", \"bob\", \"bob\", \"bob\", \"bob\", \"bob\", \"bob\", \"bob\", \"bogart\", \"bollywood\", \"bosnian\", \"boss\", \"boss\", \"boss\", \"boss\", \"boss\", \"boss\", \"boss\", \"boss\", \"bosss\", \"bounty\", \"bounty\", \"boxing\", \"boxing\", \"boxing\", \"boy\", \"boy\", \"boy\", \"boy\", \"boy\", \"boy\", \"boy\", \"boy\", \"brain\", \"brain\", \"brain\", \"brain\", \"brain\", \"brain\", \"brando\", \"brazilian\", \"brazilian\", \"brenda\", \"brenda\", \"british\", \"british\", \"british\", \"british\", \"british\", \"british\", \"british\", \"bronze\", \"brother\", \"brother\", \"brother\", \"brother\", \"brother\", \"brother\", \"brother\", \"bullets\", \"bully\", \"bullying\", \"bullying\", \"bunny\", \"bunny\", \"bunny\", \"burton\", \"burton\", \"bush\", \"bush\", \"camera\", \"camera\", \"camera\", \"camera\", \"camera\", \"campus\", \"canal\", \"cancer\", \"cancer\", \"cancer\", \"cancer\", \"cancer\", \"cancer\", \"candid\", \"captain\", \"captain\", \"captain\", \"captain\", \"captain\", \"captain\", \"car\", \"car\", \"car\", \"car\", \"car\", \"car\", \"car\", \"car\", \"cartel\", \"case\", \"case\", \"case\", \"case\", \"case\", \"case\", \"case\", \"casper\", \"catholicism\", \"century\", \"century\", \"century\", \"century\", \"century\", \"century\", \"century\", \"chance\", \"chance\", \"chance\", \"chance\", \"chance\", \"chance\", \"chance\", \"chance\", \"charlie\", \"charlie\", \"charlie\", \"charlie\", \"charlie\", \"charlie\", \"charlies\", \"charlotte\", \"charlotte\", \"charlotte\", \"charlotte\", \"cheer\", \"chi\", \"childbirth\", \"children\", \"children\", \"children\", \"children\", \"children\", \"children\", \"children\", \"children\", \"christ\", \"christ\", \"christ\", \"christmas\", \"christmas\", \"christmas\", \"chronicling\", \"city\", \"city\", \"city\", \"city\", \"city\", \"city\", \"city\", \"city\", \"civilian\", \"classic\", \"classic\", \"classic\", \"classic\", \"classic\", \"classic\", \"classic\", \"classmates\", \"classmates\", \"classmates\", \"classmates\", \"claudio\", \"claus\", \"clinic\", \"clinic\", \"clinic\", \"clips\", \"club\", \"club\", \"club\", \"club\", \"club\", \"coach\", \"college\", \"college\", \"college\", \"college\", \"college\", \"comder\", \"comder\", \"comding\", \"comedian\", \"comedians\", \"comedy\", \"comedy\", \"comedy\", \"comedy\", \"comedy\", \"comedy\", \"comedy\", \"comedy\", \"comic\", \"comic\", \"comic\", \"comic\", \"comic\", \"commentary\", \"community\", \"community\", \"community\", \"community\", \"community\", \"community\", \"community\", \"community\", \"compassion\", \"concert\", \"concert\", \"contents\", \"cop\", \"cop\", \"cop\", \"coproduction\", \"cops\", \"cops\", \"cops\", \"cops\", \"cops\", \"couple\", \"couple\", \"couple\", \"couple\", \"couple\", \"couple\", \"couple\", \"creatures\", \"creatures\", \"crew\", \"crew\", \"crew\", \"crew\", \"crew\", \"crew\", \"crime\", \"crime\", \"crime\", \"crime\", \"crime\", \"crime\", \"criminal\", \"criminal\", \"criminal\", \"criminal\", \"criminal\", \"criminal\", \"criminals\", \"criminals\", \"criminals\", \"criminals\", \"criminals\", \"criminals\", \"crooked\", \"crooked\", \"crooked\", \"crooked\", \"crooks\", \"crooks\", \"culture\", \"culture\", \"culture\", \"culture\", \"culture\", \"culture\", \"cure\", \"cure\", \"cure\", \"cure\", \"cure\", \"cured\", \"cyborg\", \"cyborg\", \"cyrus\", \"dale\", \"dans\", \"daughter\", \"daughter\", \"daughter\", \"daughter\", \"daughter\", \"daughter\", \"daughter\", \"daughter\", \"daughterinlaw\", \"daughters\", \"daughters\", \"daughters\", \"daughters\", \"day\", \"day\", \"day\", \"day\", \"day\", \"day\", \"day\", \"day\", \"de\", \"de\", \"de\", \"de\", \"de\", \"de\", \"de\", \"dead\", \"dead\", \"dead\", \"dead\", \"dead\", \"dead\", \"dead\", \"dead\", \"deadly\", \"deadly\", \"deadly\", \"deadly\", \"deadly\", \"deadly\", \"death\", \"death\", \"death\", \"death\", \"death\", \"death\", \"death\", \"death\", \"decides\", \"decides\", \"decides\", \"decides\", \"decides\", \"decides\", \"decides\", \"decides\", \"des\", \"detective\", \"detective\", \"detective\", \"detective\", \"detectives\", \"detectives\", \"device\", \"device\", \"devout\", \"di\", \"di\", \"diagnosed\", \"diagnosed\", \"diagnosed\", \"diagnosed\", \"directed\", \"directed\", \"directed\", \"director\", \"director\", \"director\", \"director\", \"director\", \"director\", \"director\", \"director\", \"disapproving\", \"disease\", \"disease\", \"disease\", \"disease\", \"disease\", \"disease\", \"disease\", \"disorder\", \"disorder\", \"divorced\", \"divorced\", \"divorced\", \"divorced\", \"divorced\", \"doctor\", \"doctor\", \"doctor\", \"doctor\", \"doctor\", \"doctor\", \"doctor\", \"documentary\", \"documentary\", \"documentary\", \"documentary\", \"doesnt\", \"doesnt\", \"doesnt\", \"doesnt\", \"doesnt\", \"doesnt\", \"doesnt\", \"domination\", \"donor\", \"dont\", \"dont\", \"dont\", \"dont\", \"dont\", \"dont\", \"dont\", \"dont\", \"dr\", \"dr\", \"dr\", \"dr\", \"dr\", \"dr\", \"dr\", \"dr\", \"drama\", \"drama\", \"drama\", \"drama\", \"drama\", \"drama\", \"drama\", \"drama\", \"dreams\", \"dreams\", \"dreams\", \"dreams\", \"dreams\", \"dreams\", \"dreams\", \"dreams\", \"drug\", \"drug\", \"drug\", \"drug\", \"drug\", \"drug\", \"dunham\", \"early\", \"early\", \"early\", \"early\", \"early\", \"early\", \"early\", \"early\", \"earth\", \"earth\", \"earths\", \"el\", \"el\", \"el\", \"el\", \"el\", \"eldest\", \"eldest\", \"elena\", \"elena\", \"elena\", \"elena\", \"elizabeth\", \"elizabeth\", \"elizabeth\", \"elle\", \"elmer\", \"elvis\", \"elvis\", \"emmy\", \"emmy\", \"encyclopedia\", \"enemy\", \"enemy\", \"enemy\", \"enemy\", \"enemy\", \"er\", \"essex\", \"esther\", \"estranged\", \"estranged\", \"estranged\", \"estranged\", \"estranged\", \"estranged\", \"et\", \"everest\", \"every\", \"every\", \"every\", \"every\", \"every\", \"every\", \"every\", \"every\", \"evil\", \"evil\", \"evil\", \"evil\", \"evil\", \"evil\", \"evocative\", \"excess\", \"excop\", \"exodus\", \"expedition\", \"expedition\", \"expedition\", \"explores\", \"explores\", \"explores\", \"explores\", \"explores\", \"falls\", \"falls\", \"falls\", \"falls\", \"falls\", \"falls\", \"falls\", \"falls\", \"family\", \"family\", \"family\", \"family\", \"family\", \"family\", \"family\", \"family\", \"fanny\", \"fant\\u00f4mas\", \"father\", \"father\", \"father\", \"father\", \"father\", \"father\", \"father\", \"father\", \"fbi\", \"fbi\", \"fbi\", \"feature\", \"feature\", \"feature\", \"feature\", \"featured\", \"features\", \"features\", \"features\", \"features\", \"features\", \"featuring\", \"featuring\", \"featuring\", \"featuring\", \"fei\", \"fernando\", \"fernando\", \"ferris\", \"fight\", \"fight\", \"fight\", \"fight\", \"fight\", \"fight\", \"fight\", \"fight\", \"film\", \"film\", \"film\", \"film\", \"film\", \"film\", \"film\", \"filmed\", \"filmed\", \"filmed\", \"filmed\", \"filmmaker\", \"filmmaker\", \"filmmaker\", \"filmmaker\", \"filmmaker\", \"filmmakers\", \"filmmakers\", \"filmmakers\", \"filmmaking\", \"filmmaking\", \"films\", \"films\", \"films\", \"films\", \"find\", \"find\", \"find\", \"find\", \"find\", \"find\", \"find\", \"find\", \"finds\", \"finds\", \"finds\", \"finds\", \"finds\", \"finds\", \"finds\", \"finds\", \"finn\", \"first\", \"first\", \"first\", \"first\", \"first\", \"first\", \"first\", \"first\", \"follows\", \"follows\", \"follows\", \"follows\", \"follows\", \"follows\", \"follows\", \"follows\", \"footage\", \"footage\", \"footage\", \"football\", \"football\", \"football\", \"forces\", \"forces\", \"forces\", \"forces\", \"forces\", \"forces\", \"fortress\", \"francois\", \"francois\", \"friend\", \"friend\", \"friend\", \"friend\", \"friend\", \"friend\", \"friend\", \"friend\", \"friends\", \"friends\", \"friends\", \"friends\", \"friends\", \"friends\", \"friends\", \"friends\", \"fu\", \"fu\", \"funniest\", \"gable\", \"galaxy\", \"game\", \"game\", \"game\", \"game\", \"game\", \"game\", \"game\", \"gang\", \"gang\", \"gang\", \"gang\", \"gang\", \"gang\", \"gangster\", \"gangster\", \"gangster\", \"gangster\", \"gangster\", \"gangster\", \"geek\", \"georges\", \"georges\", \"georges\", \"georges\", \"georges\", \"gers\", \"gers\", \"get\", \"get\", \"get\", \"get\", \"get\", \"get\", \"get\", \"get\", \"getaway\", \"getaway\", \"gets\", \"gets\", \"gets\", \"gets\", \"gets\", \"gets\", \"gets\", \"gets\", \"girl\", \"girl\", \"girl\", \"girl\", \"girl\", \"girl\", \"girl\", \"girl\", \"girlfriend\", \"girlfriend\", \"girlfriend\", \"girlfriend\", \"girlfriend\", \"girlfriend\", \"girlfriend\", \"girls\", \"girls\", \"girls\", \"girls\", \"girls\", \"girls\", \"girls\", \"girls\", \"glimpse\", \"go\", \"go\", \"go\", \"go\", \"go\", \"go\", \"go\", \"go\", \"godzilla\", \"goes\", \"goes\", \"goes\", \"goes\", \"goes\", \"goes\", \"goes\", \"goes\", \"government\", \"government\", \"government\", \"government\", \"government\", \"government\", \"government\", \"graduates\", \"graduation\", \"grandfather\", \"grandfather\", \"grandfather\", \"grandfather\", \"grandfather\", \"grandfather\", \"group\", \"group\", \"group\", \"group\", \"group\", \"group\", \"group\", \"group\", \"guitarist\", \"gym\", \"hbo\", \"headmaster\", \"heist\", \"help\", \"help\", \"help\", \"help\", \"help\", \"help\", \"help\", \"help\", \"henry\", \"henry\", \"henry\", \"henry\", \"henry\", \"henry\", \"hercules\", \"hercules\", \"hes\", \"hes\", \"hes\", \"hes\", \"hes\", \"hes\", \"hes\", \"hes\", \"high\", \"high\", \"high\", \"high\", \"high\", \"high\", \"high\", \"history\", \"history\", \"history\", \"history\", \"history\", \"history\", \"hitandrun\", \"ho\", \"hockey\", \"hockey\", \"holt\", \"home\", \"home\", \"home\", \"home\", \"home\", \"home\", \"home\", \"home\", \"homer\", \"homestead\", \"homicide\", \"homicide\", \"honour\", \"honour\", \"hop\", \"horse\", \"horse\", \"horse\", \"horse\", \"horse\", \"horse\", \"horses\", \"horses\", \"hospital\", \"hospital\", \"hospital\", \"hospital\", \"hospital\", \"hospital\", \"hospital\", \"house\", \"house\", \"house\", \"house\", \"house\", \"house\", \"house\", \"hu\", \"hu\", \"hu\", \"hu\", \"hu\", \"hu\", \"humor\", \"humor\", \"humor\", \"humor\", \"humor\", \"humor\", \"hung\", \"hung\", \"hus\", \"hus\", \"hus\", \"hus\", \"husband\", \"husband\", \"husband\", \"husband\", \"husband\", \"husband\", \"husband\", \"iconic\", \"identified\", \"il\", \"il\", \"il\", \"illness\", \"illness\", \"illness\", \"illness\", \"illness\", \"illness\", \"immature\", \"including\", \"including\", \"including\", \"including\", \"including\", \"including\", \"including\", \"including\", \"india\", \"india\", \"india\", \"india\", \"india\", \"india\", \"india\", \"industry\", \"industry\", \"industry\", \"industry\", \"infantry\", \"inmate\", \"inmate\", \"innovative\", \"inspector\", \"interpol\", \"interviews\", \"interviews\", \"intimate\", \"intimate\", \"intimate\", \"intimate\", \"invasion\", \"invasion\", \"irene\", \"irene\", \"irene\", \"irene\", \"island\", \"island\", \"island\", \"island\", \"island\", \"island\", \"island\", \"island\", \"jack\", \"jack\", \"jack\", \"jack\", \"jack\", \"jack\", \"jack\", \"jack\", \"jacqueline\", \"jacqueline\", \"jail\", \"jail\", \"jail\", \"jail\", \"jail\", \"jail\", \"james\", \"james\", \"james\", \"james\", \"james\", \"james\", \"james\", \"james\", \"janeiro\", \"janes\", \"japanese\", \"japanese\", \"japanese\", \"japanese\", \"japanese\", \"jekyll\", \"jesus\", \"jesus\", \"jewish\", \"jewish\", \"jewish\", \"jewish\", \"jewish\", \"jewish\", \"job\", \"job\", \"job\", \"job\", \"job\", \"job\", \"job\", \"john\", \"john\", \"john\", \"john\", \"john\", \"john\", \"john\", \"john\", \"journey\", \"journey\", \"journey\", \"journey\", \"journey\", \"journey\", \"journey\", \"journey\", \"jo\\u00e3o\", \"judith\", \"judith\", \"karin\", \"kay\", \"kay\", \"kay\", \"killed\", \"killed\", \"killed\", \"killed\", \"killed\", \"killed\", \"killed\", \"killer\", \"killer\", \"killer\", \"killer\", \"killer\", \"killers\", \"killers\", \"killers\", \"king\", \"king\", \"king\", \"king\", \"king\", \"king\", \"kubrick\", \"kung\", \"kung\", \"la\", \"la\", \"la\", \"la\", \"la\", \"la\", \"la\", \"las\", \"las\", \"le\", \"le\", \"le\", \"lea\", \"league\", \"lena\", \"les\", \"les\", \"lex\", \"like\", \"like\", \"like\", \"like\", \"like\", \"like\", \"like\", \"like\", \"live\", \"live\", \"live\", \"live\", \"live\", \"live\", \"live\", \"live\", \"lives\", \"lives\", \"lives\", \"lives\", \"lives\", \"lives\", \"lives\", \"lives\", \"living\", \"living\", \"living\", \"living\", \"living\", \"living\", \"living\", \"living\", \"local\", \"local\", \"local\", \"local\", \"local\", \"local\", \"local\", \"local\", \"look\", \"look\", \"look\", \"look\", \"look\", \"look\", \"look\", \"look\", \"los\", \"los\", \"los\", \"los\", \"los\", \"love\", \"love\", \"love\", \"love\", \"love\", \"love\", \"love\", \"love\", \"lucy\", \"lucy\", \"lucy\", \"lucy\", \"lucy\", \"lukas\", \"mabel\", \"make\", \"make\", \"make\", \"make\", \"make\", \"make\", \"make\", \"make\", \"margot\", \"marianne\", \"marianne\", \"marianne\", \"marie\", \"marie\", \"marie\", \"marie\", \"marie\", \"marilyn\", \"marriage\", \"marriage\", \"marriage\", \"marriage\", \"marriage\", \"marriage\", \"marriage\", \"married\", \"married\", \"married\", \"married\", \"married\", \"married\", \"married\", \"marries\", \"marries\", \"marries\", \"marries\", \"marries\", \"marries\", \"marry\", \"marry\", \"marry\", \"marry\", \"mars\", \"mars\", \"matriarch\", \"may\", \"may\", \"may\", \"may\", \"may\", \"may\", \"may\", \"may\", \"med\", \"meets\", \"meets\", \"meets\", \"meets\", \"meets\", \"meets\", \"meets\", \"meets\", \"mei\", \"mei\", \"melissa\", \"melissa\", \"men\", \"men\", \"men\", \"men\", \"men\", \"men\", \"men\", \"men\", \"mental\", \"mental\", \"mental\", \"mental\", \"mental\", \"mental\", \"mental\", \"mental\", \"mercenaries\", \"mickeys\", \"military\", \"military\", \"military\", \"military\", \"military\", \"military\", \"min\", \"miser\", \"mission\", \"mission\", \"mission\", \"mission\", \"mission\", \"mission\", \"mob\", \"mob\", \"mob\", \"mob\", \"mobster\", \"mobster\", \"mobster\", \"mobsters\", \"mobsters\", \"monastery\", \"monastery\", \"monastery\", \"monastery\", \"moran\", \"mother\", \"mother\", \"mother\", \"mother\", \"mother\", \"mother\", \"mother\", \"mothers\", \"mothers\", \"mothers\", \"mothers\", \"mothers\", \"mothers\", \"movie\", \"movie\", \"movie\", \"movie\", \"movie\", \"movie\", \"movie\", \"movie\", \"murder\", \"murder\", \"murder\", \"murder\", \"murder\", \"murder\", \"murder\", \"murdered\", \"murdered\", \"murdered\", \"murdered\", \"murdered\", \"murdered\", \"murderer\", \"murderer\", \"murderer\", \"murdering\", \"murdering\", \"murdering\", \"murders\", \"murders\", \"murders\", \"murders\", \"murders\", \"music\", \"music\", \"music\", \"music\", \"music\", \"music\", \"musical\", \"musical\", \"musical\", \"musical\", \"musical\", \"musicians\", \"must\", \"must\", \"must\", \"must\", \"must\", \"must\", \"must\", \"must\", \"mutant\", \"mutant\", \"mysterious\", \"mysterious\", \"mysterious\", \"mysterious\", \"mysterious\", \"mysterious\", \"mysterious\", \"mysterious\", \"named\", \"named\", \"named\", \"named\", \"named\", \"named\", \"named\", \"named\", \"nancy\", \"nancy\", \"nancy\", \"nancy\", \"narrated\", \"narrated\", \"narrated\", \"nazi\", \"nazi\", \"nerd\", \"nerdy\", \"new\", \"new\", \"new\", \"new\", \"new\", \"new\", \"new\", \"new\", \"nice\", \"nice\", \"nice\", \"nice\", \"nice\", \"nice\", \"night\", \"night\", \"night\", \"night\", \"night\", \"night\", \"night\", \"night\", \"novel\", \"novel\", \"novel\", \"novel\", \"novel\", \"novel\", \"nuclear\", \"nudity\", \"observations\", \"ocean\", \"ocean\", \"ocean\", \"ocean\", \"odessa\", \"old\", \"old\", \"old\", \"old\", \"old\", \"old\", \"old\", \"old\", \"orthodox\", \"overthrow\", \"overview\", \"pages\", \"palmer\", \"palmer\", \"parents\", \"parents\", \"parents\", \"parents\", \"parents\", \"parents\", \"parents\", \"paris\", \"paris\", \"paris\", \"paris\", \"paris\", \"paris\", \"paris\", \"pas\", \"patient\", \"patient\", \"patient\", \"patient\", \"patient\", \"patient\", \"patients\", \"patients\", \"patients\", \"patients\", \"patients\", \"people\", \"people\", \"people\", \"people\", \"people\", \"people\", \"people\", \"people\", \"perforce\", \"perforce\", \"perforces\", \"perforces\", \"phelps\", \"pierre\", \"pitcher\", \"planet\", \"planet\", \"planets\", \"plants\", \"plants\", \"plants\", \"player\", \"player\", \"player\", \"player\", \"player\", \"player\", \"player\", \"pok\\u00e9mon\", \"police\", \"police\", \"police\", \"police\", \"pooja\", \"portrait\", \"portrait\", \"portrait\", \"portrait\", \"postapocalyptic\", \"pour\", \"powell\", \"powell\", \"power\", \"power\", \"power\", \"power\", \"power\", \"power\", \"power\", \"power\", \"prem\", \"priest\", \"priest\", \"priest\", \"priest\", \"priest\", \"priest\", \"prison\", \"prison\", \"prison\", \"prison\", \"prison\", \"prizewinning\", \"pro\", \"pro\", \"professor\", \"professor\", \"professor\", \"professor\", \"professor\", \"professor\", \"professor\", \"psychiatric\", \"psychiatric\", \"psychiatric\", \"psychiatric\", \"psychiatrist\", \"psychiatrist\", \"psychiatrist\", \"psychiatrist\", \"psychiatrist\", \"quarterback\", \"que\", \"que\", \"qui\", \"radiation\", \"raj\", \"raj\", \"raj\", \"raj\", \"ranch\", \"ranch\", \"ranch\", \"ranch\", \"randolph\", \"rapist\", \"real\", \"real\", \"real\", \"real\", \"real\", \"real\", \"real\", \"real\", \"recorded\", \"recorded\", \"refugees\", \"refugees\", \"refugees\", \"refugees\", \"relationship\", \"relationship\", \"relationship\", \"relationship\", \"relationship\", \"relationship\", \"relationship\", \"religious\", \"religious\", \"religious\", \"religious\", \"religious\", \"religious\", \"remake\", \"remake\", \"remake\", \"reminiscent\", \"rescue\", \"rescue\", \"rescue\", \"rescue\", \"rescue\", \"rescue\", \"research\", \"research\", \"research\", \"research\", \"research\", \"research\", \"research\", \"researcher\", \"researcher\", \"returns\", \"returns\", \"returns\", \"returns\", \"returns\", \"returns\", \"returns\", \"returns\", \"reunite\", \"reunite\", \"reunite\", \"reunite\", \"reunite\", \"reunite\", \"revenge\", \"revenge\", \"revenge\", \"revenge\", \"revenge\", \"revenge\", \"rio\", \"rio\", \"rio\", \"robber\", \"robbers\", \"robbery\", \"robbing\", \"robbing\", \"robert\", \"robert\", \"robert\", \"robert\", \"robert\", \"robert\", \"robert\", \"robots\", \"robs\", \"rodrigo\", \"role\", \"role\", \"role\", \"role\", \"role\", \"role\", \"role\", \"role\", \"rossellini\", \"sa\", \"sam\", \"sam\", \"sam\", \"sam\", \"sam\", \"sam\", \"sam\", \"sams\", \"santa\", \"santas\", \"save\", \"save\", \"save\", \"save\", \"save\", \"save\", \"save\", \"school\", \"school\", \"school\", \"school\", \"school\", \"school\", \"schools\", \"schools\", \"schools\", \"schools\", \"schools\", \"scientist\", \"scientist\", \"scientist\", \"scientist\", \"scientist\", \"scientists\", \"scientists\", \"scientists\", \"scooby\", \"scoobydoo\", \"screenplay\", \"screenplay\", \"screenplay\", \"se\", \"season\", \"season\", \"season\", \"secret\", \"secret\", \"secret\", \"secret\", \"secret\", \"secret\", \"secret\", \"secret\", \"seniors\", \"serbian\", \"serial\", \"serial\", \"serial\", \"serial\", \"set\", \"set\", \"set\", \"set\", \"set\", \"set\", \"set\", \"set\", \"sharma\", \"ship\", \"ship\", \"ship\", \"ship\", \"show\", \"show\", \"show\", \"show\", \"show\", \"show\", \"show\", \"sister\", \"sister\", \"sister\", \"sister\", \"sister\", \"sister\", \"sister\", \"sketches\", \"small\", \"small\", \"small\", \"small\", \"small\", \"small\", \"small\", \"small\", \"soccer\", \"soccer\", \"soil\", \"soldiers\", \"soldiers\", \"soldiers\", \"soldiers\", \"son\", \"son\", \"son\", \"son\", \"son\", \"son\", \"son\", \"son\", \"songs\", \"songs\", \"songs\", \"sons\", \"sons\", \"sons\", \"sons\", \"sons\", \"sons\", \"soon\", \"soon\", \"soon\", \"soon\", \"soon\", \"soon\", \"soon\", \"soon\", \"sorority\", \"space\", \"space\", \"space\", \"space\", \"spaceship\", \"special\", \"special\", \"special\", \"special\", \"special\", \"special\", \"special\", \"specials\", \"standup\", \"stanley\", \"stanley\", \"stanley\", \"stanley\", \"stanley\", \"stanley\", \"star\", \"star\", \"star\", \"star\", \"star\", \"star\", \"star\", \"star\", \"stars\", \"stars\", \"stars\", \"stars\", \"stars\", \"stars\", \"stars\", \"stars\", \"stevie\", \"stop\", \"stop\", \"stop\", \"stop\", \"stop\", \"stop\", \"stop\", \"stop\", \"store\", \"store\", \"store\", \"store\", \"store\", \"stories\", \"stories\", \"stories\", \"stories\", \"stories\", \"stories\", \"stories\", \"stories\", \"story\", \"story\", \"story\", \"story\", \"story\", \"story\", \"story\", \"story\", \"student\", \"student\", \"student\", \"student\", \"student\", \"student\", \"student\", \"student\", \"students\", \"students\", \"students\", \"students\", \"students\", \"submarine\", \"surfing\", \"survivors\", \"survivors\", \"survivors\", \"suspect\", \"suspect\", \"suspect\", \"suspect\", \"suspect\", \"suspect\", \"take\", \"take\", \"take\", \"take\", \"take\", \"take\", \"take\", \"take\", \"takes\", \"takes\", \"takes\", \"takes\", \"takes\", \"takes\", \"takes\", \"takes\", \"tanya\", \"taped\", \"tarzan\", \"tarzan\", \"teacher\", \"teacher\", \"teacher\", \"teacher\", \"teacher\", \"teacher\", \"team\", \"team\", \"team\", \"team\", \"team\", \"team\", \"team\", \"teen\", \"teen\", \"teen\", \"teen\", \"teen\", \"teen\", \"teen\", \"tel\", \"tells\", \"tells\", \"tells\", \"tells\", \"tells\", \"tells\", \"tells\", \"tells\", \"terminal\", \"terminal\", \"terrorists\", \"tess\", \"theatre\", \"theatre\", \"theroux\", \"thief\", \"thief\", \"thief\", \"thief\", \"three\", \"three\", \"three\", \"three\", \"three\", \"three\", \"three\", \"three\", \"time\", \"time\", \"time\", \"time\", \"time\", \"time\", \"time\", \"time\", \"together\", \"together\", \"together\", \"together\", \"together\", \"together\", \"together\", \"together\", \"topics\", \"topsecret\", \"town\", \"town\", \"town\", \"town\", \"town\", \"town\", \"town\", \"tribe\", \"tribe\", \"troops\", \"troops\", \"troops\", \"true\", \"true\", \"true\", \"true\", \"true\", \"true\", \"true\", \"true\", \"trunk\", \"tryst\", \"uel\", \"un\", \"un\", \"un\", \"und\", \"undertake\", \"une\", \"unexplained\", \"unit\", \"unit\", \"us\", \"us\", \"us\", \"us\", \"us\", \"us\", \"us\", \"us\", \"uuno\", \"val\", \"val\", \"vegas\", \"vegas\", \"vegas\", \"vignettes\", \"village\", \"village\", \"village\", \"village\", \"village\", \"village\", \"village\", \"village\", \"viola\", \"virus\", \"virus\", \"want\", \"want\", \"want\", \"want\", \"want\", \"want\", \"want\", \"want\", \"wants\", \"wants\", \"wants\", \"wants\", \"wants\", \"wants\", \"wants\", \"wants\", \"war\", \"war\", \"war\", \"war\", \"war\", \"war\", \"war\", \"war\", \"warlord\", \"way\", \"way\", \"way\", \"way\", \"way\", \"way\", \"way\", \"way\", \"weapon\", \"weapon\", \"weapons\", \"weapons\", \"wedding\", \"wedding\", \"wedding\", \"wedding\", \"wedding\", \"wedding\", \"wedding\", \"wei\", \"whose\", \"whose\", \"whose\", \"whose\", \"whose\", \"whose\", \"whose\", \"whose\", \"wife\", \"wife\", \"wife\", \"wife\", \"wife\", \"wife\", \"wife\", \"wikipedia\", \"world\", \"world\", \"world\", \"world\", \"world\", \"world\", \"world\", \"world\", \"years\", \"years\", \"years\", \"years\", \"years\", \"years\", \"years\", \"years\", \"york\", \"york\", \"york\", \"york\", \"young\", \"young\", \"young\", \"young\", \"young\", \"young\", \"young\", \"young\", \"youngest\", \"youngest\", \"youngest\", \"zatoichi\", \"zoe\"]}, \"R\": 30, \"lambda.step\": 0.01, \"plot.opts\": {\"xlab\": \"PC1\", \"ylab\": \"PC2\"}, \"topic.order\": [1, 2, 3, 4, 5, 6, 7, 8]};\n",
       "\n",
       "function LDAvis_load_lib(url, callback){\n",
       "  var s = document.createElement('script');\n",
       "  s.src = url;\n",
       "  s.async = true;\n",
       "  s.onreadystatechange = s.onload = callback;\n",
       "  s.onerror = function(){console.warn(\"failed to load library \" + url);};\n",
       "  document.getElementsByTagName(\"head\")[0].appendChild(s);\n",
       "}\n",
       "\n",
       "if(typeof(LDAvis) !== \"undefined\"){\n",
       "   // already loaded: just create the visualization\n",
       "   !function(LDAvis){\n",
       "       new LDAvis(\"#\" + \"ldavis_el1941615935289739049668766799\", ldavis_el1941615935289739049668766799_data);\n",
       "   }(LDAvis);\n",
       "}else if(typeof define === \"function\" && define.amd){\n",
       "   // require.js is available: use it to load d3/LDAvis\n",
       "   require.config({paths: {d3: \"https://d3js.org/d3.v5\"}});\n",
       "   require([\"d3\"], function(d3){\n",
       "      window.d3 = d3;\n",
       "      LDAvis_load_lib(\"https://cdn.jsdelivr.net/gh/bmabey/pyLDAvis@3.3.1/pyLDAvis/js/ldavis.v3.0.0.js\", function(){\n",
       "        new LDAvis(\"#\" + \"ldavis_el1941615935289739049668766799\", ldavis_el1941615935289739049668766799_data);\n",
       "      });\n",
       "    });\n",
       "}else{\n",
       "    // require.js not available: dynamically load d3 & LDAvis\n",
       "    LDAvis_load_lib(\"https://d3js.org/d3.v5.js\", function(){\n",
       "         LDAvis_load_lib(\"https://cdn.jsdelivr.net/gh/bmabey/pyLDAvis@3.3.1/pyLDAvis/js/ldavis.v3.0.0.js\", function(){\n",
       "                 new LDAvis(\"#\" + \"ldavis_el1941615935289739049668766799\", ldavis_el1941615935289739049668766799_data);\n",
       "            })\n",
       "         });\n",
       "}\n",
       "</script>"
      ],
      "text/plain": [
       "<IPython.core.display.HTML object>"
      ]
     },
     "execution_count": 71,
     "metadata": {},
     "output_type": "execute_result"
    }
   ],
   "source": [
    "pyLDAvis.display(lda_display)"
   ]
  },
  {
   "cell_type": "markdown",
   "metadata": {},
   "source": [
    "### Next Steps"
   ]
  },
  {
   "cell_type": "markdown",
   "metadata": {},
   "source": [
    "To further improve the model, additional words may be removed to allow topics to have more variability. Genres may also be adjusted as there are some subcategories such as 'romcoms' which are very popular and so romance could be split between 'drama' and 'comedy' for different and possibly more accurate genres. Trying more and less genres may also help improve model performance. Overall, an exploration of genre may improve genres and create subgenres that may appeal to more people. "
   ]
  },
  {
   "cell_type": "code",
   "execution_count": null,
   "metadata": {},
   "outputs": [],
   "source": []
  },
  {
   "cell_type": "code",
   "execution_count": null,
   "metadata": {},
   "outputs": [],
   "source": []
  }
 ],
 "metadata": {
  "kernelspec": {
   "display_name": "Python 3",
   "language": "python",
   "name": "python3"
  },
  "language_info": {
   "codemirror_mode": {
    "name": "ipython",
    "version": 3
   },
   "file_extension": ".py",
   "mimetype": "text/x-python",
   "name": "python",
   "nbconvert_exporter": "python",
   "pygments_lexer": "ipython3",
   "version": "3.8.3"
  },
  "vscode": {
   "interpreter": {
    "hash": "26ebadc3bb7524f525c5139797c5a2de68e5b8f29daaaf07d924c30439e8de33"
   }
  }
 },
 "nbformat": 4,
 "nbformat_minor": 4
}
